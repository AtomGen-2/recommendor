{
  "nbformat": 4,
  "nbformat_minor": 0,
  "metadata": {
    "colab": {
      "name": "RecommendorV1.ipynb",
      "provenance": [],
      "authorship_tag": "ABX9TyMnm7mPKPIswcgdQey37H0s",
      "include_colab_link": true
    },
    "kernelspec": {
      "name": "python3",
      "display_name": "Python 3"
    },
    "language_info": {
      "name": "python"
    }
  },
  "cells": [
    {
      "cell_type": "markdown",
      "metadata": {
        "id": "view-in-github",
        "colab_type": "text"
      },
      "source": [
        "<a href=\"https://colab.research.google.com/github/AtomGen-2/recommendor/blob/main/RecommendorV1.ipynb\" target=\"_parent\"><img src=\"https://colab.research.google.com/assets/colab-badge.svg\" alt=\"Open In Colab\"/></a>"
      ]
    },
    {
      "cell_type": "code",
      "metadata": {
        "colab": {
          "base_uri": "https://localhost:8080/",
          "height": 1000
        },
        "id": "7LvOMHRmnCfx",
        "outputId": "f6db7293-8851-4639-fc65-5fd0c7632c9d"
      },
      "source": [
        "!pip install turicreate"
      ],
      "execution_count": 6,
      "outputs": [
        {
          "output_type": "stream",
          "name": "stdout",
          "text": [
            "Collecting turicreate\n",
            "  Downloading turicreate-6.4.1-cp37-cp37m-manylinux1_x86_64.whl (92.0 MB)\n",
            "\u001b[K     |████████████████████████████████| 92.0 MB 5.4 kB/s \n",
            "\u001b[?25hRequirement already satisfied: numpy in /usr/local/lib/python3.7/dist-packages (from turicreate) (1.19.5)\n",
            "Collecting numba<0.51.0\n",
            "  Downloading numba-0.50.1-cp37-cp37m-manylinux2014_x86_64.whl (3.6 MB)\n",
            "\u001b[K     |████████████████████████████████| 3.6 MB 47.3 MB/s \n",
            "\u001b[?25hRequirement already satisfied: pandas>=0.23.2 in /usr/local/lib/python3.7/dist-packages (from turicreate) (1.1.5)\n",
            "Requirement already satisfied: pillow>=5.2.0 in /usr/local/lib/python3.7/dist-packages (from turicreate) (7.1.2)\n",
            "Collecting tensorflow<2.1.0,>=2.0.0\n",
            "  Downloading tensorflow-2.0.4-cp37-cp37m-manylinux2010_x86_64.whl (86.4 MB)\n",
            "\u001b[K     |████████████████████████████████| 86.4 MB 60 kB/s \n",
            "\u001b[?25hRequirement already satisfied: scipy>=1.1.0 in /usr/local/lib/python3.7/dist-packages (from turicreate) (1.4.1)\n",
            "Requirement already satisfied: decorator>=4.0.9 in /usr/local/lib/python3.7/dist-packages (from turicreate) (4.4.2)\n",
            "Requirement already satisfied: requests>=2.9.1 in /usr/local/lib/python3.7/dist-packages (from turicreate) (2.23.0)\n",
            "Requirement already satisfied: six>=1.10.0 in /usr/local/lib/python3.7/dist-packages (from turicreate) (1.15.0)\n",
            "Collecting coremltools==3.3\n",
            "  Downloading coremltools-3.3-cp37-none-manylinux1_x86_64.whl (3.5 MB)\n",
            "\u001b[K     |████████████████████████████████| 3.5 MB 16.7 MB/s \n",
            "\u001b[?25hCollecting resampy==0.2.1\n",
            "  Downloading resampy-0.2.1.tar.gz (322 kB)\n",
            "\u001b[K     |████████████████████████████████| 322 kB 58.8 MB/s \n",
            "\u001b[?25hCollecting prettytable==0.7.2\n",
            "  Downloading prettytable-0.7.2.zip (28 kB)\n",
            "Requirement already satisfied: protobuf>=3.1.0 in /usr/local/lib/python3.7/dist-packages (from coremltools==3.3->turicreate) (3.17.3)\n",
            "Collecting llvmlite<0.34,>=0.33.0.dev0\n",
            "  Downloading llvmlite-0.33.0-cp37-cp37m-manylinux1_x86_64.whl (18.3 MB)\n",
            "\u001b[K     |████████████████████████████████| 18.3 MB 75 kB/s \n",
            "\u001b[?25hRequirement already satisfied: setuptools in /usr/local/lib/python3.7/dist-packages (from numba<0.51.0->turicreate) (57.4.0)\n",
            "Requirement already satisfied: python-dateutil>=2.7.3 in /usr/local/lib/python3.7/dist-packages (from pandas>=0.23.2->turicreate) (2.8.2)\n",
            "Requirement already satisfied: pytz>=2017.2 in /usr/local/lib/python3.7/dist-packages (from pandas>=0.23.2->turicreate) (2018.9)\n",
            "Requirement already satisfied: certifi>=2017.4.17 in /usr/local/lib/python3.7/dist-packages (from requests>=2.9.1->turicreate) (2021.10.8)\n",
            "Requirement already satisfied: idna<3,>=2.5 in /usr/local/lib/python3.7/dist-packages (from requests>=2.9.1->turicreate) (2.10)\n",
            "Requirement already satisfied: chardet<4,>=3.0.2 in /usr/local/lib/python3.7/dist-packages (from requests>=2.9.1->turicreate) (3.0.4)\n",
            "Requirement already satisfied: urllib3!=1.25.0,!=1.25.1,<1.26,>=1.21.1 in /usr/local/lib/python3.7/dist-packages (from requests>=2.9.1->turicreate) (1.24.3)\n",
            "Collecting tensorflow-estimator<2.1.0,>=2.0.0\n",
            "  Downloading tensorflow_estimator-2.0.1-py2.py3-none-any.whl (449 kB)\n",
            "\u001b[K     |████████████████████████████████| 449 kB 45.3 MB/s \n",
            "\u001b[?25hRequirement already satisfied: wheel>=0.26 in /usr/local/lib/python3.7/dist-packages (from tensorflow<2.1.0,>=2.0.0->turicreate) (0.37.0)\n",
            "Requirement already satisfied: absl-py>=0.7.0 in /usr/local/lib/python3.7/dist-packages (from tensorflow<2.1.0,>=2.0.0->turicreate) (0.12.0)\n",
            "Collecting keras-applications>=1.0.8\n",
            "  Downloading Keras_Applications-1.0.8-py3-none-any.whl (50 kB)\n",
            "\u001b[K     |████████████████████████████████| 50 kB 4.1 MB/s \n",
            "\u001b[?25hRequirement already satisfied: wrapt>=1.11.1 in /usr/local/lib/python3.7/dist-packages (from tensorflow<2.1.0,>=2.0.0->turicreate) (1.13.3)\n",
            "Requirement already satisfied: google-pasta>=0.1.6 in /usr/local/lib/python3.7/dist-packages (from tensorflow<2.1.0,>=2.0.0->turicreate) (0.2.0)\n",
            "Requirement already satisfied: grpcio>=1.8.6 in /usr/local/lib/python3.7/dist-packages (from tensorflow<2.1.0,>=2.0.0->turicreate) (1.41.1)\n",
            "Collecting h5py<=2.10.0\n",
            "  Downloading h5py-2.10.0-cp37-cp37m-manylinux1_x86_64.whl (2.9 MB)\n",
            "\u001b[K     |████████████████████████████████| 2.9 MB 45.3 MB/s \n",
            "\u001b[?25hCollecting numpy\n",
            "  Downloading numpy-1.18.5-cp37-cp37m-manylinux1_x86_64.whl (20.1 MB)\n",
            "\u001b[K     |████████████████████████████████| 20.1 MB 2.1 MB/s \n",
            "\u001b[?25hCollecting tensorboard<2.1.0,>=2.0.0\n",
            "  Downloading tensorboard-2.0.2-py3-none-any.whl (3.8 MB)\n",
            "\u001b[K     |████████████████████████████████| 3.8 MB 39.2 MB/s \n",
            "\u001b[?25hRequirement already satisfied: termcolor>=1.1.0 in /usr/local/lib/python3.7/dist-packages (from tensorflow<2.1.0,>=2.0.0->turicreate) (1.1.0)\n",
            "Requirement already satisfied: keras-preprocessing>=1.0.5 in /usr/local/lib/python3.7/dist-packages (from tensorflow<2.1.0,>=2.0.0->turicreate) (1.1.2)\n",
            "Requirement already satisfied: astor>=0.6.0 in /usr/local/lib/python3.7/dist-packages (from tensorflow<2.1.0,>=2.0.0->turicreate) (0.8.1)\n",
            "Collecting gast==0.2.2\n",
            "  Downloading gast-0.2.2.tar.gz (10 kB)\n",
            "Requirement already satisfied: opt-einsum>=2.3.2 in /usr/local/lib/python3.7/dist-packages (from tensorflow<2.1.0,>=2.0.0->turicreate) (3.3.0)\n",
            "Requirement already satisfied: werkzeug>=0.11.15 in /usr/local/lib/python3.7/dist-packages (from tensorboard<2.1.0,>=2.0.0->tensorflow<2.1.0,>=2.0.0->turicreate) (1.0.1)\n",
            "Requirement already satisfied: markdown>=2.6.8 in /usr/local/lib/python3.7/dist-packages (from tensorboard<2.1.0,>=2.0.0->tensorflow<2.1.0,>=2.0.0->turicreate) (3.3.4)\n",
            "Requirement already satisfied: google-auth-oauthlib<0.5,>=0.4.1 in /usr/local/lib/python3.7/dist-packages (from tensorboard<2.1.0,>=2.0.0->tensorflow<2.1.0,>=2.0.0->turicreate) (0.4.6)\n",
            "Requirement already satisfied: google-auth<2,>=1.6.3 in /usr/local/lib/python3.7/dist-packages (from tensorboard<2.1.0,>=2.0.0->tensorflow<2.1.0,>=2.0.0->turicreate) (1.35.0)\n",
            "Requirement already satisfied: cachetools<5.0,>=2.0.0 in /usr/local/lib/python3.7/dist-packages (from google-auth<2,>=1.6.3->tensorboard<2.1.0,>=2.0.0->tensorflow<2.1.0,>=2.0.0->turicreate) (4.2.4)\n",
            "Requirement already satisfied: rsa<5,>=3.1.4 in /usr/local/lib/python3.7/dist-packages (from google-auth<2,>=1.6.3->tensorboard<2.1.0,>=2.0.0->tensorflow<2.1.0,>=2.0.0->turicreate) (4.7.2)\n",
            "Requirement already satisfied: pyasn1-modules>=0.2.1 in /usr/local/lib/python3.7/dist-packages (from google-auth<2,>=1.6.3->tensorboard<2.1.0,>=2.0.0->tensorflow<2.1.0,>=2.0.0->turicreate) (0.2.8)\n",
            "Requirement already satisfied: requests-oauthlib>=0.7.0 in /usr/local/lib/python3.7/dist-packages (from google-auth-oauthlib<0.5,>=0.4.1->tensorboard<2.1.0,>=2.0.0->tensorflow<2.1.0,>=2.0.0->turicreate) (1.3.0)\n",
            "Requirement already satisfied: importlib-metadata in /usr/local/lib/python3.7/dist-packages (from markdown>=2.6.8->tensorboard<2.1.0,>=2.0.0->tensorflow<2.1.0,>=2.0.0->turicreate) (4.8.2)\n",
            "Requirement already satisfied: pyasn1<0.5.0,>=0.4.6 in /usr/local/lib/python3.7/dist-packages (from pyasn1-modules>=0.2.1->google-auth<2,>=1.6.3->tensorboard<2.1.0,>=2.0.0->tensorflow<2.1.0,>=2.0.0->turicreate) (0.4.8)\n",
            "Requirement already satisfied: oauthlib>=3.0.0 in /usr/local/lib/python3.7/dist-packages (from requests-oauthlib>=0.7.0->google-auth-oauthlib<0.5,>=0.4.1->tensorboard<2.1.0,>=2.0.0->tensorflow<2.1.0,>=2.0.0->turicreate) (3.1.1)\n",
            "Requirement already satisfied: zipp>=0.5 in /usr/local/lib/python3.7/dist-packages (from importlib-metadata->markdown>=2.6.8->tensorboard<2.1.0,>=2.0.0->tensorflow<2.1.0,>=2.0.0->turicreate) (3.6.0)\n",
            "Requirement already satisfied: typing-extensions>=3.6.4 in /usr/local/lib/python3.7/dist-packages (from importlib-metadata->markdown>=2.6.8->tensorboard<2.1.0,>=2.0.0->tensorflow<2.1.0,>=2.0.0->turicreate) (3.10.0.2)\n",
            "Building wheels for collected packages: prettytable, resampy, gast\n",
            "  Building wheel for prettytable (setup.py) ... \u001b[?25l\u001b[?25hdone\n",
            "  Created wheel for prettytable: filename=prettytable-0.7.2-py3-none-any.whl size=13714 sha256=b03c2788d29aba3738b48a3337289a1725199f2210fa966722d78e12d46f5abf\n",
            "  Stored in directory: /root/.cache/pip/wheels/b2/7f/f6/f180315b584f00445045ff1699b550fa895d09471337ce21c6\n",
            "  Building wheel for resampy (setup.py) ... \u001b[?25l\u001b[?25hdone\n",
            "  Created wheel for resampy: filename=resampy-0.2.1-py3-none-any.whl size=320860 sha256=b8937dc7dd3e56527f9d79cdfac8023deee7177362a8065786325e41df6da50f\n",
            "  Stored in directory: /root/.cache/pip/wheels/71/74/53/d5ceb7c5ee7a168c7d106041863e71ac3273f4a4677743a284\n",
            "  Building wheel for gast (setup.py) ... \u001b[?25l\u001b[?25hdone\n",
            "  Created wheel for gast: filename=gast-0.2.2-py3-none-any.whl size=7554 sha256=fc1500b1e564fbe79034ff0c2136e869a57712c2572203c58c340272f6802521\n",
            "  Stored in directory: /root/.cache/pip/wheels/21/7f/02/420f32a803f7d0967b48dd823da3f558c5166991bfd204eef3\n",
            "Successfully built prettytable resampy gast\n",
            "Installing collected packages: numpy, llvmlite, h5py, tensorflow-estimator, tensorboard, numba, keras-applications, gast, tensorflow, resampy, prettytable, coremltools, turicreate\n",
            "  Attempting uninstall: numpy\n",
            "    Found existing installation: numpy 1.19.5\n",
            "    Uninstalling numpy-1.19.5:\n",
            "      Successfully uninstalled numpy-1.19.5\n",
            "  Attempting uninstall: llvmlite\n",
            "    Found existing installation: llvmlite 0.34.0\n",
            "    Uninstalling llvmlite-0.34.0:\n",
            "      Successfully uninstalled llvmlite-0.34.0\n",
            "  Attempting uninstall: h5py\n",
            "    Found existing installation: h5py 3.1.0\n",
            "    Uninstalling h5py-3.1.0:\n",
            "      Successfully uninstalled h5py-3.1.0\n",
            "  Attempting uninstall: tensorflow-estimator\n",
            "    Found existing installation: tensorflow-estimator 2.7.0\n",
            "    Uninstalling tensorflow-estimator-2.7.0:\n",
            "      Successfully uninstalled tensorflow-estimator-2.7.0\n",
            "  Attempting uninstall: tensorboard\n",
            "    Found existing installation: tensorboard 2.7.0\n",
            "    Uninstalling tensorboard-2.7.0:\n",
            "      Successfully uninstalled tensorboard-2.7.0\n",
            "  Attempting uninstall: numba\n",
            "    Found existing installation: numba 0.51.2\n",
            "    Uninstalling numba-0.51.2:\n",
            "      Successfully uninstalled numba-0.51.2\n",
            "  Attempting uninstall: gast\n",
            "    Found existing installation: gast 0.4.0\n",
            "    Uninstalling gast-0.4.0:\n",
            "      Successfully uninstalled gast-0.4.0\n",
            "  Attempting uninstall: tensorflow\n",
            "    Found existing installation: tensorflow 2.7.0\n",
            "    Uninstalling tensorflow-2.7.0:\n",
            "      Successfully uninstalled tensorflow-2.7.0\n",
            "  Attempting uninstall: resampy\n",
            "    Found existing installation: resampy 0.2.2\n",
            "    Uninstalling resampy-0.2.2:\n",
            "      Successfully uninstalled resampy-0.2.2\n",
            "  Attempting uninstall: prettytable\n",
            "    Found existing installation: prettytable 2.4.0\n",
            "    Uninstalling prettytable-2.4.0:\n",
            "      Successfully uninstalled prettytable-2.4.0\n",
            "\u001b[31mERROR: pip's dependency resolver does not currently take into account all the packages that are installed. This behaviour is the source of the following dependency conflicts.\n",
            "tensorflow-probability 0.14.1 requires gast>=0.3.2, but you have gast 0.2.2 which is incompatible.\n",
            "librosa 0.8.1 requires resampy>=0.2.2, but you have resampy 0.2.1 which is incompatible.\n",
            "datascience 0.10.6 requires folium==0.2.1, but you have folium 0.8.3 which is incompatible.\n",
            "albumentations 0.1.12 requires imgaug<0.2.7,>=0.2.5, but you have imgaug 0.2.9 which is incompatible.\u001b[0m\n",
            "Successfully installed coremltools-3.3 gast-0.2.2 h5py-2.10.0 keras-applications-1.0.8 llvmlite-0.33.0 numba-0.50.1 numpy-1.18.5 prettytable-0.7.2 resampy-0.2.1 tensorboard-2.0.2 tensorflow-2.0.4 tensorflow-estimator-2.0.1 turicreate-6.4.1\n"
          ]
        },
        {
          "output_type": "display_data",
          "data": {
            "application/vnd.colab-display-data+json": {
              "pip_warning": {
                "packages": [
                  "gast",
                  "h5py",
                  "numpy",
                  "tensorboard",
                  "tensorflow"
                ]
              }
            }
          },
          "metadata": {}
        }
      ]
    },
    {
      "cell_type": "code",
      "metadata": {
        "colab": {
          "base_uri": "https://localhost:8080/"
        },
        "id": "f3fLptw_oRkP",
        "outputId": "bbab7a9c-8b38-4331-8457-d222445d2e5c"
      },
      "source": [
        "pip install scripts"
      ],
      "execution_count": 5,
      "outputs": [
        {
          "output_type": "stream",
          "name": "stdout",
          "text": [
            "Collecting scripts\n",
            "  Downloading scripts-2.0-py2.py3-none-any.whl (20 kB)\n",
            "Collecting stua\n",
            "  Downloading stua-0.2-py2.py3-none-any.whl (8.2 kB)\n",
            "Installing collected packages: stua, scripts\n",
            "Successfully installed scripts-2.0 stua-0.2\n"
          ]
        }
      ]
    },
    {
      "cell_type": "code",
      "metadata": {
        "id": "764ZMgCkmwsl"
      },
      "source": [
        "import pandas as pd\n",
        "import numpy as np\n",
        "import time\n",
        "import turicreate as tc\n",
        "from sklearn.model_selection import train_test_split\n",
        "\n",
        "import sys\n",
        "sys.path.append(\"..\")\n",
        "# import scripts.data_layer as data_layer\n",
        "import scripts"
      ],
      "execution_count": 6,
      "outputs": []
    },
    {
      "cell_type": "code",
      "metadata": {
        "id": "dSiqxQakm0lB"
      },
      "source": [
        "import requests\n",
        "url = 'https://raw.githubusercontent.com/moorissa/medium/master/items-recommender/data/recommend_1.csv'\n",
        "res = requests.get(url, allow_redirects=True)\n",
        "with open('recommend_1.csv','wb') as file:\n",
        "    file.write(res.content)\n",
        "customers = pd.read_csv('recommend_1.csv')"
      ],
      "execution_count": 10,
      "outputs": []
    },
    {
      "cell_type": "code",
      "metadata": {
        "colab": {
          "base_uri": "https://localhost:8080/",
          "height": 223
        },
        "id": "ZTOBp_hFqHKy",
        "outputId": "6a2faca9-3b5c-4753-9480-6a37a3ea74f8"
      },
      "source": [
        "print(customers.shape)\n",
        "customers.head()"
      ],
      "execution_count": 11,
      "outputs": [
        {
          "output_type": "stream",
          "name": "stdout",
          "text": [
            "(1000, 1)\n"
          ]
        },
        {
          "output_type": "execute_result",
          "data": {
            "text/html": [
              "<div>\n",
              "<style scoped>\n",
              "    .dataframe tbody tr th:only-of-type {\n",
              "        vertical-align: middle;\n",
              "    }\n",
              "\n",
              "    .dataframe tbody tr th {\n",
              "        vertical-align: top;\n",
              "    }\n",
              "\n",
              "    .dataframe thead th {\n",
              "        text-align: right;\n",
              "    }\n",
              "</style>\n",
              "<table border=\"1\" class=\"dataframe\">\n",
              "  <thead>\n",
              "    <tr style=\"text-align: right;\">\n",
              "      <th></th>\n",
              "      <th>customerId</th>\n",
              "    </tr>\n",
              "  </thead>\n",
              "  <tbody>\n",
              "    <tr>\n",
              "      <th>0</th>\n",
              "      <td>1553</td>\n",
              "    </tr>\n",
              "    <tr>\n",
              "      <th>1</th>\n",
              "      <td>20400</td>\n",
              "    </tr>\n",
              "    <tr>\n",
              "      <th>2</th>\n",
              "      <td>19750</td>\n",
              "    </tr>\n",
              "    <tr>\n",
              "      <th>3</th>\n",
              "      <td>6334</td>\n",
              "    </tr>\n",
              "    <tr>\n",
              "      <th>4</th>\n",
              "      <td>27773</td>\n",
              "    </tr>\n",
              "  </tbody>\n",
              "</table>\n",
              "</div>"
            ],
            "text/plain": [
              "   customerId\n",
              "0        1553\n",
              "1       20400\n",
              "2       19750\n",
              "3        6334\n",
              "4       27773"
            ]
          },
          "metadata": {},
          "execution_count": 11
        }
      ]
    },
    {
      "cell_type": "code",
      "metadata": {
        "id": "d7prLHfGqS5G"
      },
      "source": [
        "import requests\n",
        "url = 'https://raw.githubusercontent.com/moorissa/medium/master/items-recommender/data/trx_data.csv'\n",
        "res = requests.get(url, allow_redirects=True)\n",
        "with open('trx_data.csv','wb') as file:\n",
        "    file.write(res.content)\n",
        "transactions = pd.read_csv('trx_data.csv')"
      ],
      "execution_count": 14,
      "outputs": []
    },
    {
      "cell_type": "code",
      "metadata": {
        "colab": {
          "base_uri": "https://localhost:8080/",
          "height": 223
        },
        "id": "CwUe2ujMqqR3",
        "outputId": "fce21687-0cdd-4ba8-f511-eeb96b9d9148"
      },
      "source": [
        "print(transactions.shape)\n",
        "transactions.head()"
      ],
      "execution_count": 15,
      "outputs": [
        {
          "output_type": "stream",
          "name": "stdout",
          "text": [
            "(62483, 2)\n"
          ]
        },
        {
          "output_type": "execute_result",
          "data": {
            "text/html": [
              "<div>\n",
              "<style scoped>\n",
              "    .dataframe tbody tr th:only-of-type {\n",
              "        vertical-align: middle;\n",
              "    }\n",
              "\n",
              "    .dataframe tbody tr th {\n",
              "        vertical-align: top;\n",
              "    }\n",
              "\n",
              "    .dataframe thead th {\n",
              "        text-align: right;\n",
              "    }\n",
              "</style>\n",
              "<table border=\"1\" class=\"dataframe\">\n",
              "  <thead>\n",
              "    <tr style=\"text-align: right;\">\n",
              "      <th></th>\n",
              "      <th>customerId</th>\n",
              "      <th>products</th>\n",
              "    </tr>\n",
              "  </thead>\n",
              "  <tbody>\n",
              "    <tr>\n",
              "      <th>0</th>\n",
              "      <td>0</td>\n",
              "      <td>20</td>\n",
              "    </tr>\n",
              "    <tr>\n",
              "      <th>1</th>\n",
              "      <td>1</td>\n",
              "      <td>2|2|23|68|68|111|29|86|107|152</td>\n",
              "    </tr>\n",
              "    <tr>\n",
              "      <th>2</th>\n",
              "      <td>2</td>\n",
              "      <td>111|107|29|11|11|11|33|23</td>\n",
              "    </tr>\n",
              "    <tr>\n",
              "      <th>3</th>\n",
              "      <td>3</td>\n",
              "      <td>164|227</td>\n",
              "    </tr>\n",
              "    <tr>\n",
              "      <th>4</th>\n",
              "      <td>5</td>\n",
              "      <td>2|2</td>\n",
              "    </tr>\n",
              "  </tbody>\n",
              "</table>\n",
              "</div>"
            ],
            "text/plain": [
              "   customerId                        products\n",
              "0           0                              20\n",
              "1           1  2|2|23|68|68|111|29|86|107|152\n",
              "2           2       111|107|29|11|11|11|33|23\n",
              "3           3                         164|227\n",
              "4           5                             2|2"
            ]
          },
          "metadata": {},
          "execution_count": 15
        }
      ]
    },
    {
      "cell_type": "code",
      "metadata": {
        "colab": {
          "base_uri": "https://localhost:8080/",
          "height": 112
        },
        "id": "nAGicnNCq2jT",
        "outputId": "acd82f5b-b3da-4f06-efb4-fe3ee9a33203"
      },
      "source": [
        "# example 1: split product items\n",
        "transactions['products'] = transactions['products'].apply(lambda x: [int(i) for i in x.split('|')])\n",
        "transactions.head(2).set_index('customerId')['products'].apply(pd.Series).reset_index()"
      ],
      "execution_count": 16,
      "outputs": [
        {
          "output_type": "execute_result",
          "data": {
            "text/html": [
              "<div>\n",
              "<style scoped>\n",
              "    .dataframe tbody tr th:only-of-type {\n",
              "        vertical-align: middle;\n",
              "    }\n",
              "\n",
              "    .dataframe tbody tr th {\n",
              "        vertical-align: top;\n",
              "    }\n",
              "\n",
              "    .dataframe thead th {\n",
              "        text-align: right;\n",
              "    }\n",
              "</style>\n",
              "<table border=\"1\" class=\"dataframe\">\n",
              "  <thead>\n",
              "    <tr style=\"text-align: right;\">\n",
              "      <th></th>\n",
              "      <th>customerId</th>\n",
              "      <th>0</th>\n",
              "      <th>1</th>\n",
              "      <th>2</th>\n",
              "      <th>3</th>\n",
              "      <th>4</th>\n",
              "      <th>5</th>\n",
              "      <th>6</th>\n",
              "      <th>7</th>\n",
              "      <th>8</th>\n",
              "      <th>9</th>\n",
              "    </tr>\n",
              "  </thead>\n",
              "  <tbody>\n",
              "    <tr>\n",
              "      <th>0</th>\n",
              "      <td>0</td>\n",
              "      <td>20.0</td>\n",
              "      <td>NaN</td>\n",
              "      <td>NaN</td>\n",
              "      <td>NaN</td>\n",
              "      <td>NaN</td>\n",
              "      <td>NaN</td>\n",
              "      <td>NaN</td>\n",
              "      <td>NaN</td>\n",
              "      <td>NaN</td>\n",
              "      <td>NaN</td>\n",
              "    </tr>\n",
              "    <tr>\n",
              "      <th>1</th>\n",
              "      <td>1</td>\n",
              "      <td>2.0</td>\n",
              "      <td>2.0</td>\n",
              "      <td>23.0</td>\n",
              "      <td>68.0</td>\n",
              "      <td>68.0</td>\n",
              "      <td>111.0</td>\n",
              "      <td>29.0</td>\n",
              "      <td>86.0</td>\n",
              "      <td>107.0</td>\n",
              "      <td>152.0</td>\n",
              "    </tr>\n",
              "  </tbody>\n",
              "</table>\n",
              "</div>"
            ],
            "text/plain": [
              "   customerId     0    1     2     3     4      5     6     7      8      9\n",
              "0           0  20.0  NaN   NaN   NaN   NaN    NaN   NaN   NaN    NaN    NaN\n",
              "1           1   2.0  2.0  23.0  68.0  68.0  111.0  29.0  86.0  107.0  152.0"
            ]
          },
          "metadata": {},
          "execution_count": 16
        }
      ]
    },
    {
      "cell_type": "code",
      "metadata": {
        "colab": {
          "base_uri": "https://localhost:8080/",
          "height": 331
        },
        "id": "arFApzherCoy",
        "outputId": "b1ca337d-cb07-4e8b-af1e-ed064429e7fd"
      },
      "source": [
        "# example 2: organize a given table into a dataframe with customerId, single productId, and purchase count\n",
        "pd.melt(transactions.head(2).set_index('customerId')['products'].apply(pd.Series).reset_index(), \n",
        "             id_vars=['customerId'],\n",
        "             value_name='products') \\\n",
        "    .dropna().drop(['variable'], axis=1) \\\n",
        "    .groupby(['customerId', 'products']) \\\n",
        "    .agg({'products': 'count'}) \\\n",
        "    .rename(columns={'products': 'purchase_count'}) \\\n",
        "    .reset_index() \\\n",
        "    .rename(columns={'products': 'productId'})"
      ],
      "execution_count": 17,
      "outputs": [
        {
          "output_type": "execute_result",
          "data": {
            "text/html": [
              "<div>\n",
              "<style scoped>\n",
              "    .dataframe tbody tr th:only-of-type {\n",
              "        vertical-align: middle;\n",
              "    }\n",
              "\n",
              "    .dataframe tbody tr th {\n",
              "        vertical-align: top;\n",
              "    }\n",
              "\n",
              "    .dataframe thead th {\n",
              "        text-align: right;\n",
              "    }\n",
              "</style>\n",
              "<table border=\"1\" class=\"dataframe\">\n",
              "  <thead>\n",
              "    <tr style=\"text-align: right;\">\n",
              "      <th></th>\n",
              "      <th>customerId</th>\n",
              "      <th>productId</th>\n",
              "      <th>purchase_count</th>\n",
              "    </tr>\n",
              "  </thead>\n",
              "  <tbody>\n",
              "    <tr>\n",
              "      <th>0</th>\n",
              "      <td>0</td>\n",
              "      <td>20.0</td>\n",
              "      <td>1</td>\n",
              "    </tr>\n",
              "    <tr>\n",
              "      <th>1</th>\n",
              "      <td>1</td>\n",
              "      <td>2.0</td>\n",
              "      <td>2</td>\n",
              "    </tr>\n",
              "    <tr>\n",
              "      <th>2</th>\n",
              "      <td>1</td>\n",
              "      <td>23.0</td>\n",
              "      <td>1</td>\n",
              "    </tr>\n",
              "    <tr>\n",
              "      <th>3</th>\n",
              "      <td>1</td>\n",
              "      <td>29.0</td>\n",
              "      <td>1</td>\n",
              "    </tr>\n",
              "    <tr>\n",
              "      <th>4</th>\n",
              "      <td>1</td>\n",
              "      <td>68.0</td>\n",
              "      <td>2</td>\n",
              "    </tr>\n",
              "    <tr>\n",
              "      <th>5</th>\n",
              "      <td>1</td>\n",
              "      <td>86.0</td>\n",
              "      <td>1</td>\n",
              "    </tr>\n",
              "    <tr>\n",
              "      <th>6</th>\n",
              "      <td>1</td>\n",
              "      <td>107.0</td>\n",
              "      <td>1</td>\n",
              "    </tr>\n",
              "    <tr>\n",
              "      <th>7</th>\n",
              "      <td>1</td>\n",
              "      <td>111.0</td>\n",
              "      <td>1</td>\n",
              "    </tr>\n",
              "    <tr>\n",
              "      <th>8</th>\n",
              "      <td>1</td>\n",
              "      <td>152.0</td>\n",
              "      <td>1</td>\n",
              "    </tr>\n",
              "  </tbody>\n",
              "</table>\n",
              "</div>"
            ],
            "text/plain": [
              "   customerId  productId  purchase_count\n",
              "0           0       20.0               1\n",
              "1           1        2.0               2\n",
              "2           1       23.0               1\n",
              "3           1       29.0               1\n",
              "4           1       68.0               2\n",
              "5           1       86.0               1\n",
              "6           1      107.0               1\n",
              "7           1      111.0               1\n",
              "8           1      152.0               1"
            ]
          },
          "metadata": {},
          "execution_count": 17
        }
      ]
    },
    {
      "cell_type": "code",
      "metadata": {
        "id": "yrkWbhTTrGfV"
      },
      "source": [
        "data = pd.melt(transactions.set_index('customerId')['products'].apply(pd.Series).reset_index(), \n",
        "             id_vars=['customerId'],\n",
        "             value_name='products') \\\n",
        "    .dropna().drop(['variable'], axis=1) \\\n",
        "    .groupby(['customerId', 'products']) \\\n",
        "    .agg({'products': 'count'}) \\\n",
        "    .rename(columns={'products': 'purchase_count'}) \\\n",
        "    .reset_index() \\\n",
        "    .rename(columns={'products': 'productId'})\n",
        "data['productId'] = data['productId'].astype(np.int64)"
      ],
      "execution_count": 18,
      "outputs": []
    },
    {
      "cell_type": "code",
      "metadata": {
        "colab": {
          "base_uri": "https://localhost:8080/"
        },
        "id": "Q09qa5Rhsfjp",
        "outputId": "768d9985-ef76-4470-d93c-255f84115d94"
      },
      "source": [
        "print(data.shape)\n",
        "data.head"
      ],
      "execution_count": 19,
      "outputs": [
        {
          "output_type": "stream",
          "name": "stdout",
          "text": [
            "(133585, 3)\n"
          ]
        },
        {
          "output_type": "execute_result",
          "data": {
            "text/plain": [
              "<bound method NDFrame.head of         customerId  productId  purchase_count\n",
              "0                0          1               2\n",
              "1                0         13               1\n",
              "2                0         19               3\n",
              "3                0         20               1\n",
              "4                0         31               2\n",
              "...            ...        ...             ...\n",
              "133580       28596        211               3\n",
              "133581       28596        255               1\n",
              "133582       28598        212               1\n",
              "133583       28604        282               1\n",
              "133584       28605         92               1\n",
              "\n",
              "[133585 rows x 3 columns]>"
            ]
          },
          "metadata": {},
          "execution_count": 19
        }
      ]
    },
    {
      "cell_type": "code",
      "metadata": {
        "id": "Dk_-G9bhs1e_"
      },
      "source": [
        "def create_data_dummy(data):\n",
        "    data_dummy = data.copy()\n",
        "    data_dummy['purchase_dummy'] = 1\n",
        "    return data_dummy\n",
        "data_dummy = create_data_dummy(data)"
      ],
      "execution_count": 20,
      "outputs": []
    },
    {
      "cell_type": "code",
      "metadata": {
        "id": "RVgO8BP1tAjS"
      },
      "source": [
        "df_matrix = pd.pivot_table(data, values='purchase_count', index='customerId', columns='productId')"
      ],
      "execution_count": 21,
      "outputs": []
    },
    {
      "cell_type": "code",
      "metadata": {
        "id": "1ev_JhCVtEqb"
      },
      "source": [
        "df_matrix_norm = (df_matrix-df_matrix.min())/(df_matrix.max()-df_matrix.min())"
      ],
      "execution_count": 22,
      "outputs": []
    },
    {
      "cell_type": "code",
      "metadata": {
        "colab": {
          "base_uri": "https://localhost:8080/",
          "height": 223
        },
        "id": "DVklg7HytPrM",
        "outputId": "03eee9ad-331c-4df7-cd75-43a2aaea9dda"
      },
      "source": [
        "# create a table for input to the modeling\n",
        "\n",
        "d = df_matrix_norm.reset_index()\n",
        "d.index.names = ['scaled_purchase_freq']\n",
        "data_norm = pd.melt(d, id_vars=['customerId'], value_name='scaled_purchase_freq').dropna()\n",
        "print(data_norm.shape)\n",
        "data_norm.head()\n"
      ],
      "execution_count": 23,
      "outputs": [
        {
          "output_type": "stream",
          "name": "stdout",
          "text": [
            "(133585, 3)\n"
          ]
        },
        {
          "output_type": "execute_result",
          "data": {
            "text/html": [
              "<div>\n",
              "<style scoped>\n",
              "    .dataframe tbody tr th:only-of-type {\n",
              "        vertical-align: middle;\n",
              "    }\n",
              "\n",
              "    .dataframe tbody tr th {\n",
              "        vertical-align: top;\n",
              "    }\n",
              "\n",
              "    .dataframe thead th {\n",
              "        text-align: right;\n",
              "    }\n",
              "</style>\n",
              "<table border=\"1\" class=\"dataframe\">\n",
              "  <thead>\n",
              "    <tr style=\"text-align: right;\">\n",
              "      <th></th>\n",
              "      <th>customerId</th>\n",
              "      <th>productId</th>\n",
              "      <th>scaled_purchase_freq</th>\n",
              "    </tr>\n",
              "  </thead>\n",
              "  <tbody>\n",
              "    <tr>\n",
              "      <th>9</th>\n",
              "      <td>9</td>\n",
              "      <td>0</td>\n",
              "      <td>0.133333</td>\n",
              "    </tr>\n",
              "    <tr>\n",
              "      <th>25</th>\n",
              "      <td>25</td>\n",
              "      <td>0</td>\n",
              "      <td>0.133333</td>\n",
              "    </tr>\n",
              "    <tr>\n",
              "      <th>32</th>\n",
              "      <td>33</td>\n",
              "      <td>0</td>\n",
              "      <td>0.133333</td>\n",
              "    </tr>\n",
              "    <tr>\n",
              "      <th>35</th>\n",
              "      <td>36</td>\n",
              "      <td>0</td>\n",
              "      <td>0.133333</td>\n",
              "    </tr>\n",
              "    <tr>\n",
              "      <th>43</th>\n",
              "      <td>44</td>\n",
              "      <td>0</td>\n",
              "      <td>0.133333</td>\n",
              "    </tr>\n",
              "  </tbody>\n",
              "</table>\n",
              "</div>"
            ],
            "text/plain": [
              "    customerId productId  scaled_purchase_freq\n",
              "9            9         0              0.133333\n",
              "25          25         0              0.133333\n",
              "32          33         0              0.133333\n",
              "35          36         0              0.133333\n",
              "43          44         0              0.133333"
            ]
          },
          "metadata": {},
          "execution_count": 23
        }
      ]
    },
    {
      "cell_type": "code",
      "metadata": {
        "id": "0JtPBrUitxqi"
      },
      "source": [
        "def normalize_data(data):\n",
        "    df_matrix = pd.pivot_table(data, values='purchase_count', index='customerId', columns='productId')\n",
        "    df_matrix_norm = (df_matrix-df_matrix.min())/(df_matrix.max()-df_matrix.min())\n",
        "    d = df_matrix_norm.reset_index()\n",
        "    d.index.names = ['scaled_purchase_freq']\n",
        "    return pd.melt(d, id_vars=['customerId'], value_name='scaled_purchase_freq').dropna()"
      ],
      "execution_count": 24,
      "outputs": []
    },
    {
      "cell_type": "code",
      "metadata": {
        "id": "5TuwvXJBt0rB"
      },
      "source": [
        "def split_data(data):\n",
        "    '''\n",
        "    Splits dataset into training and test set.\n",
        "    \n",
        "    Args:\n",
        "        data (pandas.DataFrame)\n",
        "        \n",
        "    Returns\n",
        "        train_data (tc.SFrame)\n",
        "        test_data (tc.SFrame)\n",
        "    '''\n",
        "    train, test = train_test_split(data, test_size = .2)\n",
        "    train_data = tc.SFrame(train)\n",
        "    test_data = tc.SFrame(test)\n",
        "    return train_data, test_data"
      ],
      "execution_count": 25,
      "outputs": []
    },
    {
      "cell_type": "code",
      "metadata": {
        "id": "fCBjf73ft7wx"
      },
      "source": [
        "train_data, test_data = split_data(data)\n",
        "train_data_dummy, test_data_dummy = split_data(data_dummy)\n",
        "train_data_norm, test_data_norm = split_data(data_norm)"
      ],
      "execution_count": 26,
      "outputs": []
    },
    {
      "cell_type": "code",
      "metadata": {
        "id": "MKwjweWGuDpo"
      },
      "source": [
        "\n",
        "# variables to define field names\n",
        "user_id = 'customerId'\n",
        "item_id = 'productId'\n",
        "target = 'purchase_count'\n",
        "users_to_recommend = list(transactions[user_id])\n",
        "n_rec = 10 # number of items to recommend\n",
        "n_display = 30"
      ],
      "execution_count": 30,
      "outputs": []
    },
    {
      "cell_type": "code",
      "metadata": {
        "colab": {
          "base_uri": "https://localhost:8080/",
          "height": 87
        },
        "id": "9c9vKoCYvQvS",
        "outputId": "72fbf6c5-bfeb-49ac-a036-c88a6457ab34"
      },
      "source": [
        "popularity_model = tc.popularity_recommender.create(train_data, \n",
        "                                                    user_id=user_id, \n",
        "                                                    item_id=item_id, \n",
        "                                                    target=target)"
      ],
      "execution_count": 31,
      "outputs": [
        {
          "output_type": "display_data",
          "data": {
            "text/html": [
              "<pre>Preparing data set.</pre>"
            ],
            "text/plain": [
              "Preparing data set."
            ]
          },
          "metadata": {}
        },
        {
          "output_type": "display_data",
          "data": {
            "text/html": [
              "<pre>    Data has 106868 observations with 23322 users and 300 items.</pre>"
            ],
            "text/plain": [
              "    Data has 106868 observations with 23322 users and 300 items."
            ]
          },
          "metadata": {}
        },
        {
          "output_type": "display_data",
          "data": {
            "text/html": [
              "<pre>    Data prepared in: 0.169642s</pre>"
            ],
            "text/plain": [
              "    Data prepared in: 0.169642s"
            ]
          },
          "metadata": {}
        },
        {
          "output_type": "display_data",
          "data": {
            "text/html": [
              "<pre>106868 observations to process; with 300 unique items.</pre>"
            ],
            "text/plain": [
              "106868 observations to process; with 300 unique items."
            ]
          },
          "metadata": {}
        }
      ]
    },
    {
      "cell_type": "code",
      "metadata": {
        "colab": {
          "base_uri": "https://localhost:8080/",
          "height": 1000
        },
        "id": "zml-NPtLuxTV",
        "outputId": "bf77159c-556f-42f7-ba0c-31b45666caf6"
      },
      "source": [
        "# Get recommendations for a list of users to recommend (from customers file)\n",
        "# Printed below is head / top 30 rows for first 3 customers with 10 recommendations each\n",
        "\n",
        "popularity_recomm = popularity_model.recommend(users=users_to_recommend, k=n_rec)\n",
        "popularity_recomm.print_rows(n_display)\n"
      ],
      "execution_count": 32,
      "outputs": [
        {
          "output_type": "display_data",
          "data": {
            "text/html": [
              "<pre>recommendations finished on 1000/62483 queries. users per second: 106929</pre>"
            ],
            "text/plain": [
              "recommendations finished on 1000/62483 queries. users per second: 106929"
            ]
          },
          "metadata": {}
        },
        {
          "output_type": "display_data",
          "data": {
            "text/html": [
              "<pre>recommendations finished on 2000/62483 queries. users per second: 108998</pre>"
            ],
            "text/plain": [
              "recommendations finished on 2000/62483 queries. users per second: 108998"
            ]
          },
          "metadata": {}
        },
        {
          "output_type": "display_data",
          "data": {
            "text/html": [
              "<pre>recommendations finished on 3000/62483 queries. users per second: 113114</pre>"
            ],
            "text/plain": [
              "recommendations finished on 3000/62483 queries. users per second: 113114"
            ]
          },
          "metadata": {}
        },
        {
          "output_type": "display_data",
          "data": {
            "text/html": [
              "<pre>recommendations finished on 4000/62483 queries. users per second: 113911</pre>"
            ],
            "text/plain": [
              "recommendations finished on 4000/62483 queries. users per second: 113911"
            ]
          },
          "metadata": {}
        },
        {
          "output_type": "display_data",
          "data": {
            "text/html": [
              "<pre>recommendations finished on 5000/62483 queries. users per second: 106505</pre>"
            ],
            "text/plain": [
              "recommendations finished on 5000/62483 queries. users per second: 106505"
            ]
          },
          "metadata": {}
        },
        {
          "output_type": "display_data",
          "data": {
            "text/html": [
              "<pre>recommendations finished on 6000/62483 queries. users per second: 105134</pre>"
            ],
            "text/plain": [
              "recommendations finished on 6000/62483 queries. users per second: 105134"
            ]
          },
          "metadata": {}
        },
        {
          "output_type": "display_data",
          "data": {
            "text/html": [
              "<pre>recommendations finished on 7000/62483 queries. users per second: 105729</pre>"
            ],
            "text/plain": [
              "recommendations finished on 7000/62483 queries. users per second: 105729"
            ]
          },
          "metadata": {}
        },
        {
          "output_type": "display_data",
          "data": {
            "text/html": [
              "<pre>recommendations finished on 8000/62483 queries. users per second: 104746</pre>"
            ],
            "text/plain": [
              "recommendations finished on 8000/62483 queries. users per second: 104746"
            ]
          },
          "metadata": {}
        },
        {
          "output_type": "display_data",
          "data": {
            "text/html": [
              "<pre>recommendations finished on 9000/62483 queries. users per second: 106958</pre>"
            ],
            "text/plain": [
              "recommendations finished on 9000/62483 queries. users per second: 106958"
            ]
          },
          "metadata": {}
        },
        {
          "output_type": "display_data",
          "data": {
            "text/html": [
              "<pre>recommendations finished on 10000/62483 queries. users per second: 106578</pre>"
            ],
            "text/plain": [
              "recommendations finished on 10000/62483 queries. users per second: 106578"
            ]
          },
          "metadata": {}
        },
        {
          "output_type": "display_data",
          "data": {
            "text/html": [
              "<pre>recommendations finished on 11000/62483 queries. users per second: 107534</pre>"
            ],
            "text/plain": [
              "recommendations finished on 11000/62483 queries. users per second: 107534"
            ]
          },
          "metadata": {}
        },
        {
          "output_type": "display_data",
          "data": {
            "text/html": [
              "<pre>recommendations finished on 12000/62483 queries. users per second: 106441</pre>"
            ],
            "text/plain": [
              "recommendations finished on 12000/62483 queries. users per second: 106441"
            ]
          },
          "metadata": {}
        },
        {
          "output_type": "display_data",
          "data": {
            "text/html": [
              "<pre>recommendations finished on 13000/62483 queries. users per second: 107057</pre>"
            ],
            "text/plain": [
              "recommendations finished on 13000/62483 queries. users per second: 107057"
            ]
          },
          "metadata": {}
        },
        {
          "output_type": "display_data",
          "data": {
            "text/html": [
              "<pre>recommendations finished on 14000/62483 queries. users per second: 108420</pre>"
            ],
            "text/plain": [
              "recommendations finished on 14000/62483 queries. users per second: 108420"
            ]
          },
          "metadata": {}
        },
        {
          "output_type": "display_data",
          "data": {
            "text/html": [
              "<pre>recommendations finished on 15000/62483 queries. users per second: 107176</pre>"
            ],
            "text/plain": [
              "recommendations finished on 15000/62483 queries. users per second: 107176"
            ]
          },
          "metadata": {}
        },
        {
          "output_type": "display_data",
          "data": {
            "text/html": [
              "<pre>recommendations finished on 16000/62483 queries. users per second: 106064</pre>"
            ],
            "text/plain": [
              "recommendations finished on 16000/62483 queries. users per second: 106064"
            ]
          },
          "metadata": {}
        },
        {
          "output_type": "display_data",
          "data": {
            "text/html": [
              "<pre>recommendations finished on 17000/62483 queries. users per second: 107349</pre>"
            ],
            "text/plain": [
              "recommendations finished on 17000/62483 queries. users per second: 107349"
            ]
          },
          "metadata": {}
        },
        {
          "output_type": "display_data",
          "data": {
            "text/html": [
              "<pre>recommendations finished on 18000/62483 queries. users per second: 107733</pre>"
            ],
            "text/plain": [
              "recommendations finished on 18000/62483 queries. users per second: 107733"
            ]
          },
          "metadata": {}
        },
        {
          "output_type": "display_data",
          "data": {
            "text/html": [
              "<pre>recommendations finished on 19000/62483 queries. users per second: 107331</pre>"
            ],
            "text/plain": [
              "recommendations finished on 19000/62483 queries. users per second: 107331"
            ]
          },
          "metadata": {}
        },
        {
          "output_type": "display_data",
          "data": {
            "text/html": [
              "<pre>recommendations finished on 20000/62483 queries. users per second: 106670</pre>"
            ],
            "text/plain": [
              "recommendations finished on 20000/62483 queries. users per second: 106670"
            ]
          },
          "metadata": {}
        },
        {
          "output_type": "display_data",
          "data": {
            "text/html": [
              "<pre>recommendations finished on 21000/62483 queries. users per second: 107771</pre>"
            ],
            "text/plain": [
              "recommendations finished on 21000/62483 queries. users per second: 107771"
            ]
          },
          "metadata": {}
        },
        {
          "output_type": "display_data",
          "data": {
            "text/html": [
              "<pre>recommendations finished on 22000/62483 queries. users per second: 107779</pre>"
            ],
            "text/plain": [
              "recommendations finished on 22000/62483 queries. users per second: 107779"
            ]
          },
          "metadata": {}
        },
        {
          "output_type": "display_data",
          "data": {
            "text/html": [
              "<pre>recommendations finished on 23000/62483 queries. users per second: 107967</pre>"
            ],
            "text/plain": [
              "recommendations finished on 23000/62483 queries. users per second: 107967"
            ]
          },
          "metadata": {}
        },
        {
          "output_type": "display_data",
          "data": {
            "text/html": [
              "<pre>recommendations finished on 24000/62483 queries. users per second: 108153</pre>"
            ],
            "text/plain": [
              "recommendations finished on 24000/62483 queries. users per second: 108153"
            ]
          },
          "metadata": {}
        },
        {
          "output_type": "display_data",
          "data": {
            "text/html": [
              "<pre>recommendations finished on 25000/62483 queries. users per second: 109239</pre>"
            ],
            "text/plain": [
              "recommendations finished on 25000/62483 queries. users per second: 109239"
            ]
          },
          "metadata": {}
        },
        {
          "output_type": "display_data",
          "data": {
            "text/html": [
              "<pre>recommendations finished on 26000/62483 queries. users per second: 109577</pre>"
            ],
            "text/plain": [
              "recommendations finished on 26000/62483 queries. users per second: 109577"
            ]
          },
          "metadata": {}
        },
        {
          "output_type": "display_data",
          "data": {
            "text/html": [
              "<pre>recommendations finished on 27000/62483 queries. users per second: 110238</pre>"
            ],
            "text/plain": [
              "recommendations finished on 27000/62483 queries. users per second: 110238"
            ]
          },
          "metadata": {}
        },
        {
          "output_type": "display_data",
          "data": {
            "text/html": [
              "<pre>recommendations finished on 28000/62483 queries. users per second: 110817</pre>"
            ],
            "text/plain": [
              "recommendations finished on 28000/62483 queries. users per second: 110817"
            ]
          },
          "metadata": {}
        },
        {
          "output_type": "display_data",
          "data": {
            "text/html": [
              "<pre>recommendations finished on 29000/62483 queries. users per second: 111691</pre>"
            ],
            "text/plain": [
              "recommendations finished on 29000/62483 queries. users per second: 111691"
            ]
          },
          "metadata": {}
        },
        {
          "output_type": "display_data",
          "data": {
            "text/html": [
              "<pre>recommendations finished on 30000/62483 queries. users per second: 109687</pre>"
            ],
            "text/plain": [
              "recommendations finished on 30000/62483 queries. users per second: 109687"
            ]
          },
          "metadata": {}
        },
        {
          "output_type": "display_data",
          "data": {
            "text/html": [
              "<pre>recommendations finished on 31000/62483 queries. users per second: 110011</pre>"
            ],
            "text/plain": [
              "recommendations finished on 31000/62483 queries. users per second: 110011"
            ]
          },
          "metadata": {}
        },
        {
          "output_type": "display_data",
          "data": {
            "text/html": [
              "<pre>recommendations finished on 32000/62483 queries. users per second: 110039</pre>"
            ],
            "text/plain": [
              "recommendations finished on 32000/62483 queries. users per second: 110039"
            ]
          },
          "metadata": {}
        },
        {
          "output_type": "display_data",
          "data": {
            "text/html": [
              "<pre>recommendations finished on 33000/62483 queries. users per second: 110736</pre>"
            ],
            "text/plain": [
              "recommendations finished on 33000/62483 queries. users per second: 110736"
            ]
          },
          "metadata": {}
        },
        {
          "output_type": "display_data",
          "data": {
            "text/html": [
              "<pre>recommendations finished on 34000/62483 queries. users per second: 110680</pre>"
            ],
            "text/plain": [
              "recommendations finished on 34000/62483 queries. users per second: 110680"
            ]
          },
          "metadata": {}
        },
        {
          "output_type": "display_data",
          "data": {
            "text/html": [
              "<pre>recommendations finished on 35000/62483 queries. users per second: 110705</pre>"
            ],
            "text/plain": [
              "recommendations finished on 35000/62483 queries. users per second: 110705"
            ]
          },
          "metadata": {}
        },
        {
          "output_type": "display_data",
          "data": {
            "text/html": [
              "<pre>recommendations finished on 36000/62483 queries. users per second: 111126</pre>"
            ],
            "text/plain": [
              "recommendations finished on 36000/62483 queries. users per second: 111126"
            ]
          },
          "metadata": {}
        },
        {
          "output_type": "display_data",
          "data": {
            "text/html": [
              "<pre>recommendations finished on 37000/62483 queries. users per second: 111452</pre>"
            ],
            "text/plain": [
              "recommendations finished on 37000/62483 queries. users per second: 111452"
            ]
          },
          "metadata": {}
        },
        {
          "output_type": "display_data",
          "data": {
            "text/html": [
              "<pre>recommendations finished on 38000/62483 queries. users per second: 111440</pre>"
            ],
            "text/plain": [
              "recommendations finished on 38000/62483 queries. users per second: 111440"
            ]
          },
          "metadata": {}
        },
        {
          "output_type": "display_data",
          "data": {
            "text/html": [
              "<pre>recommendations finished on 39000/62483 queries. users per second: 111148</pre>"
            ],
            "text/plain": [
              "recommendations finished on 39000/62483 queries. users per second: 111148"
            ]
          },
          "metadata": {}
        },
        {
          "output_type": "display_data",
          "data": {
            "text/html": [
              "<pre>recommendations finished on 40000/62483 queries. users per second: 111453</pre>"
            ],
            "text/plain": [
              "recommendations finished on 40000/62483 queries. users per second: 111453"
            ]
          },
          "metadata": {}
        },
        {
          "output_type": "display_data",
          "data": {
            "text/html": [
              "<pre>recommendations finished on 41000/62483 queries. users per second: 111759</pre>"
            ],
            "text/plain": [
              "recommendations finished on 41000/62483 queries. users per second: 111759"
            ]
          },
          "metadata": {}
        },
        {
          "output_type": "display_data",
          "data": {
            "text/html": [
              "<pre>recommendations finished on 42000/62483 queries. users per second: 111719</pre>"
            ],
            "text/plain": [
              "recommendations finished on 42000/62483 queries. users per second: 111719"
            ]
          },
          "metadata": {}
        },
        {
          "output_type": "display_data",
          "data": {
            "text/html": [
              "<pre>recommendations finished on 43000/62483 queries. users per second: 111332</pre>"
            ],
            "text/plain": [
              "recommendations finished on 43000/62483 queries. users per second: 111332"
            ]
          },
          "metadata": {}
        },
        {
          "output_type": "display_data",
          "data": {
            "text/html": [
              "<pre>recommendations finished on 44000/62483 queries. users per second: 109650</pre>"
            ],
            "text/plain": [
              "recommendations finished on 44000/62483 queries. users per second: 109650"
            ]
          },
          "metadata": {}
        },
        {
          "output_type": "display_data",
          "data": {
            "text/html": [
              "<pre>recommendations finished on 45000/62483 queries. users per second: 109324</pre>"
            ],
            "text/plain": [
              "recommendations finished on 45000/62483 queries. users per second: 109324"
            ]
          },
          "metadata": {}
        },
        {
          "output_type": "display_data",
          "data": {
            "text/html": [
              "<pre>recommendations finished on 46000/62483 queries. users per second: 107966</pre>"
            ],
            "text/plain": [
              "recommendations finished on 46000/62483 queries. users per second: 107966"
            ]
          },
          "metadata": {}
        },
        {
          "output_type": "display_data",
          "data": {
            "text/html": [
              "<pre>recommendations finished on 47000/62483 queries. users per second: 107961</pre>"
            ],
            "text/plain": [
              "recommendations finished on 47000/62483 queries. users per second: 107961"
            ]
          },
          "metadata": {}
        },
        {
          "output_type": "display_data",
          "data": {
            "text/html": [
              "<pre>recommendations finished on 48000/62483 queries. users per second: 107661</pre>"
            ],
            "text/plain": [
              "recommendations finished on 48000/62483 queries. users per second: 107661"
            ]
          },
          "metadata": {}
        },
        {
          "output_type": "display_data",
          "data": {
            "text/html": [
              "<pre>recommendations finished on 49000/62483 queries. users per second: 107758</pre>"
            ],
            "text/plain": [
              "recommendations finished on 49000/62483 queries. users per second: 107758"
            ]
          },
          "metadata": {}
        },
        {
          "output_type": "display_data",
          "data": {
            "text/html": [
              "<pre>recommendations finished on 50000/62483 queries. users per second: 107744</pre>"
            ],
            "text/plain": [
              "recommendations finished on 50000/62483 queries. users per second: 107744"
            ]
          },
          "metadata": {}
        },
        {
          "output_type": "display_data",
          "data": {
            "text/html": [
              "<pre>recommendations finished on 51000/62483 queries. users per second: 107554</pre>"
            ],
            "text/plain": [
              "recommendations finished on 51000/62483 queries. users per second: 107554"
            ]
          },
          "metadata": {}
        },
        {
          "output_type": "display_data",
          "data": {
            "text/html": [
              "<pre>recommendations finished on 52000/62483 queries. users per second: 107396</pre>"
            ],
            "text/plain": [
              "recommendations finished on 52000/62483 queries. users per second: 107396"
            ]
          },
          "metadata": {}
        },
        {
          "output_type": "display_data",
          "data": {
            "text/html": [
              "<pre>recommendations finished on 53000/62483 queries. users per second: 105947</pre>"
            ],
            "text/plain": [
              "recommendations finished on 53000/62483 queries. users per second: 105947"
            ]
          },
          "metadata": {}
        },
        {
          "output_type": "display_data",
          "data": {
            "text/html": [
              "<pre>recommendations finished on 54000/62483 queries. users per second: 104654</pre>"
            ],
            "text/plain": [
              "recommendations finished on 54000/62483 queries. users per second: 104654"
            ]
          },
          "metadata": {}
        },
        {
          "output_type": "display_data",
          "data": {
            "text/html": [
              "<pre>recommendations finished on 55000/62483 queries. users per second: 104821</pre>"
            ],
            "text/plain": [
              "recommendations finished on 55000/62483 queries. users per second: 104821"
            ]
          },
          "metadata": {}
        },
        {
          "output_type": "display_data",
          "data": {
            "text/html": [
              "<pre>recommendations finished on 56000/62483 queries. users per second: 104412</pre>"
            ],
            "text/plain": [
              "recommendations finished on 56000/62483 queries. users per second: 104412"
            ]
          },
          "metadata": {}
        },
        {
          "output_type": "display_data",
          "data": {
            "text/html": [
              "<pre>recommendations finished on 57000/62483 queries. users per second: 104129</pre>"
            ],
            "text/plain": [
              "recommendations finished on 57000/62483 queries. users per second: 104129"
            ]
          },
          "metadata": {}
        },
        {
          "output_type": "display_data",
          "data": {
            "text/html": [
              "<pre>recommendations finished on 58000/62483 queries. users per second: 103947</pre>"
            ],
            "text/plain": [
              "recommendations finished on 58000/62483 queries. users per second: 103947"
            ]
          },
          "metadata": {}
        },
        {
          "output_type": "display_data",
          "data": {
            "text/html": [
              "<pre>recommendations finished on 59000/62483 queries. users per second: 103917</pre>"
            ],
            "text/plain": [
              "recommendations finished on 59000/62483 queries. users per second: 103917"
            ]
          },
          "metadata": {}
        },
        {
          "output_type": "display_data",
          "data": {
            "text/html": [
              "<pre>recommendations finished on 60000/62483 queries. users per second: 103771</pre>"
            ],
            "text/plain": [
              "recommendations finished on 60000/62483 queries. users per second: 103771"
            ]
          },
          "metadata": {}
        },
        {
          "output_type": "display_data",
          "data": {
            "text/html": [
              "<pre>recommendations finished on 61000/62483 queries. users per second: 103202</pre>"
            ],
            "text/plain": [
              "recommendations finished on 61000/62483 queries. users per second: 103202"
            ]
          },
          "metadata": {}
        },
        {
          "output_type": "display_data",
          "data": {
            "text/html": [
              "<pre>recommendations finished on 62000/62483 queries. users per second: 102962</pre>"
            ],
            "text/plain": [
              "recommendations finished on 62000/62483 queries. users per second: 102962"
            ]
          },
          "metadata": {}
        },
        {
          "output_type": "stream",
          "name": "stdout",
          "text": [
            "+------------+-----------+--------------------+------+\n",
            "| customerId | productId |       score        | rank |\n",
            "+------------+-----------+--------------------+------+\n",
            "|     0      |    132    | 3.109090909090909  |  1   |\n",
            "|     0      |     37    | 3.015748031496063  |  2   |\n",
            "|     0      |     34    |       3.004        |  3   |\n",
            "|     0      |     0     | 2.948912015137181  |  4   |\n",
            "|     0      |     27    | 2.809917355371901  |  5   |\n",
            "|     0      |    110    | 2.8012048192771086 |  6   |\n",
            "|     0      |     3     | 2.794979079497908  |  7   |\n",
            "|     0      |    248    | 2.7209302325581395 |  8   |\n",
            "|     0      |     32    | 2.6515151515151514 |  9   |\n",
            "|     0      |    230    | 2.6390977443609023 |  10  |\n",
            "|     1      |    132    | 3.109090909090909  |  1   |\n",
            "|     1      |     37    | 3.015748031496063  |  2   |\n",
            "|     1      |     34    |       3.004        |  3   |\n",
            "|     1      |     0     | 2.948912015137181  |  4   |\n",
            "|     1      |     27    | 2.809917355371901  |  5   |\n",
            "|     1      |    110    | 2.8012048192771086 |  6   |\n",
            "|     1      |     3     | 2.794979079497908  |  7   |\n",
            "|     1      |    248    | 2.7209302325581395 |  8   |\n",
            "|     1      |     32    | 2.6515151515151514 |  9   |\n",
            "|     1      |    230    | 2.6390977443609023 |  10  |\n",
            "|     2      |    132    | 3.109090909090909  |  1   |\n",
            "|     2      |     37    | 3.015748031496063  |  2   |\n",
            "|     2      |     34    |       3.004        |  3   |\n",
            "|     2      |     0     | 2.948912015137181  |  4   |\n",
            "|     2      |     27    | 2.809917355371901  |  5   |\n",
            "|     2      |    110    | 2.8012048192771086 |  6   |\n",
            "|     2      |     3     | 2.794979079497908  |  7   |\n",
            "|     2      |    248    | 2.7209302325581395 |  8   |\n",
            "|     2      |     32    | 2.6515151515151514 |  9   |\n",
            "|     2      |    230    | 2.6390977443609023 |  10  |\n",
            "+------------+-----------+--------------------+------+\n",
            "[624830 rows x 4 columns]\n",
            "\n"
          ]
        }
      ]
    },
    {
      "cell_type": "code",
      "metadata": {
        "id": "9dbIDxJYvdn6"
      },
      "source": [
        "\n",
        "# Since turicreate is very accessible library, we can define a model selection function as below\n",
        "\n",
        "def model(train_data, name, user_id, item_id, target, users_to_recommend, n_rec, n_display):\n",
        "    if name == 'popularity':\n",
        "        model = tc.popularity_recommender.create(train_data, \n",
        "                                                    user_id=user_id, \n",
        "                                                    item_id=item_id, \n",
        "                                                    target=target)\n",
        "    elif name == 'cosine':\n",
        "        model = tc.item_similarity_recommender.create(train_data, \n",
        "                                                    user_id=user_id, \n",
        "                                                    item_id=item_id, \n",
        "                                                    target=target, \n",
        "                                                    similarity_type='cosine')\n",
        "    elif name == 'pearson':\n",
        "        model = tc.item_similarity_recommender.create(train_data, \n",
        "                                                    user_id=user_id, \n",
        "                                                    item_id=item_id, \n",
        "                                                    target=target, \n",
        "                                                    similarity_type='pearson')\n",
        "        \n",
        "    recom = model.recommend(users=users_to_recommend, k=n_rec)\n",
        "    recom.print_rows(n_display)\n",
        "    return model"
      ],
      "execution_count": 33,
      "outputs": []
    },
    {
      "cell_type": "code",
      "metadata": {
        "id": "6B_kJrwSvhb0"
      },
      "source": [
        "\n",
        "# variables to define field names\n",
        "# constant variables include:\n",
        "user_id = 'customerId'\n",
        "item_id = 'productId'\n",
        "users_to_recommend = list(customers[user_id])\n",
        "n_rec = 10 # number of items to recommend\n",
        "n_display = 30 # to print the head / first few rows in a defined dataset"
      ],
      "execution_count": 34,
      "outputs": []
    },
    {
      "cell_type": "code",
      "metadata": {
        "colab": {
          "base_uri": "https://localhost:8080/",
          "height": 1000
        },
        "id": "LyYLef__vkqF",
        "outputId": "fa304c88-1c0c-448e-d8c7-a39e644a149e"
      },
      "source": [
        "# these variables will change accordingly\n",
        "name = 'popularity'\n",
        "target = 'purchase_dummy'\n",
        "pop_dummy = model(train_data_dummy, name, user_id, item_id, target, users_to_recommend, n_rec, n_display)"
      ],
      "execution_count": 35,
      "outputs": [
        {
          "output_type": "display_data",
          "data": {
            "text/html": [
              "<pre>Warning: Ignoring columns purchase_count;</pre>"
            ],
            "text/plain": [
              "Warning: Ignoring columns purchase_count;"
            ]
          },
          "metadata": {}
        },
        {
          "output_type": "display_data",
          "data": {
            "text/html": [
              "<pre>    To use these columns in scoring predictions, use a model that allows the use of additional features.</pre>"
            ],
            "text/plain": [
              "    To use these columns in scoring predictions, use a model that allows the use of additional features."
            ]
          },
          "metadata": {}
        },
        {
          "output_type": "display_data",
          "data": {
            "text/html": [
              "<pre>Preparing data set.</pre>"
            ],
            "text/plain": [
              "Preparing data set."
            ]
          },
          "metadata": {}
        },
        {
          "output_type": "display_data",
          "data": {
            "text/html": [
              "<pre>    Data has 106868 observations with 23312 users and 300 items.</pre>"
            ],
            "text/plain": [
              "    Data has 106868 observations with 23312 users and 300 items."
            ]
          },
          "metadata": {}
        },
        {
          "output_type": "display_data",
          "data": {
            "text/html": [
              "<pre>    Data prepared in: 0.158491s</pre>"
            ],
            "text/plain": [
              "    Data prepared in: 0.158491s"
            ]
          },
          "metadata": {}
        },
        {
          "output_type": "display_data",
          "data": {
            "text/html": [
              "<pre>106868 observations to process; with 300 unique items.</pre>"
            ],
            "text/plain": [
              "106868 observations to process; with 300 unique items."
            ]
          },
          "metadata": {}
        },
        {
          "output_type": "display_data",
          "data": {
            "text/html": [
              "<pre>recommendations finished on 1000/62483 queries. users per second: 109601</pre>"
            ],
            "text/plain": [
              "recommendations finished on 1000/62483 queries. users per second: 109601"
            ]
          },
          "metadata": {}
        },
        {
          "output_type": "display_data",
          "data": {
            "text/html": [
              "<pre>recommendations finished on 2000/62483 queries. users per second: 104406</pre>"
            ],
            "text/plain": [
              "recommendations finished on 2000/62483 queries. users per second: 104406"
            ]
          },
          "metadata": {}
        },
        {
          "output_type": "display_data",
          "data": {
            "text/html": [
              "<pre>recommendations finished on 3000/62483 queries. users per second: 110072</pre>"
            ],
            "text/plain": [
              "recommendations finished on 3000/62483 queries. users per second: 110072"
            ]
          },
          "metadata": {}
        },
        {
          "output_type": "display_data",
          "data": {
            "text/html": [
              "<pre>recommendations finished on 4000/62483 queries. users per second: 115607</pre>"
            ],
            "text/plain": [
              "recommendations finished on 4000/62483 queries. users per second: 115607"
            ]
          },
          "metadata": {}
        },
        {
          "output_type": "display_data",
          "data": {
            "text/html": [
              "<pre>recommendations finished on 5000/62483 queries. users per second: 118055</pre>"
            ],
            "text/plain": [
              "recommendations finished on 5000/62483 queries. users per second: 118055"
            ]
          },
          "metadata": {}
        },
        {
          "output_type": "display_data",
          "data": {
            "text/html": [
              "<pre>recommendations finished on 6000/62483 queries. users per second: 118185</pre>"
            ],
            "text/plain": [
              "recommendations finished on 6000/62483 queries. users per second: 118185"
            ]
          },
          "metadata": {}
        },
        {
          "output_type": "display_data",
          "data": {
            "text/html": [
              "<pre>recommendations finished on 7000/62483 queries. users per second: 119269</pre>"
            ],
            "text/plain": [
              "recommendations finished on 7000/62483 queries. users per second: 119269"
            ]
          },
          "metadata": {}
        },
        {
          "output_type": "display_data",
          "data": {
            "text/html": [
              "<pre>recommendations finished on 8000/62483 queries. users per second: 118487</pre>"
            ],
            "text/plain": [
              "recommendations finished on 8000/62483 queries. users per second: 118487"
            ]
          },
          "metadata": {}
        },
        {
          "output_type": "display_data",
          "data": {
            "text/html": [
              "<pre>recommendations finished on 9000/62483 queries. users per second: 117716</pre>"
            ],
            "text/plain": [
              "recommendations finished on 9000/62483 queries. users per second: 117716"
            ]
          },
          "metadata": {}
        },
        {
          "output_type": "display_data",
          "data": {
            "text/html": [
              "<pre>recommendations finished on 10000/62483 queries. users per second: 117686</pre>"
            ],
            "text/plain": [
              "recommendations finished on 10000/62483 queries. users per second: 117686"
            ]
          },
          "metadata": {}
        },
        {
          "output_type": "display_data",
          "data": {
            "text/html": [
              "<pre>recommendations finished on 11000/62483 queries. users per second: 116845</pre>"
            ],
            "text/plain": [
              "recommendations finished on 11000/62483 queries. users per second: 116845"
            ]
          },
          "metadata": {}
        },
        {
          "output_type": "display_data",
          "data": {
            "text/html": [
              "<pre>recommendations finished on 12000/62483 queries. users per second: 116464</pre>"
            ],
            "text/plain": [
              "recommendations finished on 12000/62483 queries. users per second: 116464"
            ]
          },
          "metadata": {}
        },
        {
          "output_type": "display_data",
          "data": {
            "text/html": [
              "<pre>recommendations finished on 13000/62483 queries. users per second: 115920</pre>"
            ],
            "text/plain": [
              "recommendations finished on 13000/62483 queries. users per second: 115920"
            ]
          },
          "metadata": {}
        },
        {
          "output_type": "display_data",
          "data": {
            "text/html": [
              "<pre>recommendations finished on 14000/62483 queries. users per second: 117151</pre>"
            ],
            "text/plain": [
              "recommendations finished on 14000/62483 queries. users per second: 117151"
            ]
          },
          "metadata": {}
        },
        {
          "output_type": "display_data",
          "data": {
            "text/html": [
              "<pre>recommendations finished on 15000/62483 queries. users per second: 118708</pre>"
            ],
            "text/plain": [
              "recommendations finished on 15000/62483 queries. users per second: 118708"
            ]
          },
          "metadata": {}
        },
        {
          "output_type": "display_data",
          "data": {
            "text/html": [
              "<pre>recommendations finished on 16000/62483 queries. users per second: 116813</pre>"
            ],
            "text/plain": [
              "recommendations finished on 16000/62483 queries. users per second: 116813"
            ]
          },
          "metadata": {}
        },
        {
          "output_type": "display_data",
          "data": {
            "text/html": [
              "<pre>recommendations finished on 17000/62483 queries. users per second: 117253</pre>"
            ],
            "text/plain": [
              "recommendations finished on 17000/62483 queries. users per second: 117253"
            ]
          },
          "metadata": {}
        },
        {
          "output_type": "display_data",
          "data": {
            "text/html": [
              "<pre>recommendations finished on 18000/62483 queries. users per second: 117666</pre>"
            ],
            "text/plain": [
              "recommendations finished on 18000/62483 queries. users per second: 117666"
            ]
          },
          "metadata": {}
        },
        {
          "output_type": "display_data",
          "data": {
            "text/html": [
              "<pre>recommendations finished on 19000/62483 queries. users per second: 119022</pre>"
            ],
            "text/plain": [
              "recommendations finished on 19000/62483 queries. users per second: 119022"
            ]
          },
          "metadata": {}
        },
        {
          "output_type": "display_data",
          "data": {
            "text/html": [
              "<pre>recommendations finished on 20000/62483 queries. users per second: 119304</pre>"
            ],
            "text/plain": [
              "recommendations finished on 20000/62483 queries. users per second: 119304"
            ]
          },
          "metadata": {}
        },
        {
          "output_type": "display_data",
          "data": {
            "text/html": [
              "<pre>recommendations finished on 21000/62483 queries. users per second: 119916</pre>"
            ],
            "text/plain": [
              "recommendations finished on 21000/62483 queries. users per second: 119916"
            ]
          },
          "metadata": {}
        },
        {
          "output_type": "display_data",
          "data": {
            "text/html": [
              "<pre>recommendations finished on 22000/62483 queries. users per second: 120396</pre>"
            ],
            "text/plain": [
              "recommendations finished on 22000/62483 queries. users per second: 120396"
            ]
          },
          "metadata": {}
        },
        {
          "output_type": "display_data",
          "data": {
            "text/html": [
              "<pre>recommendations finished on 23000/62483 queries. users per second: 121326</pre>"
            ],
            "text/plain": [
              "recommendations finished on 23000/62483 queries. users per second: 121326"
            ]
          },
          "metadata": {}
        },
        {
          "output_type": "display_data",
          "data": {
            "text/html": [
              "<pre>recommendations finished on 24000/62483 queries. users per second: 121497</pre>"
            ],
            "text/plain": [
              "recommendations finished on 24000/62483 queries. users per second: 121497"
            ]
          },
          "metadata": {}
        },
        {
          "output_type": "display_data",
          "data": {
            "text/html": [
              "<pre>recommendations finished on 25000/62483 queries. users per second: 121877</pre>"
            ],
            "text/plain": [
              "recommendations finished on 25000/62483 queries. users per second: 121877"
            ]
          },
          "metadata": {}
        },
        {
          "output_type": "display_data",
          "data": {
            "text/html": [
              "<pre>recommendations finished on 26000/62483 queries. users per second: 121054</pre>"
            ],
            "text/plain": [
              "recommendations finished on 26000/62483 queries. users per second: 121054"
            ]
          },
          "metadata": {}
        },
        {
          "output_type": "display_data",
          "data": {
            "text/html": [
              "<pre>recommendations finished on 27000/62483 queries. users per second: 120698</pre>"
            ],
            "text/plain": [
              "recommendations finished on 27000/62483 queries. users per second: 120698"
            ]
          },
          "metadata": {}
        },
        {
          "output_type": "display_data",
          "data": {
            "text/html": [
              "<pre>recommendations finished on 28000/62483 queries. users per second: 117227</pre>"
            ],
            "text/plain": [
              "recommendations finished on 28000/62483 queries. users per second: 117227"
            ]
          },
          "metadata": {}
        },
        {
          "output_type": "display_data",
          "data": {
            "text/html": [
              "<pre>recommendations finished on 29000/62483 queries. users per second: 117490</pre>"
            ],
            "text/plain": [
              "recommendations finished on 29000/62483 queries. users per second: 117490"
            ]
          },
          "metadata": {}
        },
        {
          "output_type": "display_data",
          "data": {
            "text/html": [
              "<pre>recommendations finished on 30000/62483 queries. users per second: 117941</pre>"
            ],
            "text/plain": [
              "recommendations finished on 30000/62483 queries. users per second: 117941"
            ]
          },
          "metadata": {}
        },
        {
          "output_type": "display_data",
          "data": {
            "text/html": [
              "<pre>recommendations finished on 31000/62483 queries. users per second: 118699</pre>"
            ],
            "text/plain": [
              "recommendations finished on 31000/62483 queries. users per second: 118699"
            ]
          },
          "metadata": {}
        },
        {
          "output_type": "display_data",
          "data": {
            "text/html": [
              "<pre>recommendations finished on 32000/62483 queries. users per second: 117701</pre>"
            ],
            "text/plain": [
              "recommendations finished on 32000/62483 queries. users per second: 117701"
            ]
          },
          "metadata": {}
        },
        {
          "output_type": "display_data",
          "data": {
            "text/html": [
              "<pre>recommendations finished on 33000/62483 queries. users per second: 117450</pre>"
            ],
            "text/plain": [
              "recommendations finished on 33000/62483 queries. users per second: 117450"
            ]
          },
          "metadata": {}
        },
        {
          "output_type": "display_data",
          "data": {
            "text/html": [
              "<pre>recommendations finished on 34000/62483 queries. users per second: 117136</pre>"
            ],
            "text/plain": [
              "recommendations finished on 34000/62483 queries. users per second: 117136"
            ]
          },
          "metadata": {}
        },
        {
          "output_type": "display_data",
          "data": {
            "text/html": [
              "<pre>recommendations finished on 35000/62483 queries. users per second: 117862</pre>"
            ],
            "text/plain": [
              "recommendations finished on 35000/62483 queries. users per second: 117862"
            ]
          },
          "metadata": {}
        },
        {
          "output_type": "display_data",
          "data": {
            "text/html": [
              "<pre>recommendations finished on 36000/62483 queries. users per second: 117981</pre>"
            ],
            "text/plain": [
              "recommendations finished on 36000/62483 queries. users per second: 117981"
            ]
          },
          "metadata": {}
        },
        {
          "output_type": "display_data",
          "data": {
            "text/html": [
              "<pre>recommendations finished on 37000/62483 queries. users per second: 118406</pre>"
            ],
            "text/plain": [
              "recommendations finished on 37000/62483 queries. users per second: 118406"
            ]
          },
          "metadata": {}
        },
        {
          "output_type": "display_data",
          "data": {
            "text/html": [
              "<pre>recommendations finished on 38000/62483 queries. users per second: 118802</pre>"
            ],
            "text/plain": [
              "recommendations finished on 38000/62483 queries. users per second: 118802"
            ]
          },
          "metadata": {}
        },
        {
          "output_type": "display_data",
          "data": {
            "text/html": [
              "<pre>recommendations finished on 39000/62483 queries. users per second: 119194</pre>"
            ],
            "text/plain": [
              "recommendations finished on 39000/62483 queries. users per second: 119194"
            ]
          },
          "metadata": {}
        },
        {
          "output_type": "display_data",
          "data": {
            "text/html": [
              "<pre>recommendations finished on 40000/62483 queries. users per second: 116468</pre>"
            ],
            "text/plain": [
              "recommendations finished on 40000/62483 queries. users per second: 116468"
            ]
          },
          "metadata": {}
        },
        {
          "output_type": "display_data",
          "data": {
            "text/html": [
              "<pre>recommendations finished on 41000/62483 queries. users per second: 116141</pre>"
            ],
            "text/plain": [
              "recommendations finished on 41000/62483 queries. users per second: 116141"
            ]
          },
          "metadata": {}
        },
        {
          "output_type": "display_data",
          "data": {
            "text/html": [
              "<pre>recommendations finished on 42000/62483 queries. users per second: 116314</pre>"
            ],
            "text/plain": [
              "recommendations finished on 42000/62483 queries. users per second: 116314"
            ]
          },
          "metadata": {}
        },
        {
          "output_type": "display_data",
          "data": {
            "text/html": [
              "<pre>recommendations finished on 43000/62483 queries. users per second: 116901</pre>"
            ],
            "text/plain": [
              "recommendations finished on 43000/62483 queries. users per second: 116901"
            ]
          },
          "metadata": {}
        },
        {
          "output_type": "display_data",
          "data": {
            "text/html": [
              "<pre>recommendations finished on 44000/62483 queries. users per second: 116918</pre>"
            ],
            "text/plain": [
              "recommendations finished on 44000/62483 queries. users per second: 116918"
            ]
          },
          "metadata": {}
        },
        {
          "output_type": "display_data",
          "data": {
            "text/html": [
              "<pre>recommendations finished on 45000/62483 queries. users per second: 116274</pre>"
            ],
            "text/plain": [
              "recommendations finished on 45000/62483 queries. users per second: 116274"
            ]
          },
          "metadata": {}
        },
        {
          "output_type": "display_data",
          "data": {
            "text/html": [
              "<pre>recommendations finished on 46000/62483 queries. users per second: 115750</pre>"
            ],
            "text/plain": [
              "recommendations finished on 46000/62483 queries. users per second: 115750"
            ]
          },
          "metadata": {}
        },
        {
          "output_type": "display_data",
          "data": {
            "text/html": [
              "<pre>recommendations finished on 47000/62483 queries. users per second: 115959</pre>"
            ],
            "text/plain": [
              "recommendations finished on 47000/62483 queries. users per second: 115959"
            ]
          },
          "metadata": {}
        },
        {
          "output_type": "display_data",
          "data": {
            "text/html": [
              "<pre>recommendations finished on 48000/62483 queries. users per second: 116000</pre>"
            ],
            "text/plain": [
              "recommendations finished on 48000/62483 queries. users per second: 116000"
            ]
          },
          "metadata": {}
        },
        {
          "output_type": "display_data",
          "data": {
            "text/html": [
              "<pre>recommendations finished on 49000/62483 queries. users per second: 115862</pre>"
            ],
            "text/plain": [
              "recommendations finished on 49000/62483 queries. users per second: 115862"
            ]
          },
          "metadata": {}
        },
        {
          "output_type": "display_data",
          "data": {
            "text/html": [
              "<pre>recommendations finished on 50000/62483 queries. users per second: 115993</pre>"
            ],
            "text/plain": [
              "recommendations finished on 50000/62483 queries. users per second: 115993"
            ]
          },
          "metadata": {}
        },
        {
          "output_type": "display_data",
          "data": {
            "text/html": [
              "<pre>recommendations finished on 51000/62483 queries. users per second: 116311</pre>"
            ],
            "text/plain": [
              "recommendations finished on 51000/62483 queries. users per second: 116311"
            ]
          },
          "metadata": {}
        },
        {
          "output_type": "display_data",
          "data": {
            "text/html": [
              "<pre>recommendations finished on 52000/62483 queries. users per second: 116291</pre>"
            ],
            "text/plain": [
              "recommendations finished on 52000/62483 queries. users per second: 116291"
            ]
          },
          "metadata": {}
        },
        {
          "output_type": "display_data",
          "data": {
            "text/html": [
              "<pre>recommendations finished on 53000/62483 queries. users per second: 116522</pre>"
            ],
            "text/plain": [
              "recommendations finished on 53000/62483 queries. users per second: 116522"
            ]
          },
          "metadata": {}
        },
        {
          "output_type": "display_data",
          "data": {
            "text/html": [
              "<pre>recommendations finished on 54000/62483 queries. users per second: 116337</pre>"
            ],
            "text/plain": [
              "recommendations finished on 54000/62483 queries. users per second: 116337"
            ]
          },
          "metadata": {}
        },
        {
          "output_type": "display_data",
          "data": {
            "text/html": [
              "<pre>recommendations finished on 55000/62483 queries. users per second: 116417</pre>"
            ],
            "text/plain": [
              "recommendations finished on 55000/62483 queries. users per second: 116417"
            ]
          },
          "metadata": {}
        },
        {
          "output_type": "display_data",
          "data": {
            "text/html": [
              "<pre>recommendations finished on 56000/62483 queries. users per second: 116447</pre>"
            ],
            "text/plain": [
              "recommendations finished on 56000/62483 queries. users per second: 116447"
            ]
          },
          "metadata": {}
        },
        {
          "output_type": "display_data",
          "data": {
            "text/html": [
              "<pre>recommendations finished on 57000/62483 queries. users per second: 116646</pre>"
            ],
            "text/plain": [
              "recommendations finished on 57000/62483 queries. users per second: 116646"
            ]
          },
          "metadata": {}
        },
        {
          "output_type": "display_data",
          "data": {
            "text/html": [
              "<pre>recommendations finished on 58000/62483 queries. users per second: 116549</pre>"
            ],
            "text/plain": [
              "recommendations finished on 58000/62483 queries. users per second: 116549"
            ]
          },
          "metadata": {}
        },
        {
          "output_type": "display_data",
          "data": {
            "text/html": [
              "<pre>recommendations finished on 59000/62483 queries. users per second: 116368</pre>"
            ],
            "text/plain": [
              "recommendations finished on 59000/62483 queries. users per second: 116368"
            ]
          },
          "metadata": {}
        },
        {
          "output_type": "display_data",
          "data": {
            "text/html": [
              "<pre>recommendations finished on 60000/62483 queries. users per second: 116068</pre>"
            ],
            "text/plain": [
              "recommendations finished on 60000/62483 queries. users per second: 116068"
            ]
          },
          "metadata": {}
        },
        {
          "output_type": "display_data",
          "data": {
            "text/html": [
              "<pre>recommendations finished on 61000/62483 queries. users per second: 116017</pre>"
            ],
            "text/plain": [
              "recommendations finished on 61000/62483 queries. users per second: 116017"
            ]
          },
          "metadata": {}
        },
        {
          "output_type": "display_data",
          "data": {
            "text/html": [
              "<pre>recommendations finished on 62000/62483 queries. users per second: 114979</pre>"
            ],
            "text/plain": [
              "recommendations finished on 62000/62483 queries. users per second: 114979"
            ]
          },
          "metadata": {}
        },
        {
          "output_type": "stream",
          "name": "stdout",
          "text": [
            "+------------+-----------+-------+------+\n",
            "| customerId | productId | score | rank |\n",
            "+------------+-----------+-------+------+\n",
            "|     0      |     8     |  1.0  |  1   |\n",
            "|     0      |    209    |  1.0  |  2   |\n",
            "|     0      |    179    |  1.0  |  3   |\n",
            "|     0      |    263    |  1.0  |  4   |\n",
            "|     0      |     61    |  1.0  |  5   |\n",
            "|     0      |    135    |  1.0  |  6   |\n",
            "|     0      |     46    |  1.0  |  7   |\n",
            "|     0      |     79    |  1.0  |  8   |\n",
            "|     0      |    243    |  1.0  |  9   |\n",
            "|     0      |    217    |  1.0  |  10  |\n",
            "|     1      |    123    |  1.0  |  1   |\n",
            "|     1      |     8     |  1.0  |  2   |\n",
            "|     1      |    209    |  1.0  |  3   |\n",
            "|     1      |    179    |  1.0  |  4   |\n",
            "|     1      |    263    |  1.0  |  5   |\n",
            "|     1      |     1     |  1.0  |  6   |\n",
            "|     1      |     46    |  1.0  |  7   |\n",
            "|     1      |     79    |  1.0  |  8   |\n",
            "|     1      |    243    |  1.0  |  9   |\n",
            "|     1      |    217    |  1.0  |  10  |\n",
            "|     2      |    209    |  1.0  |  1   |\n",
            "|     2      |    179    |  1.0  |  2   |\n",
            "|     2      |    263    |  1.0  |  3   |\n",
            "|     2      |     61    |  1.0  |  4   |\n",
            "|     2      |     1     |  1.0  |  5   |\n",
            "|     2      |    135    |  1.0  |  6   |\n",
            "|     2      |     46    |  1.0  |  7   |\n",
            "|     2      |     79    |  1.0  |  8   |\n",
            "|     2      |    243    |  1.0  |  9   |\n",
            "|     2      |    217    |  1.0  |  10  |\n",
            "+------------+-----------+-------+------+\n",
            "[624830 rows x 4 columns]\n",
            "\n"
          ]
        }
      ]
    },
    {
      "cell_type": "code",
      "metadata": {
        "colab": {
          "base_uri": "https://localhost:8080/",
          "height": 1000
        },
        "id": "McuaobcuwHBg",
        "outputId": "cba5df29-34b9-41a3-9097-afd24ca5116f"
      },
      "source": [
        "\n",
        "name = 'popularity'\n",
        "target = 'scaled_purchase_freq'\n",
        "pop_norm = model(train_data_norm, name, user_id, item_id, target, users_to_recommend, n_rec, n_display)"
      ],
      "execution_count": 36,
      "outputs": [
        {
          "output_type": "display_data",
          "data": {
            "text/html": [
              "<pre>Preparing data set.</pre>"
            ],
            "text/plain": [
              "Preparing data set."
            ]
          },
          "metadata": {}
        },
        {
          "output_type": "display_data",
          "data": {
            "text/html": [
              "<pre>    Data has 106868 observations with 23265 users and 300 items.</pre>"
            ],
            "text/plain": [
              "    Data has 106868 observations with 23265 users and 300 items."
            ]
          },
          "metadata": {}
        },
        {
          "output_type": "display_data",
          "data": {
            "text/html": [
              "<pre>    Data prepared in: 0.152648s</pre>"
            ],
            "text/plain": [
              "    Data prepared in: 0.152648s"
            ]
          },
          "metadata": {}
        },
        {
          "output_type": "display_data",
          "data": {
            "text/html": [
              "<pre>106868 observations to process; with 300 unique items.</pre>"
            ],
            "text/plain": [
              "106868 observations to process; with 300 unique items."
            ]
          },
          "metadata": {}
        },
        {
          "output_type": "display_data",
          "data": {
            "text/html": [
              "<pre>recommendations finished on 1000/62483 queries. users per second: 96089.2</pre>"
            ],
            "text/plain": [
              "recommendations finished on 1000/62483 queries. users per second: 96089.2"
            ]
          },
          "metadata": {}
        },
        {
          "output_type": "display_data",
          "data": {
            "text/html": [
              "<pre>recommendations finished on 2000/62483 queries. users per second: 108120</pre>"
            ],
            "text/plain": [
              "recommendations finished on 2000/62483 queries. users per second: 108120"
            ]
          },
          "metadata": {}
        },
        {
          "output_type": "display_data",
          "data": {
            "text/html": [
              "<pre>recommendations finished on 3000/62483 queries. users per second: 114151</pre>"
            ],
            "text/plain": [
              "recommendations finished on 3000/62483 queries. users per second: 114151"
            ]
          },
          "metadata": {}
        },
        {
          "output_type": "display_data",
          "data": {
            "text/html": [
              "<pre>recommendations finished on 4000/62483 queries. users per second: 116313</pre>"
            ],
            "text/plain": [
              "recommendations finished on 4000/62483 queries. users per second: 116313"
            ]
          },
          "metadata": {}
        },
        {
          "output_type": "display_data",
          "data": {
            "text/html": [
              "<pre>recommendations finished on 5000/62483 queries. users per second: 119537</pre>"
            ],
            "text/plain": [
              "recommendations finished on 5000/62483 queries. users per second: 119537"
            ]
          },
          "metadata": {}
        },
        {
          "output_type": "display_data",
          "data": {
            "text/html": [
              "<pre>recommendations finished on 6000/62483 queries. users per second: 118911</pre>"
            ],
            "text/plain": [
              "recommendations finished on 6000/62483 queries. users per second: 118911"
            ]
          },
          "metadata": {}
        },
        {
          "output_type": "display_data",
          "data": {
            "text/html": [
              "<pre>recommendations finished on 7000/62483 queries. users per second: 117610</pre>"
            ],
            "text/plain": [
              "recommendations finished on 7000/62483 queries. users per second: 117610"
            ]
          },
          "metadata": {}
        },
        {
          "output_type": "display_data",
          "data": {
            "text/html": [
              "<pre>recommendations finished on 8000/62483 queries. users per second: 119342</pre>"
            ],
            "text/plain": [
              "recommendations finished on 8000/62483 queries. users per second: 119342"
            ]
          },
          "metadata": {}
        },
        {
          "output_type": "display_data",
          "data": {
            "text/html": [
              "<pre>recommendations finished on 9000/62483 queries. users per second: 118387</pre>"
            ],
            "text/plain": [
              "recommendations finished on 9000/62483 queries. users per second: 118387"
            ]
          },
          "metadata": {}
        },
        {
          "output_type": "display_data",
          "data": {
            "text/html": [
              "<pre>recommendations finished on 10000/62483 queries. users per second: 119940</pre>"
            ],
            "text/plain": [
              "recommendations finished on 10000/62483 queries. users per second: 119940"
            ]
          },
          "metadata": {}
        },
        {
          "output_type": "display_data",
          "data": {
            "text/html": [
              "<pre>recommendations finished on 11000/62483 queries. users per second: 120850</pre>"
            ],
            "text/plain": [
              "recommendations finished on 11000/62483 queries. users per second: 120850"
            ]
          },
          "metadata": {}
        },
        {
          "output_type": "display_data",
          "data": {
            "text/html": [
              "<pre>recommendations finished on 12000/62483 queries. users per second: 121357</pre>"
            ],
            "text/plain": [
              "recommendations finished on 12000/62483 queries. users per second: 121357"
            ]
          },
          "metadata": {}
        },
        {
          "output_type": "display_data",
          "data": {
            "text/html": [
              "<pre>recommendations finished on 13000/62483 queries. users per second: 119295</pre>"
            ],
            "text/plain": [
              "recommendations finished on 13000/62483 queries. users per second: 119295"
            ]
          },
          "metadata": {}
        },
        {
          "output_type": "display_data",
          "data": {
            "text/html": [
              "<pre>recommendations finished on 14000/62483 queries. users per second: 119166</pre>"
            ],
            "text/plain": [
              "recommendations finished on 14000/62483 queries. users per second: 119166"
            ]
          },
          "metadata": {}
        },
        {
          "output_type": "display_data",
          "data": {
            "text/html": [
              "<pre>recommendations finished on 15000/62483 queries. users per second: 119206</pre>"
            ],
            "text/plain": [
              "recommendations finished on 15000/62483 queries. users per second: 119206"
            ]
          },
          "metadata": {}
        },
        {
          "output_type": "display_data",
          "data": {
            "text/html": [
              "<pre>recommendations finished on 16000/62483 queries. users per second: 118087</pre>"
            ],
            "text/plain": [
              "recommendations finished on 16000/62483 queries. users per second: 118087"
            ]
          },
          "metadata": {}
        },
        {
          "output_type": "display_data",
          "data": {
            "text/html": [
              "<pre>recommendations finished on 17000/62483 queries. users per second: 118287</pre>"
            ],
            "text/plain": [
              "recommendations finished on 17000/62483 queries. users per second: 118287"
            ]
          },
          "metadata": {}
        },
        {
          "output_type": "display_data",
          "data": {
            "text/html": [
              "<pre>recommendations finished on 18000/62483 queries. users per second: 118901</pre>"
            ],
            "text/plain": [
              "recommendations finished on 18000/62483 queries. users per second: 118901"
            ]
          },
          "metadata": {}
        },
        {
          "output_type": "display_data",
          "data": {
            "text/html": [
              "<pre>recommendations finished on 19000/62483 queries. users per second: 119119</pre>"
            ],
            "text/plain": [
              "recommendations finished on 19000/62483 queries. users per second: 119119"
            ]
          },
          "metadata": {}
        },
        {
          "output_type": "display_data",
          "data": {
            "text/html": [
              "<pre>recommendations finished on 20000/62483 queries. users per second: 118875</pre>"
            ],
            "text/plain": [
              "recommendations finished on 20000/62483 queries. users per second: 118875"
            ]
          },
          "metadata": {}
        },
        {
          "output_type": "display_data",
          "data": {
            "text/html": [
              "<pre>recommendations finished on 21000/62483 queries. users per second: 119164</pre>"
            ],
            "text/plain": [
              "recommendations finished on 21000/62483 queries. users per second: 119164"
            ]
          },
          "metadata": {}
        },
        {
          "output_type": "display_data",
          "data": {
            "text/html": [
              "<pre>recommendations finished on 22000/62483 queries. users per second: 120065</pre>"
            ],
            "text/plain": [
              "recommendations finished on 22000/62483 queries. users per second: 120065"
            ]
          },
          "metadata": {}
        },
        {
          "output_type": "display_data",
          "data": {
            "text/html": [
              "<pre>recommendations finished on 23000/62483 queries. users per second: 116019</pre>"
            ],
            "text/plain": [
              "recommendations finished on 23000/62483 queries. users per second: 116019"
            ]
          },
          "metadata": {}
        },
        {
          "output_type": "display_data",
          "data": {
            "text/html": [
              "<pre>recommendations finished on 24000/62483 queries. users per second: 115678</pre>"
            ],
            "text/plain": [
              "recommendations finished on 24000/62483 queries. users per second: 115678"
            ]
          },
          "metadata": {}
        },
        {
          "output_type": "display_data",
          "data": {
            "text/html": [
              "<pre>recommendations finished on 25000/62483 queries. users per second: 115996</pre>"
            ],
            "text/plain": [
              "recommendations finished on 25000/62483 queries. users per second: 115996"
            ]
          },
          "metadata": {}
        },
        {
          "output_type": "display_data",
          "data": {
            "text/html": [
              "<pre>recommendations finished on 26000/62483 queries. users per second: 113574</pre>"
            ],
            "text/plain": [
              "recommendations finished on 26000/62483 queries. users per second: 113574"
            ]
          },
          "metadata": {}
        },
        {
          "output_type": "display_data",
          "data": {
            "text/html": [
              "<pre>recommendations finished on 27000/62483 queries. users per second: 111926</pre>"
            ],
            "text/plain": [
              "recommendations finished on 27000/62483 queries. users per second: 111926"
            ]
          },
          "metadata": {}
        },
        {
          "output_type": "display_data",
          "data": {
            "text/html": [
              "<pre>recommendations finished on 28000/62483 queries. users per second: 112269</pre>"
            ],
            "text/plain": [
              "recommendations finished on 28000/62483 queries. users per second: 112269"
            ]
          },
          "metadata": {}
        },
        {
          "output_type": "display_data",
          "data": {
            "text/html": [
              "<pre>recommendations finished on 29000/62483 queries. users per second: 112715</pre>"
            ],
            "text/plain": [
              "recommendations finished on 29000/62483 queries. users per second: 112715"
            ]
          },
          "metadata": {}
        },
        {
          "output_type": "display_data",
          "data": {
            "text/html": [
              "<pre>recommendations finished on 30000/62483 queries. users per second: 113625</pre>"
            ],
            "text/plain": [
              "recommendations finished on 30000/62483 queries. users per second: 113625"
            ]
          },
          "metadata": {}
        },
        {
          "output_type": "display_data",
          "data": {
            "text/html": [
              "<pre>recommendations finished on 31000/62483 queries. users per second: 113401</pre>"
            ],
            "text/plain": [
              "recommendations finished on 31000/62483 queries. users per second: 113401"
            ]
          },
          "metadata": {}
        },
        {
          "output_type": "display_data",
          "data": {
            "text/html": [
              "<pre>recommendations finished on 32000/62483 queries. users per second: 113908</pre>"
            ],
            "text/plain": [
              "recommendations finished on 32000/62483 queries. users per second: 113908"
            ]
          },
          "metadata": {}
        },
        {
          "output_type": "display_data",
          "data": {
            "text/html": [
              "<pre>recommendations finished on 33000/62483 queries. users per second: 113839</pre>"
            ],
            "text/plain": [
              "recommendations finished on 33000/62483 queries. users per second: 113839"
            ]
          },
          "metadata": {}
        },
        {
          "output_type": "display_data",
          "data": {
            "text/html": [
              "<pre>recommendations finished on 34000/62483 queries. users per second: 114524</pre>"
            ],
            "text/plain": [
              "recommendations finished on 34000/62483 queries. users per second: 114524"
            ]
          },
          "metadata": {}
        },
        {
          "output_type": "display_data",
          "data": {
            "text/html": [
              "<pre>recommendations finished on 35000/62483 queries. users per second: 114017</pre>"
            ],
            "text/plain": [
              "recommendations finished on 35000/62483 queries. users per second: 114017"
            ]
          },
          "metadata": {}
        },
        {
          "output_type": "display_data",
          "data": {
            "text/html": [
              "<pre>recommendations finished on 36000/62483 queries. users per second: 112664</pre>"
            ],
            "text/plain": [
              "recommendations finished on 36000/62483 queries. users per second: 112664"
            ]
          },
          "metadata": {}
        },
        {
          "output_type": "display_data",
          "data": {
            "text/html": [
              "<pre>recommendations finished on 37000/62483 queries. users per second: 111885</pre>"
            ],
            "text/plain": [
              "recommendations finished on 37000/62483 queries. users per second: 111885"
            ]
          },
          "metadata": {}
        },
        {
          "output_type": "display_data",
          "data": {
            "text/html": [
              "<pre>recommendations finished on 38000/62483 queries. users per second: 112118</pre>"
            ],
            "text/plain": [
              "recommendations finished on 38000/62483 queries. users per second: 112118"
            ]
          },
          "metadata": {}
        },
        {
          "output_type": "display_data",
          "data": {
            "text/html": [
              "<pre>recommendations finished on 39000/62483 queries. users per second: 112205</pre>"
            ],
            "text/plain": [
              "recommendations finished on 39000/62483 queries. users per second: 112205"
            ]
          },
          "metadata": {}
        },
        {
          "output_type": "display_data",
          "data": {
            "text/html": [
              "<pre>recommendations finished on 40000/62483 queries. users per second: 111970</pre>"
            ],
            "text/plain": [
              "recommendations finished on 40000/62483 queries. users per second: 111970"
            ]
          },
          "metadata": {}
        },
        {
          "output_type": "display_data",
          "data": {
            "text/html": [
              "<pre>recommendations finished on 41000/62483 queries. users per second: 111828</pre>"
            ],
            "text/plain": [
              "recommendations finished on 41000/62483 queries. users per second: 111828"
            ]
          },
          "metadata": {}
        },
        {
          "output_type": "display_data",
          "data": {
            "text/html": [
              "<pre>recommendations finished on 42000/62483 queries. users per second: 112457</pre>"
            ],
            "text/plain": [
              "recommendations finished on 42000/62483 queries. users per second: 112457"
            ]
          },
          "metadata": {}
        },
        {
          "output_type": "display_data",
          "data": {
            "text/html": [
              "<pre>recommendations finished on 43000/62483 queries. users per second: 112516</pre>"
            ],
            "text/plain": [
              "recommendations finished on 43000/62483 queries. users per second: 112516"
            ]
          },
          "metadata": {}
        },
        {
          "output_type": "display_data",
          "data": {
            "text/html": [
              "<pre>recommendations finished on 44000/62483 queries. users per second: 112821</pre>"
            ],
            "text/plain": [
              "recommendations finished on 44000/62483 queries. users per second: 112821"
            ]
          },
          "metadata": {}
        },
        {
          "output_type": "display_data",
          "data": {
            "text/html": [
              "<pre>recommendations finished on 45000/62483 queries. users per second: 112237</pre>"
            ],
            "text/plain": [
              "recommendations finished on 45000/62483 queries. users per second: 112237"
            ]
          },
          "metadata": {}
        },
        {
          "output_type": "display_data",
          "data": {
            "text/html": [
              "<pre>recommendations finished on 46000/62483 queries. users per second: 112618</pre>"
            ],
            "text/plain": [
              "recommendations finished on 46000/62483 queries. users per second: 112618"
            ]
          },
          "metadata": {}
        },
        {
          "output_type": "display_data",
          "data": {
            "text/html": [
              "<pre>recommendations finished on 47000/62483 queries. users per second: 112219</pre>"
            ],
            "text/plain": [
              "recommendations finished on 47000/62483 queries. users per second: 112219"
            ]
          },
          "metadata": {}
        },
        {
          "output_type": "display_data",
          "data": {
            "text/html": [
              "<pre>recommendations finished on 48000/62483 queries. users per second: 111973</pre>"
            ],
            "text/plain": [
              "recommendations finished on 48000/62483 queries. users per second: 111973"
            ]
          },
          "metadata": {}
        },
        {
          "output_type": "display_data",
          "data": {
            "text/html": [
              "<pre>recommendations finished on 49000/62483 queries. users per second: 112235</pre>"
            ],
            "text/plain": [
              "recommendations finished on 49000/62483 queries. users per second: 112235"
            ]
          },
          "metadata": {}
        },
        {
          "output_type": "display_data",
          "data": {
            "text/html": [
              "<pre>recommendations finished on 50000/62483 queries. users per second: 112726</pre>"
            ],
            "text/plain": [
              "recommendations finished on 50000/62483 queries. users per second: 112726"
            ]
          },
          "metadata": {}
        },
        {
          "output_type": "display_data",
          "data": {
            "text/html": [
              "<pre>recommendations finished on 51000/62483 queries. users per second: 112718</pre>"
            ],
            "text/plain": [
              "recommendations finished on 51000/62483 queries. users per second: 112718"
            ]
          },
          "metadata": {}
        },
        {
          "output_type": "display_data",
          "data": {
            "text/html": [
              "<pre>recommendations finished on 52000/62483 queries. users per second: 112935</pre>"
            ],
            "text/plain": [
              "recommendations finished on 52000/62483 queries. users per second: 112935"
            ]
          },
          "metadata": {}
        },
        {
          "output_type": "display_data",
          "data": {
            "text/html": [
              "<pre>recommendations finished on 53000/62483 queries. users per second: 112930</pre>"
            ],
            "text/plain": [
              "recommendations finished on 53000/62483 queries. users per second: 112930"
            ]
          },
          "metadata": {}
        },
        {
          "output_type": "display_data",
          "data": {
            "text/html": [
              "<pre>recommendations finished on 54000/62483 queries. users per second: 113412</pre>"
            ],
            "text/plain": [
              "recommendations finished on 54000/62483 queries. users per second: 113412"
            ]
          },
          "metadata": {}
        },
        {
          "output_type": "display_data",
          "data": {
            "text/html": [
              "<pre>recommendations finished on 55000/62483 queries. users per second: 112625</pre>"
            ],
            "text/plain": [
              "recommendations finished on 55000/62483 queries. users per second: 112625"
            ]
          },
          "metadata": {}
        },
        {
          "output_type": "display_data",
          "data": {
            "text/html": [
              "<pre>recommendations finished on 56000/62483 queries. users per second: 111776</pre>"
            ],
            "text/plain": [
              "recommendations finished on 56000/62483 queries. users per second: 111776"
            ]
          },
          "metadata": {}
        },
        {
          "output_type": "display_data",
          "data": {
            "text/html": [
              "<pre>recommendations finished on 57000/62483 queries. users per second: 110366</pre>"
            ],
            "text/plain": [
              "recommendations finished on 57000/62483 queries. users per second: 110366"
            ]
          },
          "metadata": {}
        },
        {
          "output_type": "display_data",
          "data": {
            "text/html": [
              "<pre>recommendations finished on 58000/62483 queries. users per second: 110004</pre>"
            ],
            "text/plain": [
              "recommendations finished on 58000/62483 queries. users per second: 110004"
            ]
          },
          "metadata": {}
        },
        {
          "output_type": "display_data",
          "data": {
            "text/html": [
              "<pre>recommendations finished on 59000/62483 queries. users per second: 109267</pre>"
            ],
            "text/plain": [
              "recommendations finished on 59000/62483 queries. users per second: 109267"
            ]
          },
          "metadata": {}
        },
        {
          "output_type": "display_data",
          "data": {
            "text/html": [
              "<pre>recommendations finished on 60000/62483 queries. users per second: 109220</pre>"
            ],
            "text/plain": [
              "recommendations finished on 60000/62483 queries. users per second: 109220"
            ]
          },
          "metadata": {}
        },
        {
          "output_type": "display_data",
          "data": {
            "text/html": [
              "<pre>recommendations finished on 61000/62483 queries. users per second: 108880</pre>"
            ],
            "text/plain": [
              "recommendations finished on 61000/62483 queries. users per second: 108880"
            ]
          },
          "metadata": {}
        },
        {
          "output_type": "display_data",
          "data": {
            "text/html": [
              "<pre>recommendations finished on 62000/62483 queries. users per second: 109175</pre>"
            ],
            "text/plain": [
              "recommendations finished on 62000/62483 queries. users per second: 109175"
            ]
          },
          "metadata": {}
        },
        {
          "output_type": "stream",
          "name": "stdout",
          "text": [
            "+------------+-----------+---------------------+------+\n",
            "| customerId | productId |        score        | rank |\n",
            "+------------+-----------+---------------------+------+\n",
            "|     0      |    226    |  0.7793103448275862 |  1   |\n",
            "|     0      |    247    | 0.32782369146005513 |  2   |\n",
            "|     0      |    230    |  0.3248120300751874 |  3   |\n",
            "|     0      |    125    | 0.24857142857142825 |  4   |\n",
            "|     0      |    248    | 0.24431818181818182 |  5   |\n",
            "|     0      |    294    | 0.24328358208955192 |  6   |\n",
            "|     0      |    204    | 0.22417582417582405 |  7   |\n",
            "|     0      |    213    | 0.22222222222222232 |  8   |\n",
            "|     0      |     72    | 0.21868787276341947 |  9   |\n",
            "|     0      |     83    |  0.217948717948718  |  10  |\n",
            "|     1      |    226    |  0.7793103448275862 |  1   |\n",
            "|     1      |    247    | 0.32782369146005513 |  2   |\n",
            "|     1      |    230    |  0.3248120300751874 |  3   |\n",
            "|     1      |    125    | 0.24857142857142825 |  4   |\n",
            "|     1      |    248    | 0.24431818181818182 |  5   |\n",
            "|     1      |    294    | 0.24328358208955192 |  6   |\n",
            "|     1      |    204    | 0.22417582417582405 |  7   |\n",
            "|     1      |    213    | 0.22222222222222232 |  8   |\n",
            "|     1      |     72    | 0.21868787276341947 |  9   |\n",
            "|     1      |     83    |  0.217948717948718  |  10  |\n",
            "|     2      |    226    |  0.7793103448275862 |  1   |\n",
            "|     2      |    247    | 0.32782369146005513 |  2   |\n",
            "|     2      |    230    |  0.3248120300751874 |  3   |\n",
            "|     2      |    125    | 0.24857142857142825 |  4   |\n",
            "|     2      |    248    | 0.24431818181818182 |  5   |\n",
            "|     2      |    294    | 0.24328358208955192 |  6   |\n",
            "|     2      |    204    | 0.22417582417582405 |  7   |\n",
            "|     2      |    213    | 0.22222222222222232 |  8   |\n",
            "|     2      |     72    | 0.21868787276341947 |  9   |\n",
            "|     2      |     83    |  0.217948717948718  |  10  |\n",
            "+------------+-----------+---------------------+------+\n",
            "[624830 rows x 4 columns]\n",
            "\n"
          ]
        }
      ]
    },
    {
      "cell_type": "code",
      "metadata": {
        "colab": {
          "base_uri": "https://localhost:8080/",
          "height": 1000
        },
        "id": "yRW0clb-wPlq",
        "outputId": "b69ba339-d802-468b-8f42-e0e373041e11"
      },
      "source": [
        "# these variables will change accordingly\n",
        "name = 'cosine'\n",
        "target = 'purchase_count'\n",
        "cos = model(train_data, name, user_id, item_id, target, users_to_recommend, n_rec, n_display)"
      ],
      "execution_count": 49,
      "outputs": [
        {
          "output_type": "display_data",
          "data": {
            "text/html": [
              "<pre>Preparing data set.</pre>"
            ],
            "text/plain": [
              "Preparing data set."
            ]
          },
          "metadata": {}
        },
        {
          "output_type": "display_data",
          "data": {
            "text/html": [
              "<pre>    Data has 106868 observations with 23322 users and 300 items.</pre>"
            ],
            "text/plain": [
              "    Data has 106868 observations with 23322 users and 300 items."
            ]
          },
          "metadata": {}
        },
        {
          "output_type": "display_data",
          "data": {
            "text/html": [
              "<pre>    Data prepared in: 0.161857s</pre>"
            ],
            "text/plain": [
              "    Data prepared in: 0.161857s"
            ]
          },
          "metadata": {}
        },
        {
          "output_type": "display_data",
          "data": {
            "text/html": [
              "<pre>Training model from provided data.</pre>"
            ],
            "text/plain": [
              "Training model from provided data."
            ]
          },
          "metadata": {}
        },
        {
          "output_type": "display_data",
          "data": {
            "text/html": [
              "<pre>Gathering per-item and per-user statistics.</pre>"
            ],
            "text/plain": [
              "Gathering per-item and per-user statistics."
            ]
          },
          "metadata": {}
        },
        {
          "output_type": "display_data",
          "data": {
            "text/html": [
              "<pre>+--------------------------------+------------+</pre>"
            ],
            "text/plain": [
              "+--------------------------------+------------+"
            ]
          },
          "metadata": {}
        },
        {
          "output_type": "display_data",
          "data": {
            "text/html": [
              "<pre>| Elapsed Time (Item Statistics) | % Complete |</pre>"
            ],
            "text/plain": [
              "| Elapsed Time (Item Statistics) | % Complete |"
            ]
          },
          "metadata": {}
        },
        {
          "output_type": "display_data",
          "data": {
            "text/html": [
              "<pre>+--------------------------------+------------+</pre>"
            ],
            "text/plain": [
              "+--------------------------------+------------+"
            ]
          },
          "metadata": {}
        },
        {
          "output_type": "display_data",
          "data": {
            "text/html": [
              "<pre>| 1.322ms                        | 4.25       |</pre>"
            ],
            "text/plain": [
              "| 1.322ms                        | 4.25       |"
            ]
          },
          "metadata": {}
        },
        {
          "output_type": "display_data",
          "data": {
            "text/html": [
              "<pre>| 17.783ms                       | 100        |</pre>"
            ],
            "text/plain": [
              "| 17.783ms                       | 100        |"
            ]
          },
          "metadata": {}
        },
        {
          "output_type": "display_data",
          "data": {
            "text/html": [
              "<pre>+--------------------------------+------------+</pre>"
            ],
            "text/plain": [
              "+--------------------------------+------------+"
            ]
          },
          "metadata": {}
        },
        {
          "output_type": "display_data",
          "data": {
            "text/html": [
              "<pre>Setting up lookup tables.</pre>"
            ],
            "text/plain": [
              "Setting up lookup tables."
            ]
          },
          "metadata": {}
        },
        {
          "output_type": "display_data",
          "data": {
            "text/html": [
              "<pre>Processing data in one pass using dense lookup tables.</pre>"
            ],
            "text/plain": [
              "Processing data in one pass using dense lookup tables."
            ]
          },
          "metadata": {}
        },
        {
          "output_type": "display_data",
          "data": {
            "text/html": [
              "<pre>+-------------------------------------+------------------+-----------------+</pre>"
            ],
            "text/plain": [
              "+-------------------------------------+------------------+-----------------+"
            ]
          },
          "metadata": {}
        },
        {
          "output_type": "display_data",
          "data": {
            "text/html": [
              "<pre>| Elapsed Time (Constructing Lookups) | Total % Complete | Items Processed |</pre>"
            ],
            "text/plain": [
              "| Elapsed Time (Constructing Lookups) | Total % Complete | Items Processed |"
            ]
          },
          "metadata": {}
        },
        {
          "output_type": "display_data",
          "data": {
            "text/html": [
              "<pre>+-------------------------------------+------------------+-----------------+</pre>"
            ],
            "text/plain": [
              "+-------------------------------------+------------------+-----------------+"
            ]
          },
          "metadata": {}
        },
        {
          "output_type": "display_data",
          "data": {
            "text/html": [
              "<pre>| 19.253ms                            | 0                | 0               |</pre>"
            ],
            "text/plain": [
              "| 19.253ms                            | 0                | 0               |"
            ]
          },
          "metadata": {}
        },
        {
          "output_type": "display_data",
          "data": {
            "text/html": [
              "<pre>| 58.609ms                            | 100              | 300             |</pre>"
            ],
            "text/plain": [
              "| 58.609ms                            | 100              | 300             |"
            ]
          },
          "metadata": {}
        },
        {
          "output_type": "display_data",
          "data": {
            "text/html": [
              "<pre>+-------------------------------------+------------------+-----------------+</pre>"
            ],
            "text/plain": [
              "+-------------------------------------+------------------+-----------------+"
            ]
          },
          "metadata": {}
        },
        {
          "output_type": "display_data",
          "data": {
            "text/html": [
              "<pre>Finalizing lookup tables.</pre>"
            ],
            "text/plain": [
              "Finalizing lookup tables."
            ]
          },
          "metadata": {}
        },
        {
          "output_type": "display_data",
          "data": {
            "text/html": [
              "<pre>Generating candidate set for working with new users.</pre>"
            ],
            "text/plain": [
              "Generating candidate set for working with new users."
            ]
          },
          "metadata": {}
        },
        {
          "output_type": "display_data",
          "data": {
            "text/html": [
              "<pre>Finished training in 1.10011s</pre>"
            ],
            "text/plain": [
              "Finished training in 1.10011s"
            ]
          },
          "metadata": {}
        },
        {
          "output_type": "display_data",
          "data": {
            "text/html": [
              "<pre>recommendations finished on 1000/62483 queries. users per second: 65015.3</pre>"
            ],
            "text/plain": [
              "recommendations finished on 1000/62483 queries. users per second: 65015.3"
            ]
          },
          "metadata": {}
        },
        {
          "output_type": "display_data",
          "data": {
            "text/html": [
              "<pre>recommendations finished on 2000/62483 queries. users per second: 69206.5</pre>"
            ],
            "text/plain": [
              "recommendations finished on 2000/62483 queries. users per second: 69206.5"
            ]
          },
          "metadata": {}
        },
        {
          "output_type": "display_data",
          "data": {
            "text/html": [
              "<pre>recommendations finished on 3000/62483 queries. users per second: 70321.8</pre>"
            ],
            "text/plain": [
              "recommendations finished on 3000/62483 queries. users per second: 70321.8"
            ]
          },
          "metadata": {}
        },
        {
          "output_type": "display_data",
          "data": {
            "text/html": [
              "<pre>recommendations finished on 4000/62483 queries. users per second: 72983.4</pre>"
            ],
            "text/plain": [
              "recommendations finished on 4000/62483 queries. users per second: 72983.4"
            ]
          },
          "metadata": {}
        },
        {
          "output_type": "display_data",
          "data": {
            "text/html": [
              "<pre>recommendations finished on 5000/62483 queries. users per second: 73973.3</pre>"
            ],
            "text/plain": [
              "recommendations finished on 5000/62483 queries. users per second: 73973.3"
            ]
          },
          "metadata": {}
        },
        {
          "output_type": "display_data",
          "data": {
            "text/html": [
              "<pre>recommendations finished on 6000/62483 queries. users per second: 73175.2</pre>"
            ],
            "text/plain": [
              "recommendations finished on 6000/62483 queries. users per second: 73175.2"
            ]
          },
          "metadata": {}
        },
        {
          "output_type": "display_data",
          "data": {
            "text/html": [
              "<pre>recommendations finished on 7000/62483 queries. users per second: 72516.3</pre>"
            ],
            "text/plain": [
              "recommendations finished on 7000/62483 queries. users per second: 72516.3"
            ]
          },
          "metadata": {}
        },
        {
          "output_type": "display_data",
          "data": {
            "text/html": [
              "<pre>recommendations finished on 8000/62483 queries. users per second: 73532.1</pre>"
            ],
            "text/plain": [
              "recommendations finished on 8000/62483 queries. users per second: 73532.1"
            ]
          },
          "metadata": {}
        },
        {
          "output_type": "display_data",
          "data": {
            "text/html": [
              "<pre>recommendations finished on 9000/62483 queries. users per second: 73149.3</pre>"
            ],
            "text/plain": [
              "recommendations finished on 9000/62483 queries. users per second: 73149.3"
            ]
          },
          "metadata": {}
        },
        {
          "output_type": "display_data",
          "data": {
            "text/html": [
              "<pre>recommendations finished on 10000/62483 queries. users per second: 73376.7</pre>"
            ],
            "text/plain": [
              "recommendations finished on 10000/62483 queries. users per second: 73376.7"
            ]
          },
          "metadata": {}
        },
        {
          "output_type": "display_data",
          "data": {
            "text/html": [
              "<pre>recommendations finished on 11000/62483 queries. users per second: 73190.4</pre>"
            ],
            "text/plain": [
              "recommendations finished on 11000/62483 queries. users per second: 73190.4"
            ]
          },
          "metadata": {}
        },
        {
          "output_type": "display_data",
          "data": {
            "text/html": [
              "<pre>recommendations finished on 12000/62483 queries. users per second: 73503.3</pre>"
            ],
            "text/plain": [
              "recommendations finished on 12000/62483 queries. users per second: 73503.3"
            ]
          },
          "metadata": {}
        },
        {
          "output_type": "display_data",
          "data": {
            "text/html": [
              "<pre>recommendations finished on 13000/62483 queries. users per second: 73181.7</pre>"
            ],
            "text/plain": [
              "recommendations finished on 13000/62483 queries. users per second: 73181.7"
            ]
          },
          "metadata": {}
        },
        {
          "output_type": "display_data",
          "data": {
            "text/html": [
              "<pre>recommendations finished on 14000/62483 queries. users per second: 72782.9</pre>"
            ],
            "text/plain": [
              "recommendations finished on 14000/62483 queries. users per second: 72782.9"
            ]
          },
          "metadata": {}
        },
        {
          "output_type": "display_data",
          "data": {
            "text/html": [
              "<pre>recommendations finished on 15000/62483 queries. users per second: 72847.7</pre>"
            ],
            "text/plain": [
              "recommendations finished on 15000/62483 queries. users per second: 72847.7"
            ]
          },
          "metadata": {}
        },
        {
          "output_type": "display_data",
          "data": {
            "text/html": [
              "<pre>recommendations finished on 16000/62483 queries. users per second: 72823.3</pre>"
            ],
            "text/plain": [
              "recommendations finished on 16000/62483 queries. users per second: 72823.3"
            ]
          },
          "metadata": {}
        },
        {
          "output_type": "display_data",
          "data": {
            "text/html": [
              "<pre>recommendations finished on 17000/62483 queries. users per second: 73171.2</pre>"
            ],
            "text/plain": [
              "recommendations finished on 17000/62483 queries. users per second: 73171.2"
            ]
          },
          "metadata": {}
        },
        {
          "output_type": "display_data",
          "data": {
            "text/html": [
              "<pre>recommendations finished on 18000/62483 queries. users per second: 73377.4</pre>"
            ],
            "text/plain": [
              "recommendations finished on 18000/62483 queries. users per second: 73377.4"
            ]
          },
          "metadata": {}
        },
        {
          "output_type": "display_data",
          "data": {
            "text/html": [
              "<pre>recommendations finished on 19000/62483 queries. users per second: 72271.4</pre>"
            ],
            "text/plain": [
              "recommendations finished on 19000/62483 queries. users per second: 72271.4"
            ]
          },
          "metadata": {}
        },
        {
          "output_type": "display_data",
          "data": {
            "text/html": [
              "<pre>recommendations finished on 20000/62483 queries. users per second: 72432.3</pre>"
            ],
            "text/plain": [
              "recommendations finished on 20000/62483 queries. users per second: 72432.3"
            ]
          },
          "metadata": {}
        },
        {
          "output_type": "display_data",
          "data": {
            "text/html": [
              "<pre>recommendations finished on 21000/62483 queries. users per second: 72922.7</pre>"
            ],
            "text/plain": [
              "recommendations finished on 21000/62483 queries. users per second: 72922.7"
            ]
          },
          "metadata": {}
        },
        {
          "output_type": "display_data",
          "data": {
            "text/html": [
              "<pre>recommendations finished on 22000/62483 queries. users per second: 72956.2</pre>"
            ],
            "text/plain": [
              "recommendations finished on 22000/62483 queries. users per second: 72956.2"
            ]
          },
          "metadata": {}
        },
        {
          "output_type": "display_data",
          "data": {
            "text/html": [
              "<pre>recommendations finished on 23000/62483 queries. users per second: 72671.4</pre>"
            ],
            "text/plain": [
              "recommendations finished on 23000/62483 queries. users per second: 72671.4"
            ]
          },
          "metadata": {}
        },
        {
          "output_type": "display_data",
          "data": {
            "text/html": [
              "<pre>recommendations finished on 24000/62483 queries. users per second: 72867.3</pre>"
            ],
            "text/plain": [
              "recommendations finished on 24000/62483 queries. users per second: 72867.3"
            ]
          },
          "metadata": {}
        },
        {
          "output_type": "display_data",
          "data": {
            "text/html": [
              "<pre>recommendations finished on 25000/62483 queries. users per second: 73153.7</pre>"
            ],
            "text/plain": [
              "recommendations finished on 25000/62483 queries. users per second: 73153.7"
            ]
          },
          "metadata": {}
        },
        {
          "output_type": "display_data",
          "data": {
            "text/html": [
              "<pre>recommendations finished on 26000/62483 queries. users per second: 73166.1</pre>"
            ],
            "text/plain": [
              "recommendations finished on 26000/62483 queries. users per second: 73166.1"
            ]
          },
          "metadata": {}
        },
        {
          "output_type": "display_data",
          "data": {
            "text/html": [
              "<pre>recommendations finished on 27000/62483 queries. users per second: 72743.5</pre>"
            ],
            "text/plain": [
              "recommendations finished on 27000/62483 queries. users per second: 72743.5"
            ]
          },
          "metadata": {}
        },
        {
          "output_type": "display_data",
          "data": {
            "text/html": [
              "<pre>recommendations finished on 28000/62483 queries. users per second: 72931.1</pre>"
            ],
            "text/plain": [
              "recommendations finished on 28000/62483 queries. users per second: 72931.1"
            ]
          },
          "metadata": {}
        },
        {
          "output_type": "display_data",
          "data": {
            "text/html": [
              "<pre>recommendations finished on 29000/62483 queries. users per second: 73215.9</pre>"
            ],
            "text/plain": [
              "recommendations finished on 29000/62483 queries. users per second: 73215.9"
            ]
          },
          "metadata": {}
        },
        {
          "output_type": "display_data",
          "data": {
            "text/html": [
              "<pre>recommendations finished on 30000/62483 queries. users per second: 72809</pre>"
            ],
            "text/plain": [
              "recommendations finished on 30000/62483 queries. users per second: 72809"
            ]
          },
          "metadata": {}
        },
        {
          "output_type": "display_data",
          "data": {
            "text/html": [
              "<pre>recommendations finished on 31000/62483 queries. users per second: 72796.6</pre>"
            ],
            "text/plain": [
              "recommendations finished on 31000/62483 queries. users per second: 72796.6"
            ]
          },
          "metadata": {}
        },
        {
          "output_type": "display_data",
          "data": {
            "text/html": [
              "<pre>recommendations finished on 32000/62483 queries. users per second: 72341.2</pre>"
            ],
            "text/plain": [
              "recommendations finished on 32000/62483 queries. users per second: 72341.2"
            ]
          },
          "metadata": {}
        },
        {
          "output_type": "display_data",
          "data": {
            "text/html": [
              "<pre>recommendations finished on 33000/62483 queries. users per second: 72365.4</pre>"
            ],
            "text/plain": [
              "recommendations finished on 33000/62483 queries. users per second: 72365.4"
            ]
          },
          "metadata": {}
        },
        {
          "output_type": "display_data",
          "data": {
            "text/html": [
              "<pre>recommendations finished on 34000/62483 queries. users per second: 72321.3</pre>"
            ],
            "text/plain": [
              "recommendations finished on 34000/62483 queries. users per second: 72321.3"
            ]
          },
          "metadata": {}
        },
        {
          "output_type": "display_data",
          "data": {
            "text/html": [
              "<pre>recommendations finished on 35000/62483 queries. users per second: 72212</pre>"
            ],
            "text/plain": [
              "recommendations finished on 35000/62483 queries. users per second: 72212"
            ]
          },
          "metadata": {}
        },
        {
          "output_type": "display_data",
          "data": {
            "text/html": [
              "<pre>recommendations finished on 36000/62483 queries. users per second: 72035.3</pre>"
            ],
            "text/plain": [
              "recommendations finished on 36000/62483 queries. users per second: 72035.3"
            ]
          },
          "metadata": {}
        },
        {
          "output_type": "display_data",
          "data": {
            "text/html": [
              "<pre>recommendations finished on 37000/62483 queries. users per second: 72185.4</pre>"
            ],
            "text/plain": [
              "recommendations finished on 37000/62483 queries. users per second: 72185.4"
            ]
          },
          "metadata": {}
        },
        {
          "output_type": "display_data",
          "data": {
            "text/html": [
              "<pre>recommendations finished on 38000/62483 queries. users per second: 72113.7</pre>"
            ],
            "text/plain": [
              "recommendations finished on 38000/62483 queries. users per second: 72113.7"
            ]
          },
          "metadata": {}
        },
        {
          "output_type": "display_data",
          "data": {
            "text/html": [
              "<pre>recommendations finished on 39000/62483 queries. users per second: 72236.4</pre>"
            ],
            "text/plain": [
              "recommendations finished on 39000/62483 queries. users per second: 72236.4"
            ]
          },
          "metadata": {}
        },
        {
          "output_type": "display_data",
          "data": {
            "text/html": [
              "<pre>recommendations finished on 40000/62483 queries. users per second: 72274.8</pre>"
            ],
            "text/plain": [
              "recommendations finished on 40000/62483 queries. users per second: 72274.8"
            ]
          },
          "metadata": {}
        },
        {
          "output_type": "display_data",
          "data": {
            "text/html": [
              "<pre>recommendations finished on 41000/62483 queries. users per second: 72317.4</pre>"
            ],
            "text/plain": [
              "recommendations finished on 41000/62483 queries. users per second: 72317.4"
            ]
          },
          "metadata": {}
        },
        {
          "output_type": "display_data",
          "data": {
            "text/html": [
              "<pre>recommendations finished on 42000/62483 queries. users per second: 72036.3</pre>"
            ],
            "text/plain": [
              "recommendations finished on 42000/62483 queries. users per second: 72036.3"
            ]
          },
          "metadata": {}
        },
        {
          "output_type": "display_data",
          "data": {
            "text/html": [
              "<pre>recommendations finished on 43000/62483 queries. users per second: 72256.5</pre>"
            ],
            "text/plain": [
              "recommendations finished on 43000/62483 queries. users per second: 72256.5"
            ]
          },
          "metadata": {}
        },
        {
          "output_type": "display_data",
          "data": {
            "text/html": [
              "<pre>recommendations finished on 44000/62483 queries. users per second: 72145.5</pre>"
            ],
            "text/plain": [
              "recommendations finished on 44000/62483 queries. users per second: 72145.5"
            ]
          },
          "metadata": {}
        },
        {
          "output_type": "display_data",
          "data": {
            "text/html": [
              "<pre>recommendations finished on 45000/62483 queries. users per second: 72119.8</pre>"
            ],
            "text/plain": [
              "recommendations finished on 45000/62483 queries. users per second: 72119.8"
            ]
          },
          "metadata": {}
        },
        {
          "output_type": "display_data",
          "data": {
            "text/html": [
              "<pre>recommendations finished on 46000/62483 queries. users per second: 71887.1</pre>"
            ],
            "text/plain": [
              "recommendations finished on 46000/62483 queries. users per second: 71887.1"
            ]
          },
          "metadata": {}
        },
        {
          "output_type": "display_data",
          "data": {
            "text/html": [
              "<pre>recommendations finished on 47000/62483 queries. users per second: 71958.6</pre>"
            ],
            "text/plain": [
              "recommendations finished on 47000/62483 queries. users per second: 71958.6"
            ]
          },
          "metadata": {}
        },
        {
          "output_type": "display_data",
          "data": {
            "text/html": [
              "<pre>recommendations finished on 48000/62483 queries. users per second: 71847.1</pre>"
            ],
            "text/plain": [
              "recommendations finished on 48000/62483 queries. users per second: 71847.1"
            ]
          },
          "metadata": {}
        },
        {
          "output_type": "display_data",
          "data": {
            "text/html": [
              "<pre>recommendations finished on 49000/62483 queries. users per second: 71887</pre>"
            ],
            "text/plain": [
              "recommendations finished on 49000/62483 queries. users per second: 71887"
            ]
          },
          "metadata": {}
        },
        {
          "output_type": "display_data",
          "data": {
            "text/html": [
              "<pre>recommendations finished on 50000/62483 queries. users per second: 72053.7</pre>"
            ],
            "text/plain": [
              "recommendations finished on 50000/62483 queries. users per second: 72053.7"
            ]
          },
          "metadata": {}
        },
        {
          "output_type": "display_data",
          "data": {
            "text/html": [
              "<pre>recommendations finished on 51000/62483 queries. users per second: 71891.5</pre>"
            ],
            "text/plain": [
              "recommendations finished on 51000/62483 queries. users per second: 71891.5"
            ]
          },
          "metadata": {}
        },
        {
          "output_type": "display_data",
          "data": {
            "text/html": [
              "<pre>recommendations finished on 52000/62483 queries. users per second: 71994.8</pre>"
            ],
            "text/plain": [
              "recommendations finished on 52000/62483 queries. users per second: 71994.8"
            ]
          },
          "metadata": {}
        },
        {
          "output_type": "display_data",
          "data": {
            "text/html": [
              "<pre>recommendations finished on 53000/62483 queries. users per second: 72005.5</pre>"
            ],
            "text/plain": [
              "recommendations finished on 53000/62483 queries. users per second: 72005.5"
            ]
          },
          "metadata": {}
        },
        {
          "output_type": "display_data",
          "data": {
            "text/html": [
              "<pre>recommendations finished on 54000/62483 queries. users per second: 71919.5</pre>"
            ],
            "text/plain": [
              "recommendations finished on 54000/62483 queries. users per second: 71919.5"
            ]
          },
          "metadata": {}
        },
        {
          "output_type": "display_data",
          "data": {
            "text/html": [
              "<pre>recommendations finished on 55000/62483 queries. users per second: 71893.5</pre>"
            ],
            "text/plain": [
              "recommendations finished on 55000/62483 queries. users per second: 71893.5"
            ]
          },
          "metadata": {}
        },
        {
          "output_type": "display_data",
          "data": {
            "text/html": [
              "<pre>recommendations finished on 56000/62483 queries. users per second: 71848</pre>"
            ],
            "text/plain": [
              "recommendations finished on 56000/62483 queries. users per second: 71848"
            ]
          },
          "metadata": {}
        },
        {
          "output_type": "display_data",
          "data": {
            "text/html": [
              "<pre>recommendations finished on 57000/62483 queries. users per second: 71863.7</pre>"
            ],
            "text/plain": [
              "recommendations finished on 57000/62483 queries. users per second: 71863.7"
            ]
          },
          "metadata": {}
        },
        {
          "output_type": "display_data",
          "data": {
            "text/html": [
              "<pre>recommendations finished on 58000/62483 queries. users per second: 71808.5</pre>"
            ],
            "text/plain": [
              "recommendations finished on 58000/62483 queries. users per second: 71808.5"
            ]
          },
          "metadata": {}
        },
        {
          "output_type": "display_data",
          "data": {
            "text/html": [
              "<pre>recommendations finished on 59000/62483 queries. users per second: 70553.8</pre>"
            ],
            "text/plain": [
              "recommendations finished on 59000/62483 queries. users per second: 70553.8"
            ]
          },
          "metadata": {}
        },
        {
          "output_type": "display_data",
          "data": {
            "text/html": [
              "<pre>recommendations finished on 60000/62483 queries. users per second: 70462.5</pre>"
            ],
            "text/plain": [
              "recommendations finished on 60000/62483 queries. users per second: 70462.5"
            ]
          },
          "metadata": {}
        },
        {
          "output_type": "display_data",
          "data": {
            "text/html": [
              "<pre>recommendations finished on 61000/62483 queries. users per second: 70639</pre>"
            ],
            "text/plain": [
              "recommendations finished on 61000/62483 queries. users per second: 70639"
            ]
          },
          "metadata": {}
        },
        {
          "output_type": "display_data",
          "data": {
            "text/html": [
              "<pre>recommendations finished on 62000/62483 queries. users per second: 70511.4</pre>"
            ],
            "text/plain": [
              "recommendations finished on 62000/62483 queries. users per second: 70511.4"
            ]
          },
          "metadata": {}
        },
        {
          "output_type": "stream",
          "name": "stdout",
          "text": [
            "+------------+-----------+---------------------+------+\n",
            "| customerId | productId |        score        | rank |\n",
            "+------------+-----------+---------------------+------+\n",
            "|     0      |     2     | 0.13316982984542847 |  1   |\n",
            "|     0      |     5     |  0.1055589497089386 |  2   |\n",
            "|     0      |     21    | 0.08901822566986084 |  3   |\n",
            "|     0      |     33    | 0.08073817491531372 |  4   |\n",
            "|     0      |    157    | 0.07760765552520751 |  5   |\n",
            "|     0      |     13    | 0.07526716589927673 |  6   |\n",
            "|     0      |     17    |  0.0706416666507721 |  7   |\n",
            "|     0      |     19    | 0.06861926317214966 |  8   |\n",
            "|     0      |     59    | 0.06720507144927979 |  9   |\n",
            "|     0      |     0     |  0.0667323648929596 |  10  |\n",
            "|     1      |     14    | 0.16740621626377106 |  1   |\n",
            "|     1      |     1     | 0.16053596511483192 |  2   |\n",
            "|     1      |     17    | 0.12358514592051506 |  3   |\n",
            "|     1      |     5     | 0.11797770112752914 |  4   |\n",
            "|     1      |     39    |  0.1091022863984108 |  5   |\n",
            "|     1      |     15    | 0.09571362286806107 |  6   |\n",
            "|     1      |     19    | 0.09239314869046211 |  7   |\n",
            "|     1      |     20    |  0.0745515413582325 |  8   |\n",
            "|     1      |     78    | 0.07073060795664787 |  9   |\n",
            "|     1      |     0     | 0.06985970214009285 |  10  |\n",
            "|     2      |     23    |  0.3078856229782104 |  1   |\n",
            "|     2      |     2     |  0.1207511305809021 |  2   |\n",
            "|     2      |     5     | 0.11435239315032959 |  3   |\n",
            "|     2      |     1     | 0.10517276525497436 |  4   |\n",
            "|     2      |     19    | 0.07984087467193604 |  5   |\n",
            "|     2      |     17    | 0.07821210622787475 |  6   |\n",
            "|     2      |     0     | 0.07813942432403564 |  7   |\n",
            "|     2      |    114    | 0.07777912616729736 |  8   |\n",
            "|     2      |     13    | 0.07733577489852905 |  9   |\n",
            "|     2      |     14    | 0.07728468179702759 |  10  |\n",
            "+------------+-----------+---------------------+------+\n",
            "[624830 rows x 4 columns]\n",
            "\n"
          ]
        }
      ]
    },
    {
      "cell_type": "code",
      "metadata": {
        "colab": {
          "base_uri": "https://localhost:8080/",
          "height": 1000
        },
        "id": "kZQsMJFxyMJQ",
        "outputId": "021dd3d3-63cb-46c5-e4a3-2531392d20d6"
      },
      "source": [
        "# these variables will change accordingly\n",
        "name = 'cosine'\n",
        "target = 'purchase_dummy'\n",
        "cos_dummy = model(train_data_dummy, name, user_id, item_id, target, users_to_recommend, n_rec, n_display)"
      ],
      "execution_count": 50,
      "outputs": [
        {
          "output_type": "display_data",
          "data": {
            "text/html": [
              "<pre>Warning: Ignoring columns purchase_count;</pre>"
            ],
            "text/plain": [
              "Warning: Ignoring columns purchase_count;"
            ]
          },
          "metadata": {}
        },
        {
          "output_type": "display_data",
          "data": {
            "text/html": [
              "<pre>    To use these columns in scoring predictions, use a model that allows the use of additional features.</pre>"
            ],
            "text/plain": [
              "    To use these columns in scoring predictions, use a model that allows the use of additional features."
            ]
          },
          "metadata": {}
        },
        {
          "output_type": "display_data",
          "data": {
            "text/html": [
              "<pre>Preparing data set.</pre>"
            ],
            "text/plain": [
              "Preparing data set."
            ]
          },
          "metadata": {}
        },
        {
          "output_type": "display_data",
          "data": {
            "text/html": [
              "<pre>    Data has 106868 observations with 23312 users and 300 items.</pre>"
            ],
            "text/plain": [
              "    Data has 106868 observations with 23312 users and 300 items."
            ]
          },
          "metadata": {}
        },
        {
          "output_type": "display_data",
          "data": {
            "text/html": [
              "<pre>    Data prepared in: 0.145391s</pre>"
            ],
            "text/plain": [
              "    Data prepared in: 0.145391s"
            ]
          },
          "metadata": {}
        },
        {
          "output_type": "display_data",
          "data": {
            "text/html": [
              "<pre>Training model from provided data.</pre>"
            ],
            "text/plain": [
              "Training model from provided data."
            ]
          },
          "metadata": {}
        },
        {
          "output_type": "display_data",
          "data": {
            "text/html": [
              "<pre>Gathering per-item and per-user statistics.</pre>"
            ],
            "text/plain": [
              "Gathering per-item and per-user statistics."
            ]
          },
          "metadata": {}
        },
        {
          "output_type": "display_data",
          "data": {
            "text/html": [
              "<pre>+--------------------------------+------------+</pre>"
            ],
            "text/plain": [
              "+--------------------------------+------------+"
            ]
          },
          "metadata": {}
        },
        {
          "output_type": "display_data",
          "data": {
            "text/html": [
              "<pre>| Elapsed Time (Item Statistics) | % Complete |</pre>"
            ],
            "text/plain": [
              "| Elapsed Time (Item Statistics) | % Complete |"
            ]
          },
          "metadata": {}
        },
        {
          "output_type": "display_data",
          "data": {
            "text/html": [
              "<pre>+--------------------------------+------------+</pre>"
            ],
            "text/plain": [
              "+--------------------------------+------------+"
            ]
          },
          "metadata": {}
        },
        {
          "output_type": "display_data",
          "data": {
            "text/html": [
              "<pre>| 1.068ms                        | 4.25       |</pre>"
            ],
            "text/plain": [
              "| 1.068ms                        | 4.25       |"
            ]
          },
          "metadata": {}
        },
        {
          "output_type": "display_data",
          "data": {
            "text/html": [
              "<pre>| 15.046ms                       | 100        |</pre>"
            ],
            "text/plain": [
              "| 15.046ms                       | 100        |"
            ]
          },
          "metadata": {}
        },
        {
          "output_type": "display_data",
          "data": {
            "text/html": [
              "<pre>+--------------------------------+------------+</pre>"
            ],
            "text/plain": [
              "+--------------------------------+------------+"
            ]
          },
          "metadata": {}
        },
        {
          "output_type": "display_data",
          "data": {
            "text/html": [
              "<pre>Setting up lookup tables.</pre>"
            ],
            "text/plain": [
              "Setting up lookup tables."
            ]
          },
          "metadata": {}
        },
        {
          "output_type": "display_data",
          "data": {
            "text/html": [
              "<pre>Processing data in one pass using dense lookup tables.</pre>"
            ],
            "text/plain": [
              "Processing data in one pass using dense lookup tables."
            ]
          },
          "metadata": {}
        },
        {
          "output_type": "display_data",
          "data": {
            "text/html": [
              "<pre>+-------------------------------------+------------------+-----------------+</pre>"
            ],
            "text/plain": [
              "+-------------------------------------+------------------+-----------------+"
            ]
          },
          "metadata": {}
        },
        {
          "output_type": "display_data",
          "data": {
            "text/html": [
              "<pre>| Elapsed Time (Constructing Lookups) | Total % Complete | Items Processed |</pre>"
            ],
            "text/plain": [
              "| Elapsed Time (Constructing Lookups) | Total % Complete | Items Processed |"
            ]
          },
          "metadata": {}
        },
        {
          "output_type": "display_data",
          "data": {
            "text/html": [
              "<pre>+-------------------------------------+------------------+-----------------+</pre>"
            ],
            "text/plain": [
              "+-------------------------------------+------------------+-----------------+"
            ]
          },
          "metadata": {}
        },
        {
          "output_type": "display_data",
          "data": {
            "text/html": [
              "<pre>| 15.674ms                            | 0                | 0               |</pre>"
            ],
            "text/plain": [
              "| 15.674ms                            | 0                | 0               |"
            ]
          },
          "metadata": {}
        },
        {
          "output_type": "display_data",
          "data": {
            "text/html": [
              "<pre>| 50.257ms                            | 100              | 300             |</pre>"
            ],
            "text/plain": [
              "| 50.257ms                            | 100              | 300             |"
            ]
          },
          "metadata": {}
        },
        {
          "output_type": "display_data",
          "data": {
            "text/html": [
              "<pre>+-------------------------------------+------------------+-----------------+</pre>"
            ],
            "text/plain": [
              "+-------------------------------------+------------------+-----------------+"
            ]
          },
          "metadata": {}
        },
        {
          "output_type": "display_data",
          "data": {
            "text/html": [
              "<pre>Finalizing lookup tables.</pre>"
            ],
            "text/plain": [
              "Finalizing lookup tables."
            ]
          },
          "metadata": {}
        },
        {
          "output_type": "display_data",
          "data": {
            "text/html": [
              "<pre>Generating candidate set for working with new users.</pre>"
            ],
            "text/plain": [
              "Generating candidate set for working with new users."
            ]
          },
          "metadata": {}
        },
        {
          "output_type": "display_data",
          "data": {
            "text/html": [
              "<pre>Finished training in 0.079047s</pre>"
            ],
            "text/plain": [
              "Finished training in 0.079047s"
            ]
          },
          "metadata": {}
        },
        {
          "output_type": "display_data",
          "data": {
            "text/html": [
              "<pre>recommendations finished on 1000/62483 queries. users per second: 40803</pre>"
            ],
            "text/plain": [
              "recommendations finished on 1000/62483 queries. users per second: 40803"
            ]
          },
          "metadata": {}
        },
        {
          "output_type": "display_data",
          "data": {
            "text/html": [
              "<pre>recommendations finished on 2000/62483 queries. users per second: 50877.6</pre>"
            ],
            "text/plain": [
              "recommendations finished on 2000/62483 queries. users per second: 50877.6"
            ]
          },
          "metadata": {}
        },
        {
          "output_type": "display_data",
          "data": {
            "text/html": [
              "<pre>recommendations finished on 3000/62483 queries. users per second: 57679</pre>"
            ],
            "text/plain": [
              "recommendations finished on 3000/62483 queries. users per second: 57679"
            ]
          },
          "metadata": {}
        },
        {
          "output_type": "display_data",
          "data": {
            "text/html": [
              "<pre>recommendations finished on 4000/62483 queries. users per second: 61529</pre>"
            ],
            "text/plain": [
              "recommendations finished on 4000/62483 queries. users per second: 61529"
            ]
          },
          "metadata": {}
        },
        {
          "output_type": "display_data",
          "data": {
            "text/html": [
              "<pre>recommendations finished on 5000/62483 queries. users per second: 63496.9</pre>"
            ],
            "text/plain": [
              "recommendations finished on 5000/62483 queries. users per second: 63496.9"
            ]
          },
          "metadata": {}
        },
        {
          "output_type": "display_data",
          "data": {
            "text/html": [
              "<pre>recommendations finished on 6000/62483 queries. users per second: 62996.1</pre>"
            ],
            "text/plain": [
              "recommendations finished on 6000/62483 queries. users per second: 62996.1"
            ]
          },
          "metadata": {}
        },
        {
          "output_type": "display_data",
          "data": {
            "text/html": [
              "<pre>recommendations finished on 7000/62483 queries. users per second: 64582.8</pre>"
            ],
            "text/plain": [
              "recommendations finished on 7000/62483 queries. users per second: 64582.8"
            ]
          },
          "metadata": {}
        },
        {
          "output_type": "display_data",
          "data": {
            "text/html": [
              "<pre>recommendations finished on 8000/62483 queries. users per second: 65447.2</pre>"
            ],
            "text/plain": [
              "recommendations finished on 8000/62483 queries. users per second: 65447.2"
            ]
          },
          "metadata": {}
        },
        {
          "output_type": "display_data",
          "data": {
            "text/html": [
              "<pre>recommendations finished on 9000/62483 queries. users per second: 65881</pre>"
            ],
            "text/plain": [
              "recommendations finished on 9000/62483 queries. users per second: 65881"
            ]
          },
          "metadata": {}
        },
        {
          "output_type": "display_data",
          "data": {
            "text/html": [
              "<pre>recommendations finished on 10000/62483 queries. users per second: 66823.5</pre>"
            ],
            "text/plain": [
              "recommendations finished on 10000/62483 queries. users per second: 66823.5"
            ]
          },
          "metadata": {}
        },
        {
          "output_type": "display_data",
          "data": {
            "text/html": [
              "<pre>recommendations finished on 11000/62483 queries. users per second: 67178</pre>"
            ],
            "text/plain": [
              "recommendations finished on 11000/62483 queries. users per second: 67178"
            ]
          },
          "metadata": {}
        },
        {
          "output_type": "display_data",
          "data": {
            "text/html": [
              "<pre>recommendations finished on 12000/62483 queries. users per second: 67851.8</pre>"
            ],
            "text/plain": [
              "recommendations finished on 12000/62483 queries. users per second: 67851.8"
            ]
          },
          "metadata": {}
        },
        {
          "output_type": "display_data",
          "data": {
            "text/html": [
              "<pre>recommendations finished on 13000/62483 queries. users per second: 68120.2</pre>"
            ],
            "text/plain": [
              "recommendations finished on 13000/62483 queries. users per second: 68120.2"
            ]
          },
          "metadata": {}
        },
        {
          "output_type": "display_data",
          "data": {
            "text/html": [
              "<pre>recommendations finished on 14000/62483 queries. users per second: 67604.4</pre>"
            ],
            "text/plain": [
              "recommendations finished on 14000/62483 queries. users per second: 67604.4"
            ]
          },
          "metadata": {}
        },
        {
          "output_type": "display_data",
          "data": {
            "text/html": [
              "<pre>recommendations finished on 15000/62483 queries. users per second: 68629.2</pre>"
            ],
            "text/plain": [
              "recommendations finished on 15000/62483 queries. users per second: 68629.2"
            ]
          },
          "metadata": {}
        },
        {
          "output_type": "display_data",
          "data": {
            "text/html": [
              "<pre>recommendations finished on 16000/62483 queries. users per second: 68604.2</pre>"
            ],
            "text/plain": [
              "recommendations finished on 16000/62483 queries. users per second: 68604.2"
            ]
          },
          "metadata": {}
        },
        {
          "output_type": "display_data",
          "data": {
            "text/html": [
              "<pre>recommendations finished on 17000/62483 queries. users per second: 69042</pre>"
            ],
            "text/plain": [
              "recommendations finished on 17000/62483 queries. users per second: 69042"
            ]
          },
          "metadata": {}
        },
        {
          "output_type": "display_data",
          "data": {
            "text/html": [
              "<pre>recommendations finished on 18000/62483 queries. users per second: 69476.3</pre>"
            ],
            "text/plain": [
              "recommendations finished on 18000/62483 queries. users per second: 69476.3"
            ]
          },
          "metadata": {}
        },
        {
          "output_type": "display_data",
          "data": {
            "text/html": [
              "<pre>recommendations finished on 19000/62483 queries. users per second: 69762.1</pre>"
            ],
            "text/plain": [
              "recommendations finished on 19000/62483 queries. users per second: 69762.1"
            ]
          },
          "metadata": {}
        },
        {
          "output_type": "display_data",
          "data": {
            "text/html": [
              "<pre>recommendations finished on 20000/62483 queries. users per second: 69880.2</pre>"
            ],
            "text/plain": [
              "recommendations finished on 20000/62483 queries. users per second: 69880.2"
            ]
          },
          "metadata": {}
        },
        {
          "output_type": "display_data",
          "data": {
            "text/html": [
              "<pre>recommendations finished on 21000/62483 queries. users per second: 70200.5</pre>"
            ],
            "text/plain": [
              "recommendations finished on 21000/62483 queries. users per second: 70200.5"
            ]
          },
          "metadata": {}
        },
        {
          "output_type": "display_data",
          "data": {
            "text/html": [
              "<pre>recommendations finished on 22000/62483 queries. users per second: 70073.7</pre>"
            ],
            "text/plain": [
              "recommendations finished on 22000/62483 queries. users per second: 70073.7"
            ]
          },
          "metadata": {}
        },
        {
          "output_type": "display_data",
          "data": {
            "text/html": [
              "<pre>recommendations finished on 23000/62483 queries. users per second: 70241</pre>"
            ],
            "text/plain": [
              "recommendations finished on 23000/62483 queries. users per second: 70241"
            ]
          },
          "metadata": {}
        },
        {
          "output_type": "display_data",
          "data": {
            "text/html": [
              "<pre>recommendations finished on 24000/62483 queries. users per second: 70522.7</pre>"
            ],
            "text/plain": [
              "recommendations finished on 24000/62483 queries. users per second: 70522.7"
            ]
          },
          "metadata": {}
        },
        {
          "output_type": "display_data",
          "data": {
            "text/html": [
              "<pre>recommendations finished on 25000/62483 queries. users per second: 70578.2</pre>"
            ],
            "text/plain": [
              "recommendations finished on 25000/62483 queries. users per second: 70578.2"
            ]
          },
          "metadata": {}
        },
        {
          "output_type": "display_data",
          "data": {
            "text/html": [
              "<pre>recommendations finished on 26000/62483 queries. users per second: 70749.3</pre>"
            ],
            "text/plain": [
              "recommendations finished on 26000/62483 queries. users per second: 70749.3"
            ]
          },
          "metadata": {}
        },
        {
          "output_type": "display_data",
          "data": {
            "text/html": [
              "<pre>recommendations finished on 27000/62483 queries. users per second: 70510.1</pre>"
            ],
            "text/plain": [
              "recommendations finished on 27000/62483 queries. users per second: 70510.1"
            ]
          },
          "metadata": {}
        },
        {
          "output_type": "display_data",
          "data": {
            "text/html": [
              "<pre>recommendations finished on 28000/62483 queries. users per second: 70360.4</pre>"
            ],
            "text/plain": [
              "recommendations finished on 28000/62483 queries. users per second: 70360.4"
            ]
          },
          "metadata": {}
        },
        {
          "output_type": "display_data",
          "data": {
            "text/html": [
              "<pre>recommendations finished on 29000/62483 queries. users per second: 70443.2</pre>"
            ],
            "text/plain": [
              "recommendations finished on 29000/62483 queries. users per second: 70443.2"
            ]
          },
          "metadata": {}
        },
        {
          "output_type": "display_data",
          "data": {
            "text/html": [
              "<pre>recommendations finished on 30000/62483 queries. users per second: 70461.4</pre>"
            ],
            "text/plain": [
              "recommendations finished on 30000/62483 queries. users per second: 70461.4"
            ]
          },
          "metadata": {}
        },
        {
          "output_type": "display_data",
          "data": {
            "text/html": [
              "<pre>recommendations finished on 31000/62483 queries. users per second: 70803.1</pre>"
            ],
            "text/plain": [
              "recommendations finished on 31000/62483 queries. users per second: 70803.1"
            ]
          },
          "metadata": {}
        },
        {
          "output_type": "display_data",
          "data": {
            "text/html": [
              "<pre>recommendations finished on 32000/62483 queries. users per second: 70338.6</pre>"
            ],
            "text/plain": [
              "recommendations finished on 32000/62483 queries. users per second: 70338.6"
            ]
          },
          "metadata": {}
        },
        {
          "output_type": "display_data",
          "data": {
            "text/html": [
              "<pre>recommendations finished on 33000/62483 queries. users per second: 70259.1</pre>"
            ],
            "text/plain": [
              "recommendations finished on 33000/62483 queries. users per second: 70259.1"
            ]
          },
          "metadata": {}
        },
        {
          "output_type": "display_data",
          "data": {
            "text/html": [
              "<pre>recommendations finished on 34000/62483 queries. users per second: 70061.2</pre>"
            ],
            "text/plain": [
              "recommendations finished on 34000/62483 queries. users per second: 70061.2"
            ]
          },
          "metadata": {}
        },
        {
          "output_type": "display_data",
          "data": {
            "text/html": [
              "<pre>recommendations finished on 35000/62483 queries. users per second: 70153.5</pre>"
            ],
            "text/plain": [
              "recommendations finished on 35000/62483 queries. users per second: 70153.5"
            ]
          },
          "metadata": {}
        },
        {
          "output_type": "display_data",
          "data": {
            "text/html": [
              "<pre>recommendations finished on 36000/62483 queries. users per second: 69808</pre>"
            ],
            "text/plain": [
              "recommendations finished on 36000/62483 queries. users per second: 69808"
            ]
          },
          "metadata": {}
        },
        {
          "output_type": "display_data",
          "data": {
            "text/html": [
              "<pre>recommendations finished on 37000/62483 queries. users per second: 69963.8</pre>"
            ],
            "text/plain": [
              "recommendations finished on 37000/62483 queries. users per second: 69963.8"
            ]
          },
          "metadata": {}
        },
        {
          "output_type": "display_data",
          "data": {
            "text/html": [
              "<pre>recommendations finished on 38000/62483 queries. users per second: 70007.5</pre>"
            ],
            "text/plain": [
              "recommendations finished on 38000/62483 queries. users per second: 70007.5"
            ]
          },
          "metadata": {}
        },
        {
          "output_type": "display_data",
          "data": {
            "text/html": [
              "<pre>recommendations finished on 39000/62483 queries. users per second: 70208.8</pre>"
            ],
            "text/plain": [
              "recommendations finished on 39000/62483 queries. users per second: 70208.8"
            ]
          },
          "metadata": {}
        },
        {
          "output_type": "display_data",
          "data": {
            "text/html": [
              "<pre>recommendations finished on 40000/62483 queries. users per second: 70249.6</pre>"
            ],
            "text/plain": [
              "recommendations finished on 40000/62483 queries. users per second: 70249.6"
            ]
          },
          "metadata": {}
        },
        {
          "output_type": "display_data",
          "data": {
            "text/html": [
              "<pre>recommendations finished on 41000/62483 queries. users per second: 70331.2</pre>"
            ],
            "text/plain": [
              "recommendations finished on 41000/62483 queries. users per second: 70331.2"
            ]
          },
          "metadata": {}
        },
        {
          "output_type": "display_data",
          "data": {
            "text/html": [
              "<pre>recommendations finished on 42000/62483 queries. users per second: 70439.4</pre>"
            ],
            "text/plain": [
              "recommendations finished on 42000/62483 queries. users per second: 70439.4"
            ]
          },
          "metadata": {}
        },
        {
          "output_type": "display_data",
          "data": {
            "text/html": [
              "<pre>recommendations finished on 43000/62483 queries. users per second: 70518.4</pre>"
            ],
            "text/plain": [
              "recommendations finished on 43000/62483 queries. users per second: 70518.4"
            ]
          },
          "metadata": {}
        },
        {
          "output_type": "display_data",
          "data": {
            "text/html": [
              "<pre>recommendations finished on 44000/62483 queries. users per second: 70826.9</pre>"
            ],
            "text/plain": [
              "recommendations finished on 44000/62483 queries. users per second: 70826.9"
            ]
          },
          "metadata": {}
        },
        {
          "output_type": "display_data",
          "data": {
            "text/html": [
              "<pre>recommendations finished on 45000/62483 queries. users per second: 70489.7</pre>"
            ],
            "text/plain": [
              "recommendations finished on 45000/62483 queries. users per second: 70489.7"
            ]
          },
          "metadata": {}
        },
        {
          "output_type": "display_data",
          "data": {
            "text/html": [
              "<pre>recommendations finished on 46000/62483 queries. users per second: 70451</pre>"
            ],
            "text/plain": [
              "recommendations finished on 46000/62483 queries. users per second: 70451"
            ]
          },
          "metadata": {}
        },
        {
          "output_type": "display_data",
          "data": {
            "text/html": [
              "<pre>recommendations finished on 47000/62483 queries. users per second: 70559.6</pre>"
            ],
            "text/plain": [
              "recommendations finished on 47000/62483 queries. users per second: 70559.6"
            ]
          },
          "metadata": {}
        },
        {
          "output_type": "display_data",
          "data": {
            "text/html": [
              "<pre>recommendations finished on 48000/62483 queries. users per second: 70650.7</pre>"
            ],
            "text/plain": [
              "recommendations finished on 48000/62483 queries. users per second: 70650.7"
            ]
          },
          "metadata": {}
        },
        {
          "output_type": "display_data",
          "data": {
            "text/html": [
              "<pre>recommendations finished on 49000/62483 queries. users per second: 70577.2</pre>"
            ],
            "text/plain": [
              "recommendations finished on 49000/62483 queries. users per second: 70577.2"
            ]
          },
          "metadata": {}
        },
        {
          "output_type": "display_data",
          "data": {
            "text/html": [
              "<pre>recommendations finished on 50000/62483 queries. users per second: 70640.9</pre>"
            ],
            "text/plain": [
              "recommendations finished on 50000/62483 queries. users per second: 70640.9"
            ]
          },
          "metadata": {}
        },
        {
          "output_type": "display_data",
          "data": {
            "text/html": [
              "<pre>recommendations finished on 51000/62483 queries. users per second: 70522.2</pre>"
            ],
            "text/plain": [
              "recommendations finished on 51000/62483 queries. users per second: 70522.2"
            ]
          },
          "metadata": {}
        },
        {
          "output_type": "display_data",
          "data": {
            "text/html": [
              "<pre>recommendations finished on 52000/62483 queries. users per second: 70082.9</pre>"
            ],
            "text/plain": [
              "recommendations finished on 52000/62483 queries. users per second: 70082.9"
            ]
          },
          "metadata": {}
        },
        {
          "output_type": "display_data",
          "data": {
            "text/html": [
              "<pre>recommendations finished on 53000/62483 queries. users per second: 70193.3</pre>"
            ],
            "text/plain": [
              "recommendations finished on 53000/62483 queries. users per second: 70193.3"
            ]
          },
          "metadata": {}
        },
        {
          "output_type": "display_data",
          "data": {
            "text/html": [
              "<pre>recommendations finished on 54000/62483 queries. users per second: 70222.4</pre>"
            ],
            "text/plain": [
              "recommendations finished on 54000/62483 queries. users per second: 70222.4"
            ]
          },
          "metadata": {}
        },
        {
          "output_type": "display_data",
          "data": {
            "text/html": [
              "<pre>recommendations finished on 55000/62483 queries. users per second: 70184.8</pre>"
            ],
            "text/plain": [
              "recommendations finished on 55000/62483 queries. users per second: 70184.8"
            ]
          },
          "metadata": {}
        },
        {
          "output_type": "display_data",
          "data": {
            "text/html": [
              "<pre>recommendations finished on 56000/62483 queries. users per second: 70102.2</pre>"
            ],
            "text/plain": [
              "recommendations finished on 56000/62483 queries. users per second: 70102.2"
            ]
          },
          "metadata": {}
        },
        {
          "output_type": "display_data",
          "data": {
            "text/html": [
              "<pre>recommendations finished on 57000/62483 queries. users per second: 70129</pre>"
            ],
            "text/plain": [
              "recommendations finished on 57000/62483 queries. users per second: 70129"
            ]
          },
          "metadata": {}
        },
        {
          "output_type": "display_data",
          "data": {
            "text/html": [
              "<pre>recommendations finished on 58000/62483 queries. users per second: 70295.6</pre>"
            ],
            "text/plain": [
              "recommendations finished on 58000/62483 queries. users per second: 70295.6"
            ]
          },
          "metadata": {}
        },
        {
          "output_type": "display_data",
          "data": {
            "text/html": [
              "<pre>recommendations finished on 59000/62483 queries. users per second: 69916.6</pre>"
            ],
            "text/plain": [
              "recommendations finished on 59000/62483 queries. users per second: 69916.6"
            ]
          },
          "metadata": {}
        },
        {
          "output_type": "display_data",
          "data": {
            "text/html": [
              "<pre>recommendations finished on 60000/62483 queries. users per second: 69780.6</pre>"
            ],
            "text/plain": [
              "recommendations finished on 60000/62483 queries. users per second: 69780.6"
            ]
          },
          "metadata": {}
        },
        {
          "output_type": "display_data",
          "data": {
            "text/html": [
              "<pre>recommendations finished on 61000/62483 queries. users per second: 69375.5</pre>"
            ],
            "text/plain": [
              "recommendations finished on 61000/62483 queries. users per second: 69375.5"
            ]
          },
          "metadata": {}
        },
        {
          "output_type": "display_data",
          "data": {
            "text/html": [
              "<pre>recommendations finished on 62000/62483 queries. users per second: 69246.7</pre>"
            ],
            "text/plain": [
              "recommendations finished on 62000/62483 queries. users per second: 69246.7"
            ]
          },
          "metadata": {}
        },
        {
          "output_type": "stream",
          "name": "stdout",
          "text": [
            "+------------+-----------+----------------------+------+\n",
            "| customerId | productId |        score         | rank |\n",
            "+------------+-----------+----------------------+------+\n",
            "|     0      |     2     | 0.08897279067472978  |  1   |\n",
            "|     0      |     5     | 0.06620296023108742  |  2   |\n",
            "|     0      |     15    | 0.055364234880967575 |  3   |\n",
            "|     0      |     8     | 0.055201839316974984 |  4   |\n",
            "|     0      |     0     | 0.050290487029335716 |  5   |\n",
            "|     0      |     9     | 0.04979045824571089  |  6   |\n",
            "|     0      |     61    | 0.048255980014801025 |  7   |\n",
            "|     0      |     14    | 0.04655404524369673  |  8   |\n",
            "|     0      |     12    | 0.045837023041465065 |  9   |\n",
            "|     0      |     25    | 0.04491797902367332  |  10  |\n",
            "|     1      |     11    | 0.07659927010536194  |  1   |\n",
            "|     1      |     1     | 0.07589718103408813  |  2   |\n",
            "|     1      |     5     | 0.06052998304367065  |  3   |\n",
            "|     1      |     14    | 0.05972009301185608  |  4   |\n",
            "|     1      |     15    | 0.05314038991928101  |  5   |\n",
            "|     1      |     39    | 0.052404561638832094 |  6   |\n",
            "|     1      |     33    |  0.0509083479642868  |  7   |\n",
            "|     1      |     21    | 0.04910847842693329  |  8   |\n",
            "|     1      |     20    | 0.044285187125205995 |  9   |\n",
            "|     1      |     17    |  0.044008868932724   |  10  |\n",
            "|     2      |     29    |  0.2375645160675049  |  1   |\n",
            "|     2      |     2     | 0.09937165975570679  |  2   |\n",
            "|     2      |     5     |  0.0897782325744629  |  3   |\n",
            "|     2      |     1     | 0.08259729146957398  |  4   |\n",
            "|     2      |     17    | 0.07536031007766723  |  5   |\n",
            "|     2      |     14    | 0.06790332794189453  |  6   |\n",
            "|     2      |     15    | 0.05984424352645874  |  7   |\n",
            "|     2      |     35    | 0.05739213228225708  |  8   |\n",
            "|     2      |     59    | 0.05692451000213623  |  9   |\n",
            "|     2      |     0     | 0.055800783634185794 |  10  |\n",
            "+------------+-----------+----------------------+------+\n",
            "[624830 rows x 4 columns]\n",
            "\n"
          ]
        }
      ]
    },
    {
      "cell_type": "code",
      "metadata": {
        "colab": {
          "base_uri": "https://localhost:8080/",
          "height": 1000
        },
        "id": "CMtPY-FZyRCA",
        "outputId": "c328b172-e619-4ef0-ee4b-82ace69ba15d"
      },
      "source": [
        "name = 'cosine'\n",
        "target = 'scaled_purchase_freq'\n",
        "cos_norm = model(train_data_norm, name, user_id, item_id, target, users_to_recommend, n_rec, n_display)"
      ],
      "execution_count": 51,
      "outputs": [
        {
          "output_type": "display_data",
          "data": {
            "text/html": [
              "<pre>Preparing data set.</pre>"
            ],
            "text/plain": [
              "Preparing data set."
            ]
          },
          "metadata": {}
        },
        {
          "output_type": "display_data",
          "data": {
            "text/html": [
              "<pre>    Data has 106868 observations with 23265 users and 300 items.</pre>"
            ],
            "text/plain": [
              "    Data has 106868 observations with 23265 users and 300 items."
            ]
          },
          "metadata": {}
        },
        {
          "output_type": "display_data",
          "data": {
            "text/html": [
              "<pre>    Data prepared in: 0.14657s</pre>"
            ],
            "text/plain": [
              "    Data prepared in: 0.14657s"
            ]
          },
          "metadata": {}
        },
        {
          "output_type": "display_data",
          "data": {
            "text/html": [
              "<pre>Training model from provided data.</pre>"
            ],
            "text/plain": [
              "Training model from provided data."
            ]
          },
          "metadata": {}
        },
        {
          "output_type": "display_data",
          "data": {
            "text/html": [
              "<pre>Gathering per-item and per-user statistics.</pre>"
            ],
            "text/plain": [
              "Gathering per-item and per-user statistics."
            ]
          },
          "metadata": {}
        },
        {
          "output_type": "display_data",
          "data": {
            "text/html": [
              "<pre>+--------------------------------+------------+</pre>"
            ],
            "text/plain": [
              "+--------------------------------+------------+"
            ]
          },
          "metadata": {}
        },
        {
          "output_type": "display_data",
          "data": {
            "text/html": [
              "<pre>| Elapsed Time (Item Statistics) | % Complete |</pre>"
            ],
            "text/plain": [
              "| Elapsed Time (Item Statistics) | % Complete |"
            ]
          },
          "metadata": {}
        },
        {
          "output_type": "display_data",
          "data": {
            "text/html": [
              "<pre>+--------------------------------+------------+</pre>"
            ],
            "text/plain": [
              "+--------------------------------+------------+"
            ]
          },
          "metadata": {}
        },
        {
          "output_type": "display_data",
          "data": {
            "text/html": [
              "<pre>| 1.05ms                         | 4.25       |</pre>"
            ],
            "text/plain": [
              "| 1.05ms                         | 4.25       |"
            ]
          },
          "metadata": {}
        },
        {
          "output_type": "display_data",
          "data": {
            "text/html": [
              "<pre>| 31.201ms                       | 100        |</pre>"
            ],
            "text/plain": [
              "| 31.201ms                       | 100        |"
            ]
          },
          "metadata": {}
        },
        {
          "output_type": "display_data",
          "data": {
            "text/html": [
              "<pre>+--------------------------------+------------+</pre>"
            ],
            "text/plain": [
              "+--------------------------------+------------+"
            ]
          },
          "metadata": {}
        },
        {
          "output_type": "display_data",
          "data": {
            "text/html": [
              "<pre>Setting up lookup tables.</pre>"
            ],
            "text/plain": [
              "Setting up lookup tables."
            ]
          },
          "metadata": {}
        },
        {
          "output_type": "display_data",
          "data": {
            "text/html": [
              "<pre>Processing data in one pass using dense lookup tables.</pre>"
            ],
            "text/plain": [
              "Processing data in one pass using dense lookup tables."
            ]
          },
          "metadata": {}
        },
        {
          "output_type": "display_data",
          "data": {
            "text/html": [
              "<pre>+-------------------------------------+------------------+-----------------+</pre>"
            ],
            "text/plain": [
              "+-------------------------------------+------------------+-----------------+"
            ]
          },
          "metadata": {}
        },
        {
          "output_type": "display_data",
          "data": {
            "text/html": [
              "<pre>| Elapsed Time (Constructing Lookups) | Total % Complete | Items Processed |</pre>"
            ],
            "text/plain": [
              "| Elapsed Time (Constructing Lookups) | Total % Complete | Items Processed |"
            ]
          },
          "metadata": {}
        },
        {
          "output_type": "display_data",
          "data": {
            "text/html": [
              "<pre>+-------------------------------------+------------------+-----------------+</pre>"
            ],
            "text/plain": [
              "+-------------------------------------+------------------+-----------------+"
            ]
          },
          "metadata": {}
        },
        {
          "output_type": "display_data",
          "data": {
            "text/html": [
              "<pre>| 31.989ms                            | 0                | 0               |</pre>"
            ],
            "text/plain": [
              "| 31.989ms                            | 0                | 0               |"
            ]
          },
          "metadata": {}
        },
        {
          "output_type": "display_data",
          "data": {
            "text/html": [
              "<pre>| 72.241ms                            | 100              | 300             |</pre>"
            ],
            "text/plain": [
              "| 72.241ms                            | 100              | 300             |"
            ]
          },
          "metadata": {}
        },
        {
          "output_type": "display_data",
          "data": {
            "text/html": [
              "<pre>+-------------------------------------+------------------+-----------------+</pre>"
            ],
            "text/plain": [
              "+-------------------------------------+------------------+-----------------+"
            ]
          },
          "metadata": {}
        },
        {
          "output_type": "display_data",
          "data": {
            "text/html": [
              "<pre>Finalizing lookup tables.</pre>"
            ],
            "text/plain": [
              "Finalizing lookup tables."
            ]
          },
          "metadata": {}
        },
        {
          "output_type": "display_data",
          "data": {
            "text/html": [
              "<pre>Generating candidate set for working with new users.</pre>"
            ],
            "text/plain": [
              "Generating candidate set for working with new users."
            ]
          },
          "metadata": {}
        },
        {
          "output_type": "display_data",
          "data": {
            "text/html": [
              "<pre>Finished training in 0.086002s</pre>"
            ],
            "text/plain": [
              "Finished training in 0.086002s"
            ]
          },
          "metadata": {}
        },
        {
          "output_type": "display_data",
          "data": {
            "text/html": [
              "<pre>recommendations finished on 1000/62483 queries. users per second: 62897</pre>"
            ],
            "text/plain": [
              "recommendations finished on 1000/62483 queries. users per second: 62897"
            ]
          },
          "metadata": {}
        },
        {
          "output_type": "display_data",
          "data": {
            "text/html": [
              "<pre>recommendations finished on 2000/62483 queries. users per second: 70145.9</pre>"
            ],
            "text/plain": [
              "recommendations finished on 2000/62483 queries. users per second: 70145.9"
            ]
          },
          "metadata": {}
        },
        {
          "output_type": "display_data",
          "data": {
            "text/html": [
              "<pre>recommendations finished on 3000/62483 queries. users per second: 71255.5</pre>"
            ],
            "text/plain": [
              "recommendations finished on 3000/62483 queries. users per second: 71255.5"
            ]
          },
          "metadata": {}
        },
        {
          "output_type": "display_data",
          "data": {
            "text/html": [
              "<pre>recommendations finished on 4000/62483 queries. users per second: 71138.9</pre>"
            ],
            "text/plain": [
              "recommendations finished on 4000/62483 queries. users per second: 71138.9"
            ]
          },
          "metadata": {}
        },
        {
          "output_type": "display_data",
          "data": {
            "text/html": [
              "<pre>recommendations finished on 5000/62483 queries. users per second: 71486.8</pre>"
            ],
            "text/plain": [
              "recommendations finished on 5000/62483 queries. users per second: 71486.8"
            ]
          },
          "metadata": {}
        },
        {
          "output_type": "display_data",
          "data": {
            "text/html": [
              "<pre>recommendations finished on 6000/62483 queries. users per second: 70531.8</pre>"
            ],
            "text/plain": [
              "recommendations finished on 6000/62483 queries. users per second: 70531.8"
            ]
          },
          "metadata": {}
        },
        {
          "output_type": "display_data",
          "data": {
            "text/html": [
              "<pre>recommendations finished on 7000/62483 queries. users per second: 71673.6</pre>"
            ],
            "text/plain": [
              "recommendations finished on 7000/62483 queries. users per second: 71673.6"
            ]
          },
          "metadata": {}
        },
        {
          "output_type": "display_data",
          "data": {
            "text/html": [
              "<pre>recommendations finished on 8000/62483 queries. users per second: 71329.2</pre>"
            ],
            "text/plain": [
              "recommendations finished on 8000/62483 queries. users per second: 71329.2"
            ]
          },
          "metadata": {}
        },
        {
          "output_type": "display_data",
          "data": {
            "text/html": [
              "<pre>recommendations finished on 9000/62483 queries. users per second: 72530.9</pre>"
            ],
            "text/plain": [
              "recommendations finished on 9000/62483 queries. users per second: 72530.9"
            ]
          },
          "metadata": {}
        },
        {
          "output_type": "display_data",
          "data": {
            "text/html": [
              "<pre>recommendations finished on 10000/62483 queries. users per second: 72904.4</pre>"
            ],
            "text/plain": [
              "recommendations finished on 10000/62483 queries. users per second: 72904.4"
            ]
          },
          "metadata": {}
        },
        {
          "output_type": "display_data",
          "data": {
            "text/html": [
              "<pre>recommendations finished on 11000/62483 queries. users per second: 70456.8</pre>"
            ],
            "text/plain": [
              "recommendations finished on 11000/62483 queries. users per second: 70456.8"
            ]
          },
          "metadata": {}
        },
        {
          "output_type": "display_data",
          "data": {
            "text/html": [
              "<pre>recommendations finished on 12000/62483 queries. users per second: 69017.1</pre>"
            ],
            "text/plain": [
              "recommendations finished on 12000/62483 queries. users per second: 69017.1"
            ]
          },
          "metadata": {}
        },
        {
          "output_type": "display_data",
          "data": {
            "text/html": [
              "<pre>recommendations finished on 13000/62483 queries. users per second: 69663.3</pre>"
            ],
            "text/plain": [
              "recommendations finished on 13000/62483 queries. users per second: 69663.3"
            ]
          },
          "metadata": {}
        },
        {
          "output_type": "display_data",
          "data": {
            "text/html": [
              "<pre>recommendations finished on 14000/62483 queries. users per second: 69215.1</pre>"
            ],
            "text/plain": [
              "recommendations finished on 14000/62483 queries. users per second: 69215.1"
            ]
          },
          "metadata": {}
        },
        {
          "output_type": "display_data",
          "data": {
            "text/html": [
              "<pre>recommendations finished on 15000/62483 queries. users per second: 69386.3</pre>"
            ],
            "text/plain": [
              "recommendations finished on 15000/62483 queries. users per second: 69386.3"
            ]
          },
          "metadata": {}
        },
        {
          "output_type": "display_data",
          "data": {
            "text/html": [
              "<pre>recommendations finished on 16000/62483 queries. users per second: 66188.5</pre>"
            ],
            "text/plain": [
              "recommendations finished on 16000/62483 queries. users per second: 66188.5"
            ]
          },
          "metadata": {}
        },
        {
          "output_type": "display_data",
          "data": {
            "text/html": [
              "<pre>recommendations finished on 17000/62483 queries. users per second: 65092.5</pre>"
            ],
            "text/plain": [
              "recommendations finished on 17000/62483 queries. users per second: 65092.5"
            ]
          },
          "metadata": {}
        },
        {
          "output_type": "display_data",
          "data": {
            "text/html": [
              "<pre>recommendations finished on 18000/62483 queries. users per second: 65019.5</pre>"
            ],
            "text/plain": [
              "recommendations finished on 18000/62483 queries. users per second: 65019.5"
            ]
          },
          "metadata": {}
        },
        {
          "output_type": "display_data",
          "data": {
            "text/html": [
              "<pre>recommendations finished on 19000/62483 queries. users per second: 64351.6</pre>"
            ],
            "text/plain": [
              "recommendations finished on 19000/62483 queries. users per second: 64351.6"
            ]
          },
          "metadata": {}
        },
        {
          "output_type": "display_data",
          "data": {
            "text/html": [
              "<pre>recommendations finished on 20000/62483 queries. users per second: 64830.2</pre>"
            ],
            "text/plain": [
              "recommendations finished on 20000/62483 queries. users per second: 64830.2"
            ]
          },
          "metadata": {}
        },
        {
          "output_type": "display_data",
          "data": {
            "text/html": [
              "<pre>recommendations finished on 21000/62483 queries. users per second: 65192.7</pre>"
            ],
            "text/plain": [
              "recommendations finished on 21000/62483 queries. users per second: 65192.7"
            ]
          },
          "metadata": {}
        },
        {
          "output_type": "display_data",
          "data": {
            "text/html": [
              "<pre>recommendations finished on 22000/62483 queries. users per second: 65444.2</pre>"
            ],
            "text/plain": [
              "recommendations finished on 22000/62483 queries. users per second: 65444.2"
            ]
          },
          "metadata": {}
        },
        {
          "output_type": "display_data",
          "data": {
            "text/html": [
              "<pre>recommendations finished on 23000/62483 queries. users per second: 65552.7</pre>"
            ],
            "text/plain": [
              "recommendations finished on 23000/62483 queries. users per second: 65552.7"
            ]
          },
          "metadata": {}
        },
        {
          "output_type": "display_data",
          "data": {
            "text/html": [
              "<pre>recommendations finished on 24000/62483 queries. users per second: 65842.2</pre>"
            ],
            "text/plain": [
              "recommendations finished on 24000/62483 queries. users per second: 65842.2"
            ]
          },
          "metadata": {}
        },
        {
          "output_type": "display_data",
          "data": {
            "text/html": [
              "<pre>recommendations finished on 25000/62483 queries. users per second: 66050.2</pre>"
            ],
            "text/plain": [
              "recommendations finished on 25000/62483 queries. users per second: 66050.2"
            ]
          },
          "metadata": {}
        },
        {
          "output_type": "display_data",
          "data": {
            "text/html": [
              "<pre>recommendations finished on 26000/62483 queries. users per second: 66489.9</pre>"
            ],
            "text/plain": [
              "recommendations finished on 26000/62483 queries. users per second: 66489.9"
            ]
          },
          "metadata": {}
        },
        {
          "output_type": "display_data",
          "data": {
            "text/html": [
              "<pre>recommendations finished on 27000/62483 queries. users per second: 66657.4</pre>"
            ],
            "text/plain": [
              "recommendations finished on 27000/62483 queries. users per second: 66657.4"
            ]
          },
          "metadata": {}
        },
        {
          "output_type": "display_data",
          "data": {
            "text/html": [
              "<pre>recommendations finished on 28000/62483 queries. users per second: 66844</pre>"
            ],
            "text/plain": [
              "recommendations finished on 28000/62483 queries. users per second: 66844"
            ]
          },
          "metadata": {}
        },
        {
          "output_type": "display_data",
          "data": {
            "text/html": [
              "<pre>recommendations finished on 29000/62483 queries. users per second: 66444.4</pre>"
            ],
            "text/plain": [
              "recommendations finished on 29000/62483 queries. users per second: 66444.4"
            ]
          },
          "metadata": {}
        },
        {
          "output_type": "display_data",
          "data": {
            "text/html": [
              "<pre>recommendations finished on 30000/62483 queries. users per second: 66602</pre>"
            ],
            "text/plain": [
              "recommendations finished on 30000/62483 queries. users per second: 66602"
            ]
          },
          "metadata": {}
        },
        {
          "output_type": "display_data",
          "data": {
            "text/html": [
              "<pre>recommendations finished on 31000/62483 queries. users per second: 66550.7</pre>"
            ],
            "text/plain": [
              "recommendations finished on 31000/62483 queries. users per second: 66550.7"
            ]
          },
          "metadata": {}
        },
        {
          "output_type": "display_data",
          "data": {
            "text/html": [
              "<pre>recommendations finished on 32000/62483 queries. users per second: 66624.7</pre>"
            ],
            "text/plain": [
              "recommendations finished on 32000/62483 queries. users per second: 66624.7"
            ]
          },
          "metadata": {}
        },
        {
          "output_type": "display_data",
          "data": {
            "text/html": [
              "<pre>recommendations finished on 33000/62483 queries. users per second: 66761.8</pre>"
            ],
            "text/plain": [
              "recommendations finished on 33000/62483 queries. users per second: 66761.8"
            ]
          },
          "metadata": {}
        },
        {
          "output_type": "display_data",
          "data": {
            "text/html": [
              "<pre>recommendations finished on 34000/62483 queries. users per second: 67162.7</pre>"
            ],
            "text/plain": [
              "recommendations finished on 34000/62483 queries. users per second: 67162.7"
            ]
          },
          "metadata": {}
        },
        {
          "output_type": "display_data",
          "data": {
            "text/html": [
              "<pre>recommendations finished on 35000/62483 queries. users per second: 66487.8</pre>"
            ],
            "text/plain": [
              "recommendations finished on 35000/62483 queries. users per second: 66487.8"
            ]
          },
          "metadata": {}
        },
        {
          "output_type": "display_data",
          "data": {
            "text/html": [
              "<pre>recommendations finished on 36000/62483 queries. users per second: 66551.8</pre>"
            ],
            "text/plain": [
              "recommendations finished on 36000/62483 queries. users per second: 66551.8"
            ]
          },
          "metadata": {}
        },
        {
          "output_type": "display_data",
          "data": {
            "text/html": [
              "<pre>recommendations finished on 37000/62483 queries. users per second: 66636.3</pre>"
            ],
            "text/plain": [
              "recommendations finished on 37000/62483 queries. users per second: 66636.3"
            ]
          },
          "metadata": {}
        },
        {
          "output_type": "display_data",
          "data": {
            "text/html": [
              "<pre>recommendations finished on 38000/62483 queries. users per second: 66902.9</pre>"
            ],
            "text/plain": [
              "recommendations finished on 38000/62483 queries. users per second: 66902.9"
            ]
          },
          "metadata": {}
        },
        {
          "output_type": "display_data",
          "data": {
            "text/html": [
              "<pre>recommendations finished on 39000/62483 queries. users per second: 66932.8</pre>"
            ],
            "text/plain": [
              "recommendations finished on 39000/62483 queries. users per second: 66932.8"
            ]
          },
          "metadata": {}
        },
        {
          "output_type": "display_data",
          "data": {
            "text/html": [
              "<pre>recommendations finished on 40000/62483 queries. users per second: 66822.4</pre>"
            ],
            "text/plain": [
              "recommendations finished on 40000/62483 queries. users per second: 66822.4"
            ]
          },
          "metadata": {}
        },
        {
          "output_type": "display_data",
          "data": {
            "text/html": [
              "<pre>recommendations finished on 41000/62483 queries. users per second: 67050.4</pre>"
            ],
            "text/plain": [
              "recommendations finished on 41000/62483 queries. users per second: 67050.4"
            ]
          },
          "metadata": {}
        },
        {
          "output_type": "display_data",
          "data": {
            "text/html": [
              "<pre>recommendations finished on 42000/62483 queries. users per second: 67338.3</pre>"
            ],
            "text/plain": [
              "recommendations finished on 42000/62483 queries. users per second: 67338.3"
            ]
          },
          "metadata": {}
        },
        {
          "output_type": "display_data",
          "data": {
            "text/html": [
              "<pre>recommendations finished on 43000/62483 queries. users per second: 67453.2</pre>"
            ],
            "text/plain": [
              "recommendations finished on 43000/62483 queries. users per second: 67453.2"
            ]
          },
          "metadata": {}
        },
        {
          "output_type": "display_data",
          "data": {
            "text/html": [
              "<pre>recommendations finished on 44000/62483 queries. users per second: 67294.2</pre>"
            ],
            "text/plain": [
              "recommendations finished on 44000/62483 queries. users per second: 67294.2"
            ]
          },
          "metadata": {}
        },
        {
          "output_type": "display_data",
          "data": {
            "text/html": [
              "<pre>recommendations finished on 45000/62483 queries. users per second: 67418.6</pre>"
            ],
            "text/plain": [
              "recommendations finished on 45000/62483 queries. users per second: 67418.6"
            ]
          },
          "metadata": {}
        },
        {
          "output_type": "display_data",
          "data": {
            "text/html": [
              "<pre>recommendations finished on 46000/62483 queries. users per second: 67638.8</pre>"
            ],
            "text/plain": [
              "recommendations finished on 46000/62483 queries. users per second: 67638.8"
            ]
          },
          "metadata": {}
        },
        {
          "output_type": "display_data",
          "data": {
            "text/html": [
              "<pre>recommendations finished on 47000/62483 queries. users per second: 67583.3</pre>"
            ],
            "text/plain": [
              "recommendations finished on 47000/62483 queries. users per second: 67583.3"
            ]
          },
          "metadata": {}
        },
        {
          "output_type": "display_data",
          "data": {
            "text/html": [
              "<pre>recommendations finished on 48000/62483 queries. users per second: 67445.9</pre>"
            ],
            "text/plain": [
              "recommendations finished on 48000/62483 queries. users per second: 67445.9"
            ]
          },
          "metadata": {}
        },
        {
          "output_type": "display_data",
          "data": {
            "text/html": [
              "<pre>recommendations finished on 49000/62483 queries. users per second: 67296.1</pre>"
            ],
            "text/plain": [
              "recommendations finished on 49000/62483 queries. users per second: 67296.1"
            ]
          },
          "metadata": {}
        },
        {
          "output_type": "display_data",
          "data": {
            "text/html": [
              "<pre>recommendations finished on 50000/62483 queries. users per second: 67429.4</pre>"
            ],
            "text/plain": [
              "recommendations finished on 50000/62483 queries. users per second: 67429.4"
            ]
          },
          "metadata": {}
        },
        {
          "output_type": "display_data",
          "data": {
            "text/html": [
              "<pre>recommendations finished on 51000/62483 queries. users per second: 67419.5</pre>"
            ],
            "text/plain": [
              "recommendations finished on 51000/62483 queries. users per second: 67419.5"
            ]
          },
          "metadata": {}
        },
        {
          "output_type": "display_data",
          "data": {
            "text/html": [
              "<pre>recommendations finished on 52000/62483 queries. users per second: 67544.5</pre>"
            ],
            "text/plain": [
              "recommendations finished on 52000/62483 queries. users per second: 67544.5"
            ]
          },
          "metadata": {}
        },
        {
          "output_type": "display_data",
          "data": {
            "text/html": [
              "<pre>recommendations finished on 53000/62483 queries. users per second: 67638.2</pre>"
            ],
            "text/plain": [
              "recommendations finished on 53000/62483 queries. users per second: 67638.2"
            ]
          },
          "metadata": {}
        },
        {
          "output_type": "display_data",
          "data": {
            "text/html": [
              "<pre>recommendations finished on 54000/62483 queries. users per second: 67834</pre>"
            ],
            "text/plain": [
              "recommendations finished on 54000/62483 queries. users per second: 67834"
            ]
          },
          "metadata": {}
        },
        {
          "output_type": "display_data",
          "data": {
            "text/html": [
              "<pre>recommendations finished on 55000/62483 queries. users per second: 67808</pre>"
            ],
            "text/plain": [
              "recommendations finished on 55000/62483 queries. users per second: 67808"
            ]
          },
          "metadata": {}
        },
        {
          "output_type": "display_data",
          "data": {
            "text/html": [
              "<pre>recommendations finished on 56000/62483 queries. users per second: 67933.1</pre>"
            ],
            "text/plain": [
              "recommendations finished on 56000/62483 queries. users per second: 67933.1"
            ]
          },
          "metadata": {}
        },
        {
          "output_type": "display_data",
          "data": {
            "text/html": [
              "<pre>recommendations finished on 57000/62483 queries. users per second: 67810.6</pre>"
            ],
            "text/plain": [
              "recommendations finished on 57000/62483 queries. users per second: 67810.6"
            ]
          },
          "metadata": {}
        },
        {
          "output_type": "display_data",
          "data": {
            "text/html": [
              "<pre>recommendations finished on 58000/62483 queries. users per second: 67373.8</pre>"
            ],
            "text/plain": [
              "recommendations finished on 58000/62483 queries. users per second: 67373.8"
            ]
          },
          "metadata": {}
        },
        {
          "output_type": "display_data",
          "data": {
            "text/html": [
              "<pre>recommendations finished on 59000/62483 queries. users per second: 67253.2</pre>"
            ],
            "text/plain": [
              "recommendations finished on 59000/62483 queries. users per second: 67253.2"
            ]
          },
          "metadata": {}
        },
        {
          "output_type": "display_data",
          "data": {
            "text/html": [
              "<pre>recommendations finished on 60000/62483 queries. users per second: 66590.7</pre>"
            ],
            "text/plain": [
              "recommendations finished on 60000/62483 queries. users per second: 66590.7"
            ]
          },
          "metadata": {}
        },
        {
          "output_type": "display_data",
          "data": {
            "text/html": [
              "<pre>recommendations finished on 61000/62483 queries. users per second: 66487.5</pre>"
            ],
            "text/plain": [
              "recommendations finished on 61000/62483 queries. users per second: 66487.5"
            ]
          },
          "metadata": {}
        },
        {
          "output_type": "display_data",
          "data": {
            "text/html": [
              "<pre>recommendations finished on 62000/62483 queries. users per second: 66447.5</pre>"
            ],
            "text/plain": [
              "recommendations finished on 62000/62483 queries. users per second: 66447.5"
            ]
          },
          "metadata": {}
        },
        {
          "output_type": "stream",
          "name": "stdout",
          "text": [
            "+------------+-----------+-----------------------+------+\n",
            "| customerId | productId |         score         | rank |\n",
            "+------------+-----------+-----------------------+------+\n",
            "|     0      |    255    |  0.007790707624875582 |  1   |\n",
            "|     0      |     2     |  0.005789128633645864 |  2   |\n",
            "|     0      |    217    |  0.005641043186187744 |  3   |\n",
            "|     0      |    238    |  0.005460982139293964 |  4   |\n",
            "|     0      |    174    |  0.004132765990037184 |  5   |\n",
            "|     0      |    248    |  0.004119442059443547 |  6   |\n",
            "|     0      |     21    |  0.003964607532207782 |  7   |\n",
            "|     0      |     12    | 0.0035383930573096643 |  8   |\n",
            "|     0      |     35    | 0.0034239567243135893 |  9   |\n",
            "|     0      |    155    | 0.0033476673639737642 |  10  |\n",
            "|     1      |    251    | 0.0036339759826660156 |  1   |\n",
            "|     1      |     21    | 0.0031361132860183716 |  2   |\n",
            "|     1      |    105    | 0.0025331228971481323 |  3   |\n",
            "|     1      |    150    | 0.0022846870124340057 |  4   |\n",
            "|     1      |     1     | 0.0020703263580799103 |  5   |\n",
            "|     1      |    181    | 0.0020101740956306458 |  6   |\n",
            "|     1      |     15    | 0.0017912723124027252 |  7   |\n",
            "|     1      |    254    |  0.001619439572095871 |  8   |\n",
            "|     1      |     8     | 0.0016115382313728333 |  9   |\n",
            "|     1      |     39    | 0.0015336796641349792 |  10  |\n",
            "|     2      |    207    | 0.0020789504051208496 |  1   |\n",
            "|     2      |    134    | 0.0020746787389119468 |  2   |\n",
            "|     2      |    212    | 0.0016982555389404297 |  3   |\n",
            "|     2      |    216    |  0.001347889502843221 |  4   |\n",
            "|     2      |    204    | 0.0011712114016215007 |  5   |\n",
            "|     2      |    250    |  0.001127322514851888 |  6   |\n",
            "|     2      |     5     | 0.0010710557301839192 |  7   |\n",
            "|     2      |    181    | 0.0010418792565663655 |  8   |\n",
            "|     2      |     31    | 0.0009657144546508789 |  9   |\n",
            "|     2      |     21    | 0.0009472469488779703 |  10  |\n",
            "+------------+-----------+-----------------------+------+\n",
            "[624830 rows x 4 columns]\n",
            "\n"
          ]
        }
      ]
    },
    {
      "cell_type": "code",
      "metadata": {
        "colab": {
          "base_uri": "https://localhost:8080/",
          "height": 1000
        },
        "id": "KyULyIfdyVsA",
        "outputId": "cbeb0f97-5be7-4973-fbcc-ca3b603d4304"
      },
      "source": [
        "\n",
        "# these variables will change accordingly\n",
        "name = 'pearson'\n",
        "target = 'purchase_count'\n",
        "pear = model(train_data, name, user_id, item_id, target, users_to_recommend, n_rec, n_display)"
      ],
      "execution_count": 52,
      "outputs": [
        {
          "output_type": "display_data",
          "data": {
            "text/html": [
              "<pre>Preparing data set.</pre>"
            ],
            "text/plain": [
              "Preparing data set."
            ]
          },
          "metadata": {}
        },
        {
          "output_type": "display_data",
          "data": {
            "text/html": [
              "<pre>    Data has 106868 observations with 23322 users and 300 items.</pre>"
            ],
            "text/plain": [
              "    Data has 106868 observations with 23322 users and 300 items."
            ]
          },
          "metadata": {}
        },
        {
          "output_type": "display_data",
          "data": {
            "text/html": [
              "<pre>    Data prepared in: 0.143858s</pre>"
            ],
            "text/plain": [
              "    Data prepared in: 0.143858s"
            ]
          },
          "metadata": {}
        },
        {
          "output_type": "display_data",
          "data": {
            "text/html": [
              "<pre>Training model from provided data.</pre>"
            ],
            "text/plain": [
              "Training model from provided data."
            ]
          },
          "metadata": {}
        },
        {
          "output_type": "display_data",
          "data": {
            "text/html": [
              "<pre>Gathering per-item and per-user statistics.</pre>"
            ],
            "text/plain": [
              "Gathering per-item and per-user statistics."
            ]
          },
          "metadata": {}
        },
        {
          "output_type": "display_data",
          "data": {
            "text/html": [
              "<pre>+--------------------------------+------------+</pre>"
            ],
            "text/plain": [
              "+--------------------------------+------------+"
            ]
          },
          "metadata": {}
        },
        {
          "output_type": "display_data",
          "data": {
            "text/html": [
              "<pre>| Elapsed Time (Item Statistics) | % Complete |</pre>"
            ],
            "text/plain": [
              "| Elapsed Time (Item Statistics) | % Complete |"
            ]
          },
          "metadata": {}
        },
        {
          "output_type": "display_data",
          "data": {
            "text/html": [
              "<pre>+--------------------------------+------------+</pre>"
            ],
            "text/plain": [
              "+--------------------------------+------------+"
            ]
          },
          "metadata": {}
        },
        {
          "output_type": "display_data",
          "data": {
            "text/html": [
              "<pre>| 2.034ms                        | 4.25       |</pre>"
            ],
            "text/plain": [
              "| 2.034ms                        | 4.25       |"
            ]
          },
          "metadata": {}
        },
        {
          "output_type": "display_data",
          "data": {
            "text/html": [
              "<pre>| 30.212ms                       | 100        |</pre>"
            ],
            "text/plain": [
              "| 30.212ms                       | 100        |"
            ]
          },
          "metadata": {}
        },
        {
          "output_type": "display_data",
          "data": {
            "text/html": [
              "<pre>+--------------------------------+------------+</pre>"
            ],
            "text/plain": [
              "+--------------------------------+------------+"
            ]
          },
          "metadata": {}
        },
        {
          "output_type": "display_data",
          "data": {
            "text/html": [
              "<pre>Setting up lookup tables.</pre>"
            ],
            "text/plain": [
              "Setting up lookup tables."
            ]
          },
          "metadata": {}
        },
        {
          "output_type": "display_data",
          "data": {
            "text/html": [
              "<pre>Processing data in one pass using dense lookup tables.</pre>"
            ],
            "text/plain": [
              "Processing data in one pass using dense lookup tables."
            ]
          },
          "metadata": {}
        },
        {
          "output_type": "display_data",
          "data": {
            "text/html": [
              "<pre>+-------------------------------------+------------------+-----------------+</pre>"
            ],
            "text/plain": [
              "+-------------------------------------+------------------+-----------------+"
            ]
          },
          "metadata": {}
        },
        {
          "output_type": "display_data",
          "data": {
            "text/html": [
              "<pre>| Elapsed Time (Constructing Lookups) | Total % Complete | Items Processed |</pre>"
            ],
            "text/plain": [
              "| Elapsed Time (Constructing Lookups) | Total % Complete | Items Processed |"
            ]
          },
          "metadata": {}
        },
        {
          "output_type": "display_data",
          "data": {
            "text/html": [
              "<pre>+-------------------------------------+------------------+-----------------+</pre>"
            ],
            "text/plain": [
              "+-------------------------------------+------------------+-----------------+"
            ]
          },
          "metadata": {}
        },
        {
          "output_type": "display_data",
          "data": {
            "text/html": [
              "<pre>| 33.326ms                            | 0                | 0               |</pre>"
            ],
            "text/plain": [
              "| 33.326ms                            | 0                | 0               |"
            ]
          },
          "metadata": {}
        },
        {
          "output_type": "display_data",
          "data": {
            "text/html": [
              "<pre>| 77.483ms                            | 100              | 300             |</pre>"
            ],
            "text/plain": [
              "| 77.483ms                            | 100              | 300             |"
            ]
          },
          "metadata": {}
        },
        {
          "output_type": "display_data",
          "data": {
            "text/html": [
              "<pre>+-------------------------------------+------------------+-----------------+</pre>"
            ],
            "text/plain": [
              "+-------------------------------------+------------------+-----------------+"
            ]
          },
          "metadata": {}
        },
        {
          "output_type": "display_data",
          "data": {
            "text/html": [
              "<pre>Finalizing lookup tables.</pre>"
            ],
            "text/plain": [
              "Finalizing lookup tables."
            ]
          },
          "metadata": {}
        },
        {
          "output_type": "display_data",
          "data": {
            "text/html": [
              "<pre>Generating candidate set for working with new users.</pre>"
            ],
            "text/plain": [
              "Generating candidate set for working with new users."
            ]
          },
          "metadata": {}
        },
        {
          "output_type": "display_data",
          "data": {
            "text/html": [
              "<pre>Finished training in 0.105183s</pre>"
            ],
            "text/plain": [
              "Finished training in 0.105183s"
            ]
          },
          "metadata": {}
        },
        {
          "output_type": "display_data",
          "data": {
            "text/html": [
              "<pre>recommendations finished on 1000/62483 queries. users per second: 59669.4</pre>"
            ],
            "text/plain": [
              "recommendations finished on 1000/62483 queries. users per second: 59669.4"
            ]
          },
          "metadata": {}
        },
        {
          "output_type": "display_data",
          "data": {
            "text/html": [
              "<pre>recommendations finished on 2000/62483 queries. users per second: 62743.1</pre>"
            ],
            "text/plain": [
              "recommendations finished on 2000/62483 queries. users per second: 62743.1"
            ]
          },
          "metadata": {}
        },
        {
          "output_type": "display_data",
          "data": {
            "text/html": [
              "<pre>recommendations finished on 3000/62483 queries. users per second: 64950.5</pre>"
            ],
            "text/plain": [
              "recommendations finished on 3000/62483 queries. users per second: 64950.5"
            ]
          },
          "metadata": {}
        },
        {
          "output_type": "display_data",
          "data": {
            "text/html": [
              "<pre>recommendations finished on 4000/62483 queries. users per second: 67011.8</pre>"
            ],
            "text/plain": [
              "recommendations finished on 4000/62483 queries. users per second: 67011.8"
            ]
          },
          "metadata": {}
        },
        {
          "output_type": "display_data",
          "data": {
            "text/html": [
              "<pre>recommendations finished on 5000/62483 queries. users per second: 66771.7</pre>"
            ],
            "text/plain": [
              "recommendations finished on 5000/62483 queries. users per second: 66771.7"
            ]
          },
          "metadata": {}
        },
        {
          "output_type": "display_data",
          "data": {
            "text/html": [
              "<pre>recommendations finished on 6000/62483 queries. users per second: 67208.1</pre>"
            ],
            "text/plain": [
              "recommendations finished on 6000/62483 queries. users per second: 67208.1"
            ]
          },
          "metadata": {}
        },
        {
          "output_type": "display_data",
          "data": {
            "text/html": [
              "<pre>recommendations finished on 7000/62483 queries. users per second: 67856.4</pre>"
            ],
            "text/plain": [
              "recommendations finished on 7000/62483 queries. users per second: 67856.4"
            ]
          },
          "metadata": {}
        },
        {
          "output_type": "display_data",
          "data": {
            "text/html": [
              "<pre>recommendations finished on 8000/62483 queries. users per second: 68601.2</pre>"
            ],
            "text/plain": [
              "recommendations finished on 8000/62483 queries. users per second: 68601.2"
            ]
          },
          "metadata": {}
        },
        {
          "output_type": "display_data",
          "data": {
            "text/html": [
              "<pre>recommendations finished on 9000/62483 queries. users per second: 68438.5</pre>"
            ],
            "text/plain": [
              "recommendations finished on 9000/62483 queries. users per second: 68438.5"
            ]
          },
          "metadata": {}
        },
        {
          "output_type": "display_data",
          "data": {
            "text/html": [
              "<pre>recommendations finished on 10000/62483 queries. users per second: 67692.9</pre>"
            ],
            "text/plain": [
              "recommendations finished on 10000/62483 queries. users per second: 67692.9"
            ]
          },
          "metadata": {}
        },
        {
          "output_type": "display_data",
          "data": {
            "text/html": [
              "<pre>recommendations finished on 11000/62483 queries. users per second: 65245.1</pre>"
            ],
            "text/plain": [
              "recommendations finished on 11000/62483 queries. users per second: 65245.1"
            ]
          },
          "metadata": {}
        },
        {
          "output_type": "display_data",
          "data": {
            "text/html": [
              "<pre>recommendations finished on 12000/62483 queries. users per second: 65492.5</pre>"
            ],
            "text/plain": [
              "recommendations finished on 12000/62483 queries. users per second: 65492.5"
            ]
          },
          "metadata": {}
        },
        {
          "output_type": "display_data",
          "data": {
            "text/html": [
              "<pre>recommendations finished on 13000/62483 queries. users per second: 65986.2</pre>"
            ],
            "text/plain": [
              "recommendations finished on 13000/62483 queries. users per second: 65986.2"
            ]
          },
          "metadata": {}
        },
        {
          "output_type": "display_data",
          "data": {
            "text/html": [
              "<pre>recommendations finished on 14000/62483 queries. users per second: 65152.9</pre>"
            ],
            "text/plain": [
              "recommendations finished on 14000/62483 queries. users per second: 65152.9"
            ]
          },
          "metadata": {}
        },
        {
          "output_type": "display_data",
          "data": {
            "text/html": [
              "<pre>recommendations finished on 15000/62483 queries. users per second: 65476.5</pre>"
            ],
            "text/plain": [
              "recommendations finished on 15000/62483 queries. users per second: 65476.5"
            ]
          },
          "metadata": {}
        },
        {
          "output_type": "display_data",
          "data": {
            "text/html": [
              "<pre>recommendations finished on 16000/62483 queries. users per second: 65466.7</pre>"
            ],
            "text/plain": [
              "recommendations finished on 16000/62483 queries. users per second: 65466.7"
            ]
          },
          "metadata": {}
        },
        {
          "output_type": "display_data",
          "data": {
            "text/html": [
              "<pre>recommendations finished on 17000/62483 queries. users per second: 65914</pre>"
            ],
            "text/plain": [
              "recommendations finished on 17000/62483 queries. users per second: 65914"
            ]
          },
          "metadata": {}
        },
        {
          "output_type": "display_data",
          "data": {
            "text/html": [
              "<pre>recommendations finished on 18000/62483 queries. users per second: 65660.1</pre>"
            ],
            "text/plain": [
              "recommendations finished on 18000/62483 queries. users per second: 65660.1"
            ]
          },
          "metadata": {}
        },
        {
          "output_type": "display_data",
          "data": {
            "text/html": [
              "<pre>recommendations finished on 19000/62483 queries. users per second: 66040.6</pre>"
            ],
            "text/plain": [
              "recommendations finished on 19000/62483 queries. users per second: 66040.6"
            ]
          },
          "metadata": {}
        },
        {
          "output_type": "display_data",
          "data": {
            "text/html": [
              "<pre>recommendations finished on 20000/62483 queries. users per second: 66234.4</pre>"
            ],
            "text/plain": [
              "recommendations finished on 20000/62483 queries. users per second: 66234.4"
            ]
          },
          "metadata": {}
        },
        {
          "output_type": "display_data",
          "data": {
            "text/html": [
              "<pre>recommendations finished on 21000/62483 queries. users per second: 66754.8</pre>"
            ],
            "text/plain": [
              "recommendations finished on 21000/62483 queries. users per second: 66754.8"
            ]
          },
          "metadata": {}
        },
        {
          "output_type": "display_data",
          "data": {
            "text/html": [
              "<pre>recommendations finished on 22000/62483 queries. users per second: 66442.8</pre>"
            ],
            "text/plain": [
              "recommendations finished on 22000/62483 queries. users per second: 66442.8"
            ]
          },
          "metadata": {}
        },
        {
          "output_type": "display_data",
          "data": {
            "text/html": [
              "<pre>recommendations finished on 23000/62483 queries. users per second: 66386.7</pre>"
            ],
            "text/plain": [
              "recommendations finished on 23000/62483 queries. users per second: 66386.7"
            ]
          },
          "metadata": {}
        },
        {
          "output_type": "display_data",
          "data": {
            "text/html": [
              "<pre>recommendations finished on 24000/62483 queries. users per second: 66100.4</pre>"
            ],
            "text/plain": [
              "recommendations finished on 24000/62483 queries. users per second: 66100.4"
            ]
          },
          "metadata": {}
        },
        {
          "output_type": "display_data",
          "data": {
            "text/html": [
              "<pre>recommendations finished on 25000/62483 queries. users per second: 66399.7</pre>"
            ],
            "text/plain": [
              "recommendations finished on 25000/62483 queries. users per second: 66399.7"
            ]
          },
          "metadata": {}
        },
        {
          "output_type": "display_data",
          "data": {
            "text/html": [
              "<pre>recommendations finished on 26000/62483 queries. users per second: 66312.5</pre>"
            ],
            "text/plain": [
              "recommendations finished on 26000/62483 queries. users per second: 66312.5"
            ]
          },
          "metadata": {}
        },
        {
          "output_type": "display_data",
          "data": {
            "text/html": [
              "<pre>recommendations finished on 27000/62483 queries. users per second: 66317.2</pre>"
            ],
            "text/plain": [
              "recommendations finished on 27000/62483 queries. users per second: 66317.2"
            ]
          },
          "metadata": {}
        },
        {
          "output_type": "display_data",
          "data": {
            "text/html": [
              "<pre>recommendations finished on 28000/62483 queries. users per second: 66344.6</pre>"
            ],
            "text/plain": [
              "recommendations finished on 28000/62483 queries. users per second: 66344.6"
            ]
          },
          "metadata": {}
        },
        {
          "output_type": "display_data",
          "data": {
            "text/html": [
              "<pre>recommendations finished on 29000/62483 queries. users per second: 66138.6</pre>"
            ],
            "text/plain": [
              "recommendations finished on 29000/62483 queries. users per second: 66138.6"
            ]
          },
          "metadata": {}
        },
        {
          "output_type": "display_data",
          "data": {
            "text/html": [
              "<pre>recommendations finished on 30000/62483 queries. users per second: 66159.3</pre>"
            ],
            "text/plain": [
              "recommendations finished on 30000/62483 queries. users per second: 66159.3"
            ]
          },
          "metadata": {}
        },
        {
          "output_type": "display_data",
          "data": {
            "text/html": [
              "<pre>recommendations finished on 31000/62483 queries. users per second: 66044.4</pre>"
            ],
            "text/plain": [
              "recommendations finished on 31000/62483 queries. users per second: 66044.4"
            ]
          },
          "metadata": {}
        },
        {
          "output_type": "display_data",
          "data": {
            "text/html": [
              "<pre>recommendations finished on 32000/62483 queries. users per second: 66072.6</pre>"
            ],
            "text/plain": [
              "recommendations finished on 32000/62483 queries. users per second: 66072.6"
            ]
          },
          "metadata": {}
        },
        {
          "output_type": "display_data",
          "data": {
            "text/html": [
              "<pre>recommendations finished on 33000/62483 queries. users per second: 66436</pre>"
            ],
            "text/plain": [
              "recommendations finished on 33000/62483 queries. users per second: 66436"
            ]
          },
          "metadata": {}
        },
        {
          "output_type": "display_data",
          "data": {
            "text/html": [
              "<pre>recommendations finished on 34000/62483 queries. users per second: 66331.4</pre>"
            ],
            "text/plain": [
              "recommendations finished on 34000/62483 queries. users per second: 66331.4"
            ]
          },
          "metadata": {}
        },
        {
          "output_type": "display_data",
          "data": {
            "text/html": [
              "<pre>recommendations finished on 35000/62483 queries. users per second: 66389.2</pre>"
            ],
            "text/plain": [
              "recommendations finished on 35000/62483 queries. users per second: 66389.2"
            ]
          },
          "metadata": {}
        },
        {
          "output_type": "display_data",
          "data": {
            "text/html": [
              "<pre>recommendations finished on 36000/62483 queries. users per second: 66471.8</pre>"
            ],
            "text/plain": [
              "recommendations finished on 36000/62483 queries. users per second: 66471.8"
            ]
          },
          "metadata": {}
        },
        {
          "output_type": "display_data",
          "data": {
            "text/html": [
              "<pre>recommendations finished on 37000/62483 queries. users per second: 66746.4</pre>"
            ],
            "text/plain": [
              "recommendations finished on 37000/62483 queries. users per second: 66746.4"
            ]
          },
          "metadata": {}
        },
        {
          "output_type": "display_data",
          "data": {
            "text/html": [
              "<pre>recommendations finished on 38000/62483 queries. users per second: 66078.6</pre>"
            ],
            "text/plain": [
              "recommendations finished on 38000/62483 queries. users per second: 66078.6"
            ]
          },
          "metadata": {}
        },
        {
          "output_type": "display_data",
          "data": {
            "text/html": [
              "<pre>recommendations finished on 39000/62483 queries. users per second: 65936.7</pre>"
            ],
            "text/plain": [
              "recommendations finished on 39000/62483 queries. users per second: 65936.7"
            ]
          },
          "metadata": {}
        },
        {
          "output_type": "display_data",
          "data": {
            "text/html": [
              "<pre>recommendations finished on 40000/62483 queries. users per second: 66016</pre>"
            ],
            "text/plain": [
              "recommendations finished on 40000/62483 queries. users per second: 66016"
            ]
          },
          "metadata": {}
        },
        {
          "output_type": "display_data",
          "data": {
            "text/html": [
              "<pre>recommendations finished on 41000/62483 queries. users per second: 66353.2</pre>"
            ],
            "text/plain": [
              "recommendations finished on 41000/62483 queries. users per second: 66353.2"
            ]
          },
          "metadata": {}
        },
        {
          "output_type": "display_data",
          "data": {
            "text/html": [
              "<pre>recommendations finished on 42000/62483 queries. users per second: 66161.5</pre>"
            ],
            "text/plain": [
              "recommendations finished on 42000/62483 queries. users per second: 66161.5"
            ]
          },
          "metadata": {}
        },
        {
          "output_type": "display_data",
          "data": {
            "text/html": [
              "<pre>recommendations finished on 43000/62483 queries. users per second: 65633</pre>"
            ],
            "text/plain": [
              "recommendations finished on 43000/62483 queries. users per second: 65633"
            ]
          },
          "metadata": {}
        },
        {
          "output_type": "display_data",
          "data": {
            "text/html": [
              "<pre>recommendations finished on 44000/62483 queries. users per second: 65543.6</pre>"
            ],
            "text/plain": [
              "recommendations finished on 44000/62483 queries. users per second: 65543.6"
            ]
          },
          "metadata": {}
        },
        {
          "output_type": "display_data",
          "data": {
            "text/html": [
              "<pre>recommendations finished on 45000/62483 queries. users per second: 65689.1</pre>"
            ],
            "text/plain": [
              "recommendations finished on 45000/62483 queries. users per second: 65689.1"
            ]
          },
          "metadata": {}
        },
        {
          "output_type": "display_data",
          "data": {
            "text/html": [
              "<pre>recommendations finished on 46000/62483 queries. users per second: 65779</pre>"
            ],
            "text/plain": [
              "recommendations finished on 46000/62483 queries. users per second: 65779"
            ]
          },
          "metadata": {}
        },
        {
          "output_type": "display_data",
          "data": {
            "text/html": [
              "<pre>recommendations finished on 47000/62483 queries. users per second: 65934.8</pre>"
            ],
            "text/plain": [
              "recommendations finished on 47000/62483 queries. users per second: 65934.8"
            ]
          },
          "metadata": {}
        },
        {
          "output_type": "display_data",
          "data": {
            "text/html": [
              "<pre>recommendations finished on 48000/62483 queries. users per second: 65997.7</pre>"
            ],
            "text/plain": [
              "recommendations finished on 48000/62483 queries. users per second: 65997.7"
            ]
          },
          "metadata": {}
        },
        {
          "output_type": "display_data",
          "data": {
            "text/html": [
              "<pre>recommendations finished on 49000/62483 queries. users per second: 66035.6</pre>"
            ],
            "text/plain": [
              "recommendations finished on 49000/62483 queries. users per second: 66035.6"
            ]
          },
          "metadata": {}
        },
        {
          "output_type": "display_data",
          "data": {
            "text/html": [
              "<pre>recommendations finished on 50000/62483 queries. users per second: 65982.6</pre>"
            ],
            "text/plain": [
              "recommendations finished on 50000/62483 queries. users per second: 65982.6"
            ]
          },
          "metadata": {}
        },
        {
          "output_type": "display_data",
          "data": {
            "text/html": [
              "<pre>recommendations finished on 51000/62483 queries. users per second: 65964.8</pre>"
            ],
            "text/plain": [
              "recommendations finished on 51000/62483 queries. users per second: 65964.8"
            ]
          },
          "metadata": {}
        },
        {
          "output_type": "display_data",
          "data": {
            "text/html": [
              "<pre>recommendations finished on 52000/62483 queries. users per second: 65845.2</pre>"
            ],
            "text/plain": [
              "recommendations finished on 52000/62483 queries. users per second: 65845.2"
            ]
          },
          "metadata": {}
        },
        {
          "output_type": "display_data",
          "data": {
            "text/html": [
              "<pre>recommendations finished on 53000/62483 queries. users per second: 65829.8</pre>"
            ],
            "text/plain": [
              "recommendations finished on 53000/62483 queries. users per second: 65829.8"
            ]
          },
          "metadata": {}
        },
        {
          "output_type": "display_data",
          "data": {
            "text/html": [
              "<pre>recommendations finished on 54000/62483 queries. users per second: 65782.1</pre>"
            ],
            "text/plain": [
              "recommendations finished on 54000/62483 queries. users per second: 65782.1"
            ]
          },
          "metadata": {}
        },
        {
          "output_type": "display_data",
          "data": {
            "text/html": [
              "<pre>recommendations finished on 55000/62483 queries. users per second: 65309.9</pre>"
            ],
            "text/plain": [
              "recommendations finished on 55000/62483 queries. users per second: 65309.9"
            ]
          },
          "metadata": {}
        },
        {
          "output_type": "display_data",
          "data": {
            "text/html": [
              "<pre>recommendations finished on 56000/62483 queries. users per second: 64729.3</pre>"
            ],
            "text/plain": [
              "recommendations finished on 56000/62483 queries. users per second: 64729.3"
            ]
          },
          "metadata": {}
        },
        {
          "output_type": "display_data",
          "data": {
            "text/html": [
              "<pre>recommendations finished on 57000/62483 queries. users per second: 64322.5</pre>"
            ],
            "text/plain": [
              "recommendations finished on 57000/62483 queries. users per second: 64322.5"
            ]
          },
          "metadata": {}
        },
        {
          "output_type": "display_data",
          "data": {
            "text/html": [
              "<pre>recommendations finished on 58000/62483 queries. users per second: 63769.9</pre>"
            ],
            "text/plain": [
              "recommendations finished on 58000/62483 queries. users per second: 63769.9"
            ]
          },
          "metadata": {}
        },
        {
          "output_type": "display_data",
          "data": {
            "text/html": [
              "<pre>recommendations finished on 59000/62483 queries. users per second: 63500.5</pre>"
            ],
            "text/plain": [
              "recommendations finished on 59000/62483 queries. users per second: 63500.5"
            ]
          },
          "metadata": {}
        },
        {
          "output_type": "display_data",
          "data": {
            "text/html": [
              "<pre>recommendations finished on 60000/62483 queries. users per second: 63136.5</pre>"
            ],
            "text/plain": [
              "recommendations finished on 60000/62483 queries. users per second: 63136.5"
            ]
          },
          "metadata": {}
        },
        {
          "output_type": "display_data",
          "data": {
            "text/html": [
              "<pre>recommendations finished on 61000/62483 queries. users per second: 62816</pre>"
            ],
            "text/plain": [
              "recommendations finished on 61000/62483 queries. users per second: 62816"
            ]
          },
          "metadata": {}
        },
        {
          "output_type": "display_data",
          "data": {
            "text/html": [
              "<pre>recommendations finished on 62000/62483 queries. users per second: 62754.4</pre>"
            ],
            "text/plain": [
              "recommendations finished on 62000/62483 queries. users per second: 62754.4"
            ]
          },
          "metadata": {}
        },
        {
          "output_type": "stream",
          "name": "stdout",
          "text": [
            "+------------+-----------+--------------------+------+\n",
            "| customerId | productId |       score        | rank |\n",
            "+------------+-----------+--------------------+------+\n",
            "|     0      |    132    | 3.1092607763680546 |  1   |\n",
            "|     0      |     37    | 3.0159962192764436 |  2   |\n",
            "|     0      |     34    | 3.0046794333457965 |  3   |\n",
            "|     0      |     0     | 2.9493396427006586 |  4   |\n",
            "|     0      |     27    | 2.8090853341354807 |  5   |\n",
            "|     0      |    110    | 2.801204819277108  |  6   |\n",
            "|     0      |     3     | 2.7957359094749443 |  7   |\n",
            "|     0      |    248    | 2.7209061045979346 |  8   |\n",
            "|     0      |     32    | 2.6505811050082677 |  9   |\n",
            "|     0      |    230    | 2.6395693541917584 |  10  |\n",
            "|     1      |    132    | 3.1090909090909093 |  1   |\n",
            "|     1      |     34    | 3.023094780087473  |  2   |\n",
            "|     1      |     37    | 3.0132612027814543 |  3   |\n",
            "|     1      |     0     | 2.951948342797266  |  4   |\n",
            "|     1      |     27    | 2.809818705959507  |  5   |\n",
            "|     1      |    110    | 2.8018084504159098 |  6   |\n",
            "|     1      |     3     | 2.7951556545327656 |  7   |\n",
            "|     1      |    248    | 2.7250903685425603 |  8   |\n",
            "|     1      |     32    | 2.651213552012586  |  9   |\n",
            "|     1      |    230    | 2.640302540496328  |  10  |\n",
            "|     2      |    132    | 3.1090909090909093 |  1   |\n",
            "|     2      |     37    | 3.0157480314960634 |  2   |\n",
            "|     2      |     34    | 2.9976358809471146 |  3   |\n",
            "|     2      |     0     | 2.946100440201269  |  4   |\n",
            "|     2      |     27    | 2.8099173553719003 |  5   |\n",
            "|     2      |    110    | 2.7964659877570277 |  6   |\n",
            "|     2      |     3     | 2.794979079497909  |  7   |\n",
            "|     2      |    248    | 2.7209302325581395 |  8   |\n",
            "|     2      |     32    | 2.6515151515151496 |  9   |\n",
            "|     2      |    230    | 2.6390977443609023 |  10  |\n",
            "+------------+-----------+--------------------+------+\n",
            "[624830 rows x 4 columns]\n",
            "\n"
          ]
        }
      ]
    },
    {
      "cell_type": "code",
      "metadata": {
        "colab": {
          "base_uri": "https://localhost:8080/",
          "height": 1000
        },
        "id": "D7SBCFiuya_g",
        "outputId": "6bbf1f23-8003-4348-df36-ed6315cecd93"
      },
      "source": [
        "\n",
        "# these variables will change accordingly\n",
        "name = 'pearson'\n",
        "target = 'purchase_dummy'\n",
        "pear_dummy = model(train_data_dummy, name, user_id, item_id, target, users_to_recommend, n_rec, n_display)"
      ],
      "execution_count": 53,
      "outputs": [
        {
          "output_type": "display_data",
          "data": {
            "text/html": [
              "<pre>Warning: Ignoring columns purchase_count;</pre>"
            ],
            "text/plain": [
              "Warning: Ignoring columns purchase_count;"
            ]
          },
          "metadata": {}
        },
        {
          "output_type": "display_data",
          "data": {
            "text/html": [
              "<pre>    To use these columns in scoring predictions, use a model that allows the use of additional features.</pre>"
            ],
            "text/plain": [
              "    To use these columns in scoring predictions, use a model that allows the use of additional features."
            ]
          },
          "metadata": {}
        },
        {
          "output_type": "display_data",
          "data": {
            "text/html": [
              "<pre>Preparing data set.</pre>"
            ],
            "text/plain": [
              "Preparing data set."
            ]
          },
          "metadata": {}
        },
        {
          "output_type": "display_data",
          "data": {
            "text/html": [
              "<pre>    Data has 106868 observations with 23312 users and 300 items.</pre>"
            ],
            "text/plain": [
              "    Data has 106868 observations with 23312 users and 300 items."
            ]
          },
          "metadata": {}
        },
        {
          "output_type": "display_data",
          "data": {
            "text/html": [
              "<pre>    Data prepared in: 0.181932s</pre>"
            ],
            "text/plain": [
              "    Data prepared in: 0.181932s"
            ]
          },
          "metadata": {}
        },
        {
          "output_type": "display_data",
          "data": {
            "text/html": [
              "<pre>Training model from provided data.</pre>"
            ],
            "text/plain": [
              "Training model from provided data."
            ]
          },
          "metadata": {}
        },
        {
          "output_type": "display_data",
          "data": {
            "text/html": [
              "<pre>Gathering per-item and per-user statistics.</pre>"
            ],
            "text/plain": [
              "Gathering per-item and per-user statistics."
            ]
          },
          "metadata": {}
        },
        {
          "output_type": "display_data",
          "data": {
            "text/html": [
              "<pre>+--------------------------------+------------+</pre>"
            ],
            "text/plain": [
              "+--------------------------------+------------+"
            ]
          },
          "metadata": {}
        },
        {
          "output_type": "display_data",
          "data": {
            "text/html": [
              "<pre>| Elapsed Time (Item Statistics) | % Complete |</pre>"
            ],
            "text/plain": [
              "| Elapsed Time (Item Statistics) | % Complete |"
            ]
          },
          "metadata": {}
        },
        {
          "output_type": "display_data",
          "data": {
            "text/html": [
              "<pre>+--------------------------------+------------+</pre>"
            ],
            "text/plain": [
              "+--------------------------------+------------+"
            ]
          },
          "metadata": {}
        },
        {
          "output_type": "display_data",
          "data": {
            "text/html": [
              "<pre>| 1.434ms                        | 4.25       |</pre>"
            ],
            "text/plain": [
              "| 1.434ms                        | 4.25       |"
            ]
          },
          "metadata": {}
        },
        {
          "output_type": "display_data",
          "data": {
            "text/html": [
              "<pre>| 34.313ms                       | 100        |</pre>"
            ],
            "text/plain": [
              "| 34.313ms                       | 100        |"
            ]
          },
          "metadata": {}
        },
        {
          "output_type": "display_data",
          "data": {
            "text/html": [
              "<pre>+--------------------------------+------------+</pre>"
            ],
            "text/plain": [
              "+--------------------------------+------------+"
            ]
          },
          "metadata": {}
        },
        {
          "output_type": "display_data",
          "data": {
            "text/html": [
              "<pre>Setting up lookup tables.</pre>"
            ],
            "text/plain": [
              "Setting up lookup tables."
            ]
          },
          "metadata": {}
        },
        {
          "output_type": "display_data",
          "data": {
            "text/html": [
              "<pre>Processing data in one pass using dense lookup tables.</pre>"
            ],
            "text/plain": [
              "Processing data in one pass using dense lookup tables."
            ]
          },
          "metadata": {}
        },
        {
          "output_type": "display_data",
          "data": {
            "text/html": [
              "<pre>+-------------------------------------+------------------+-----------------+</pre>"
            ],
            "text/plain": [
              "+-------------------------------------+------------------+-----------------+"
            ]
          },
          "metadata": {}
        },
        {
          "output_type": "display_data",
          "data": {
            "text/html": [
              "<pre>| Elapsed Time (Constructing Lookups) | Total % Complete | Items Processed |</pre>"
            ],
            "text/plain": [
              "| Elapsed Time (Constructing Lookups) | Total % Complete | Items Processed |"
            ]
          },
          "metadata": {}
        },
        {
          "output_type": "display_data",
          "data": {
            "text/html": [
              "<pre>+-------------------------------------+------------------+-----------------+</pre>"
            ],
            "text/plain": [
              "+-------------------------------------+------------------+-----------------+"
            ]
          },
          "metadata": {}
        },
        {
          "output_type": "display_data",
          "data": {
            "text/html": [
              "<pre>| 35.288ms                            | 0                | 0               |</pre>"
            ],
            "text/plain": [
              "| 35.288ms                            | 0                | 0               |"
            ]
          },
          "metadata": {}
        },
        {
          "output_type": "display_data",
          "data": {
            "text/html": [
              "<pre>| 88.826ms                            | 100              | 300             |</pre>"
            ],
            "text/plain": [
              "| 88.826ms                            | 100              | 300             |"
            ]
          },
          "metadata": {}
        },
        {
          "output_type": "display_data",
          "data": {
            "text/html": [
              "<pre>+-------------------------------------+------------------+-----------------+</pre>"
            ],
            "text/plain": [
              "+-------------------------------------+------------------+-----------------+"
            ]
          },
          "metadata": {}
        },
        {
          "output_type": "display_data",
          "data": {
            "text/html": [
              "<pre>Finalizing lookup tables.</pre>"
            ],
            "text/plain": [
              "Finalizing lookup tables."
            ]
          },
          "metadata": {}
        },
        {
          "output_type": "display_data",
          "data": {
            "text/html": [
              "<pre>Generating candidate set for working with new users.</pre>"
            ],
            "text/plain": [
              "Generating candidate set for working with new users."
            ]
          },
          "metadata": {}
        },
        {
          "output_type": "display_data",
          "data": {
            "text/html": [
              "<pre>Finished training in 0.120233s</pre>"
            ],
            "text/plain": [
              "Finished training in 0.120233s"
            ]
          },
          "metadata": {}
        },
        {
          "output_type": "display_data",
          "data": {
            "text/html": [
              "<pre>recommendations finished on 1000/62483 queries. users per second: 82884.4</pre>"
            ],
            "text/plain": [
              "recommendations finished on 1000/62483 queries. users per second: 82884.4"
            ]
          },
          "metadata": {}
        },
        {
          "output_type": "display_data",
          "data": {
            "text/html": [
              "<pre>recommendations finished on 2000/62483 queries. users per second: 82877.5</pre>"
            ],
            "text/plain": [
              "recommendations finished on 2000/62483 queries. users per second: 82877.5"
            ]
          },
          "metadata": {}
        },
        {
          "output_type": "display_data",
          "data": {
            "text/html": [
              "<pre>recommendations finished on 3000/62483 queries. users per second: 86891</pre>"
            ],
            "text/plain": [
              "recommendations finished on 3000/62483 queries. users per second: 86891"
            ]
          },
          "metadata": {}
        },
        {
          "output_type": "display_data",
          "data": {
            "text/html": [
              "<pre>recommendations finished on 4000/62483 queries. users per second: 86602.6</pre>"
            ],
            "text/plain": [
              "recommendations finished on 4000/62483 queries. users per second: 86602.6"
            ]
          },
          "metadata": {}
        },
        {
          "output_type": "display_data",
          "data": {
            "text/html": [
              "<pre>recommendations finished on 5000/62483 queries. users per second: 85530</pre>"
            ],
            "text/plain": [
              "recommendations finished on 5000/62483 queries. users per second: 85530"
            ]
          },
          "metadata": {}
        },
        {
          "output_type": "display_data",
          "data": {
            "text/html": [
              "<pre>recommendations finished on 6000/62483 queries. users per second: 86420.5</pre>"
            ],
            "text/plain": [
              "recommendations finished on 6000/62483 queries. users per second: 86420.5"
            ]
          },
          "metadata": {}
        },
        {
          "output_type": "display_data",
          "data": {
            "text/html": [
              "<pre>recommendations finished on 7000/62483 queries. users per second: 85726.5</pre>"
            ],
            "text/plain": [
              "recommendations finished on 7000/62483 queries. users per second: 85726.5"
            ]
          },
          "metadata": {}
        },
        {
          "output_type": "display_data",
          "data": {
            "text/html": [
              "<pre>recommendations finished on 8000/62483 queries. users per second: 86721.8</pre>"
            ],
            "text/plain": [
              "recommendations finished on 8000/62483 queries. users per second: 86721.8"
            ]
          },
          "metadata": {}
        },
        {
          "output_type": "display_data",
          "data": {
            "text/html": [
              "<pre>recommendations finished on 9000/62483 queries. users per second: 87689.4</pre>"
            ],
            "text/plain": [
              "recommendations finished on 9000/62483 queries. users per second: 87689.4"
            ]
          },
          "metadata": {}
        },
        {
          "output_type": "display_data",
          "data": {
            "text/html": [
              "<pre>recommendations finished on 10000/62483 queries. users per second: 87940.7</pre>"
            ],
            "text/plain": [
              "recommendations finished on 10000/62483 queries. users per second: 87940.7"
            ]
          },
          "metadata": {}
        },
        {
          "output_type": "display_data",
          "data": {
            "text/html": [
              "<pre>recommendations finished on 11000/62483 queries. users per second: 88788.4</pre>"
            ],
            "text/plain": [
              "recommendations finished on 11000/62483 queries. users per second: 88788.4"
            ]
          },
          "metadata": {}
        },
        {
          "output_type": "display_data",
          "data": {
            "text/html": [
              "<pre>recommendations finished on 12000/62483 queries. users per second: 88833</pre>"
            ],
            "text/plain": [
              "recommendations finished on 12000/62483 queries. users per second: 88833"
            ]
          },
          "metadata": {}
        },
        {
          "output_type": "display_data",
          "data": {
            "text/html": [
              "<pre>recommendations finished on 13000/62483 queries. users per second: 89095.4</pre>"
            ],
            "text/plain": [
              "recommendations finished on 13000/62483 queries. users per second: 89095.4"
            ]
          },
          "metadata": {}
        },
        {
          "output_type": "display_data",
          "data": {
            "text/html": [
              "<pre>recommendations finished on 14000/62483 queries. users per second: 88237.3</pre>"
            ],
            "text/plain": [
              "recommendations finished on 14000/62483 queries. users per second: 88237.3"
            ]
          },
          "metadata": {}
        },
        {
          "output_type": "display_data",
          "data": {
            "text/html": [
              "<pre>recommendations finished on 15000/62483 queries. users per second: 88876.8</pre>"
            ],
            "text/plain": [
              "recommendations finished on 15000/62483 queries. users per second: 88876.8"
            ]
          },
          "metadata": {}
        },
        {
          "output_type": "display_data",
          "data": {
            "text/html": [
              "<pre>recommendations finished on 16000/62483 queries. users per second: 89489</pre>"
            ],
            "text/plain": [
              "recommendations finished on 16000/62483 queries. users per second: 89489"
            ]
          },
          "metadata": {}
        },
        {
          "output_type": "display_data",
          "data": {
            "text/html": [
              "<pre>recommendations finished on 17000/62483 queries. users per second: 90284.3</pre>"
            ],
            "text/plain": [
              "recommendations finished on 17000/62483 queries. users per second: 90284.3"
            ]
          },
          "metadata": {}
        },
        {
          "output_type": "display_data",
          "data": {
            "text/html": [
              "<pre>recommendations finished on 18000/62483 queries. users per second: 90376</pre>"
            ],
            "text/plain": [
              "recommendations finished on 18000/62483 queries. users per second: 90376"
            ]
          },
          "metadata": {}
        },
        {
          "output_type": "display_data",
          "data": {
            "text/html": [
              "<pre>recommendations finished on 19000/62483 queries. users per second: 90325.6</pre>"
            ],
            "text/plain": [
              "recommendations finished on 19000/62483 queries. users per second: 90325.6"
            ]
          },
          "metadata": {}
        },
        {
          "output_type": "display_data",
          "data": {
            "text/html": [
              "<pre>recommendations finished on 20000/62483 queries. users per second: 90724.3</pre>"
            ],
            "text/plain": [
              "recommendations finished on 20000/62483 queries. users per second: 90724.3"
            ]
          },
          "metadata": {}
        },
        {
          "output_type": "display_data",
          "data": {
            "text/html": [
              "<pre>recommendations finished on 21000/62483 queries. users per second: 91087.7</pre>"
            ],
            "text/plain": [
              "recommendations finished on 21000/62483 queries. users per second: 91087.7"
            ]
          },
          "metadata": {}
        },
        {
          "output_type": "display_data",
          "data": {
            "text/html": [
              "<pre>recommendations finished on 22000/62483 queries. users per second: 91537.8</pre>"
            ],
            "text/plain": [
              "recommendations finished on 22000/62483 queries. users per second: 91537.8"
            ]
          },
          "metadata": {}
        },
        {
          "output_type": "display_data",
          "data": {
            "text/html": [
              "<pre>recommendations finished on 23000/62483 queries. users per second: 91597.7</pre>"
            ],
            "text/plain": [
              "recommendations finished on 23000/62483 queries. users per second: 91597.7"
            ]
          },
          "metadata": {}
        },
        {
          "output_type": "display_data",
          "data": {
            "text/html": [
              "<pre>recommendations finished on 24000/62483 queries. users per second: 91908.2</pre>"
            ],
            "text/plain": [
              "recommendations finished on 24000/62483 queries. users per second: 91908.2"
            ]
          },
          "metadata": {}
        },
        {
          "output_type": "display_data",
          "data": {
            "text/html": [
              "<pre>recommendations finished on 25000/62483 queries. users per second: 91902.3</pre>"
            ],
            "text/plain": [
              "recommendations finished on 25000/62483 queries. users per second: 91902.3"
            ]
          },
          "metadata": {}
        },
        {
          "output_type": "display_data",
          "data": {
            "text/html": [
              "<pre>recommendations finished on 26000/62483 queries. users per second: 91109.1</pre>"
            ],
            "text/plain": [
              "recommendations finished on 26000/62483 queries. users per second: 91109.1"
            ]
          },
          "metadata": {}
        },
        {
          "output_type": "display_data",
          "data": {
            "text/html": [
              "<pre>recommendations finished on 27000/62483 queries. users per second: 91097.7</pre>"
            ],
            "text/plain": [
              "recommendations finished on 27000/62483 queries. users per second: 91097.7"
            ]
          },
          "metadata": {}
        },
        {
          "output_type": "display_data",
          "data": {
            "text/html": [
              "<pre>recommendations finished on 28000/62483 queries. users per second: 89634.4</pre>"
            ],
            "text/plain": [
              "recommendations finished on 28000/62483 queries. users per second: 89634.4"
            ]
          },
          "metadata": {}
        },
        {
          "output_type": "display_data",
          "data": {
            "text/html": [
              "<pre>recommendations finished on 29000/62483 queries. users per second: 89899.9</pre>"
            ],
            "text/plain": [
              "recommendations finished on 29000/62483 queries. users per second: 89899.9"
            ]
          },
          "metadata": {}
        },
        {
          "output_type": "display_data",
          "data": {
            "text/html": [
              "<pre>recommendations finished on 30000/62483 queries. users per second: 90234.8</pre>"
            ],
            "text/plain": [
              "recommendations finished on 30000/62483 queries. users per second: 90234.8"
            ]
          },
          "metadata": {}
        },
        {
          "output_type": "display_data",
          "data": {
            "text/html": [
              "<pre>recommendations finished on 31000/62483 queries. users per second: 89605</pre>"
            ],
            "text/plain": [
              "recommendations finished on 31000/62483 queries. users per second: 89605"
            ]
          },
          "metadata": {}
        },
        {
          "output_type": "display_data",
          "data": {
            "text/html": [
              "<pre>recommendations finished on 32000/62483 queries. users per second: 89823.8</pre>"
            ],
            "text/plain": [
              "recommendations finished on 32000/62483 queries. users per second: 89823.8"
            ]
          },
          "metadata": {}
        },
        {
          "output_type": "display_data",
          "data": {
            "text/html": [
              "<pre>recommendations finished on 33000/62483 queries. users per second: 89739.5</pre>"
            ],
            "text/plain": [
              "recommendations finished on 33000/62483 queries. users per second: 89739.5"
            ]
          },
          "metadata": {}
        },
        {
          "output_type": "display_data",
          "data": {
            "text/html": [
              "<pre>recommendations finished on 34000/62483 queries. users per second: 89560.9</pre>"
            ],
            "text/plain": [
              "recommendations finished on 34000/62483 queries. users per second: 89560.9"
            ]
          },
          "metadata": {}
        },
        {
          "output_type": "display_data",
          "data": {
            "text/html": [
              "<pre>recommendations finished on 35000/62483 queries. users per second: 89868.3</pre>"
            ],
            "text/plain": [
              "recommendations finished on 35000/62483 queries. users per second: 89868.3"
            ]
          },
          "metadata": {}
        },
        {
          "output_type": "display_data",
          "data": {
            "text/html": [
              "<pre>recommendations finished on 36000/62483 queries. users per second: 89724.8</pre>"
            ],
            "text/plain": [
              "recommendations finished on 36000/62483 queries. users per second: 89724.8"
            ]
          },
          "metadata": {}
        },
        {
          "output_type": "display_data",
          "data": {
            "text/html": [
              "<pre>recommendations finished on 37000/62483 queries. users per second: 89397.9</pre>"
            ],
            "text/plain": [
              "recommendations finished on 37000/62483 queries. users per second: 89397.9"
            ]
          },
          "metadata": {}
        },
        {
          "output_type": "display_data",
          "data": {
            "text/html": [
              "<pre>recommendations finished on 38000/62483 queries. users per second: 89047</pre>"
            ],
            "text/plain": [
              "recommendations finished on 38000/62483 queries. users per second: 89047"
            ]
          },
          "metadata": {}
        },
        {
          "output_type": "display_data",
          "data": {
            "text/html": [
              "<pre>recommendations finished on 39000/62483 queries. users per second: 89356.9</pre>"
            ],
            "text/plain": [
              "recommendations finished on 39000/62483 queries. users per second: 89356.9"
            ]
          },
          "metadata": {}
        },
        {
          "output_type": "display_data",
          "data": {
            "text/html": [
              "<pre>recommendations finished on 40000/62483 queries. users per second: 89188.6</pre>"
            ],
            "text/plain": [
              "recommendations finished on 40000/62483 queries. users per second: 89188.6"
            ]
          },
          "metadata": {}
        },
        {
          "output_type": "display_data",
          "data": {
            "text/html": [
              "<pre>recommendations finished on 41000/62483 queries. users per second: 89179.5</pre>"
            ],
            "text/plain": [
              "recommendations finished on 41000/62483 queries. users per second: 89179.5"
            ]
          },
          "metadata": {}
        },
        {
          "output_type": "display_data",
          "data": {
            "text/html": [
              "<pre>recommendations finished on 42000/62483 queries. users per second: 88554.4</pre>"
            ],
            "text/plain": [
              "recommendations finished on 42000/62483 queries. users per second: 88554.4"
            ]
          },
          "metadata": {}
        },
        {
          "output_type": "display_data",
          "data": {
            "text/html": [
              "<pre>recommendations finished on 43000/62483 queries. users per second: 88757.9</pre>"
            ],
            "text/plain": [
              "recommendations finished on 43000/62483 queries. users per second: 88757.9"
            ]
          },
          "metadata": {}
        },
        {
          "output_type": "display_data",
          "data": {
            "text/html": [
              "<pre>recommendations finished on 44000/62483 queries. users per second: 88608</pre>"
            ],
            "text/plain": [
              "recommendations finished on 44000/62483 queries. users per second: 88608"
            ]
          },
          "metadata": {}
        },
        {
          "output_type": "display_data",
          "data": {
            "text/html": [
              "<pre>recommendations finished on 45000/62483 queries. users per second: 88529.2</pre>"
            ],
            "text/plain": [
              "recommendations finished on 45000/62483 queries. users per second: 88529.2"
            ]
          },
          "metadata": {}
        },
        {
          "output_type": "display_data",
          "data": {
            "text/html": [
              "<pre>recommendations finished on 46000/62483 queries. users per second: 88624.5</pre>"
            ],
            "text/plain": [
              "recommendations finished on 46000/62483 queries. users per second: 88624.5"
            ]
          },
          "metadata": {}
        },
        {
          "output_type": "display_data",
          "data": {
            "text/html": [
              "<pre>recommendations finished on 47000/62483 queries. users per second: 88744</pre>"
            ],
            "text/plain": [
              "recommendations finished on 47000/62483 queries. users per second: 88744"
            ]
          },
          "metadata": {}
        },
        {
          "output_type": "display_data",
          "data": {
            "text/html": [
              "<pre>recommendations finished on 48000/62483 queries. users per second: 89068.7</pre>"
            ],
            "text/plain": [
              "recommendations finished on 48000/62483 queries. users per second: 89068.7"
            ]
          },
          "metadata": {}
        },
        {
          "output_type": "display_data",
          "data": {
            "text/html": [
              "<pre>recommendations finished on 49000/62483 queries. users per second: 88611.3</pre>"
            ],
            "text/plain": [
              "recommendations finished on 49000/62483 queries. users per second: 88611.3"
            ]
          },
          "metadata": {}
        },
        {
          "output_type": "display_data",
          "data": {
            "text/html": [
              "<pre>recommendations finished on 50000/62483 queries. users per second: 88038.4</pre>"
            ],
            "text/plain": [
              "recommendations finished on 50000/62483 queries. users per second: 88038.4"
            ]
          },
          "metadata": {}
        },
        {
          "output_type": "display_data",
          "data": {
            "text/html": [
              "<pre>recommendations finished on 51000/62483 queries. users per second: 88163.6</pre>"
            ],
            "text/plain": [
              "recommendations finished on 51000/62483 queries. users per second: 88163.6"
            ]
          },
          "metadata": {}
        },
        {
          "output_type": "display_data",
          "data": {
            "text/html": [
              "<pre>recommendations finished on 52000/62483 queries. users per second: 88350.6</pre>"
            ],
            "text/plain": [
              "recommendations finished on 52000/62483 queries. users per second: 88350.6"
            ]
          },
          "metadata": {}
        },
        {
          "output_type": "display_data",
          "data": {
            "text/html": [
              "<pre>recommendations finished on 53000/62483 queries. users per second: 88334.1</pre>"
            ],
            "text/plain": [
              "recommendations finished on 53000/62483 queries. users per second: 88334.1"
            ]
          },
          "metadata": {}
        },
        {
          "output_type": "display_data",
          "data": {
            "text/html": [
              "<pre>recommendations finished on 54000/62483 queries. users per second: 88182.4</pre>"
            ],
            "text/plain": [
              "recommendations finished on 54000/62483 queries. users per second: 88182.4"
            ]
          },
          "metadata": {}
        },
        {
          "output_type": "display_data",
          "data": {
            "text/html": [
              "<pre>recommendations finished on 55000/62483 queries. users per second: 88243</pre>"
            ],
            "text/plain": [
              "recommendations finished on 55000/62483 queries. users per second: 88243"
            ]
          },
          "metadata": {}
        },
        {
          "output_type": "display_data",
          "data": {
            "text/html": [
              "<pre>recommendations finished on 56000/62483 queries. users per second: 87891.9</pre>"
            ],
            "text/plain": [
              "recommendations finished on 56000/62483 queries. users per second: 87891.9"
            ]
          },
          "metadata": {}
        },
        {
          "output_type": "display_data",
          "data": {
            "text/html": [
              "<pre>recommendations finished on 57000/62483 queries. users per second: 87439.4</pre>"
            ],
            "text/plain": [
              "recommendations finished on 57000/62483 queries. users per second: 87439.4"
            ]
          },
          "metadata": {}
        },
        {
          "output_type": "display_data",
          "data": {
            "text/html": [
              "<pre>recommendations finished on 58000/62483 queries. users per second: 87569.2</pre>"
            ],
            "text/plain": [
              "recommendations finished on 58000/62483 queries. users per second: 87569.2"
            ]
          },
          "metadata": {}
        },
        {
          "output_type": "display_data",
          "data": {
            "text/html": [
              "<pre>recommendations finished on 59000/62483 queries. users per second: 87378.3</pre>"
            ],
            "text/plain": [
              "recommendations finished on 59000/62483 queries. users per second: 87378.3"
            ]
          },
          "metadata": {}
        },
        {
          "output_type": "display_data",
          "data": {
            "text/html": [
              "<pre>recommendations finished on 60000/62483 queries. users per second: 87435</pre>"
            ],
            "text/plain": [
              "recommendations finished on 60000/62483 queries. users per second: 87435"
            ]
          },
          "metadata": {}
        },
        {
          "output_type": "display_data",
          "data": {
            "text/html": [
              "<pre>recommendations finished on 61000/62483 queries. users per second: 86862.5</pre>"
            ],
            "text/plain": [
              "recommendations finished on 61000/62483 queries. users per second: 86862.5"
            ]
          },
          "metadata": {}
        },
        {
          "output_type": "display_data",
          "data": {
            "text/html": [
              "<pre>recommendations finished on 62000/62483 queries. users per second: 86317.1</pre>"
            ],
            "text/plain": [
              "recommendations finished on 62000/62483 queries. users per second: 86317.1"
            ]
          },
          "metadata": {}
        },
        {
          "output_type": "stream",
          "name": "stdout",
          "text": [
            "+------------+-----------+-------+------+\n",
            "| customerId | productId | score | rank |\n",
            "+------------+-----------+-------+------+\n",
            "|     0      |     8     |  0.0  |  1   |\n",
            "|     0      |    209    |  0.0  |  2   |\n",
            "|     0      |    179    |  0.0  |  3   |\n",
            "|     0      |    263    |  0.0  |  4   |\n",
            "|     0      |     61    |  0.0  |  5   |\n",
            "|     0      |    135    |  0.0  |  6   |\n",
            "|     0      |     46    |  0.0  |  7   |\n",
            "|     0      |     79    |  0.0  |  8   |\n",
            "|     0      |    243    |  0.0  |  9   |\n",
            "|     0      |    217    |  0.0  |  10  |\n",
            "|     1      |    123    |  0.0  |  1   |\n",
            "|     1      |     8     |  0.0  |  2   |\n",
            "|     1      |    209    |  0.0  |  3   |\n",
            "|     1      |    179    |  0.0  |  4   |\n",
            "|     1      |    263    |  0.0  |  5   |\n",
            "|     1      |     1     |  0.0  |  6   |\n",
            "|     1      |     46    |  0.0  |  7   |\n",
            "|     1      |     79    |  0.0  |  8   |\n",
            "|     1      |    243    |  0.0  |  9   |\n",
            "|     1      |    217    |  0.0  |  10  |\n",
            "|     2      |    209    |  0.0  |  1   |\n",
            "|     2      |    179    |  0.0  |  2   |\n",
            "|     2      |    263    |  0.0  |  3   |\n",
            "|     2      |     61    |  0.0  |  4   |\n",
            "|     2      |     1     |  0.0  |  5   |\n",
            "|     2      |    135    |  0.0  |  6   |\n",
            "|     2      |     46    |  0.0  |  7   |\n",
            "|     2      |     79    |  0.0  |  8   |\n",
            "|     2      |    243    |  0.0  |  9   |\n",
            "|     2      |    217    |  0.0  |  10  |\n",
            "+------------+-----------+-------+------+\n",
            "[624830 rows x 4 columns]\n",
            "\n"
          ]
        }
      ]
    },
    {
      "cell_type": "code",
      "metadata": {
        "colab": {
          "base_uri": "https://localhost:8080/",
          "height": 1000
        },
        "id": "gue-6hwqyemp",
        "outputId": "2c7f0cdd-8f8f-430c-ab80-501821e62805"
      },
      "source": [
        "name = 'pearson'\n",
        "target = 'scaled_purchase_freq'\n",
        "pear_norm = model(train_data_norm, name, user_id, item_id, target, users_to_recommend, n_rec, n_display)"
      ],
      "execution_count": 54,
      "outputs": [
        {
          "output_type": "display_data",
          "data": {
            "text/html": [
              "<pre>Preparing data set.</pre>"
            ],
            "text/plain": [
              "Preparing data set."
            ]
          },
          "metadata": {}
        },
        {
          "output_type": "display_data",
          "data": {
            "text/html": [
              "<pre>    Data has 106868 observations with 23265 users and 300 items.</pre>"
            ],
            "text/plain": [
              "    Data has 106868 observations with 23265 users and 300 items."
            ]
          },
          "metadata": {}
        },
        {
          "output_type": "display_data",
          "data": {
            "text/html": [
              "<pre>    Data prepared in: 0.168574s</pre>"
            ],
            "text/plain": [
              "    Data prepared in: 0.168574s"
            ]
          },
          "metadata": {}
        },
        {
          "output_type": "display_data",
          "data": {
            "text/html": [
              "<pre>Training model from provided data.</pre>"
            ],
            "text/plain": [
              "Training model from provided data."
            ]
          },
          "metadata": {}
        },
        {
          "output_type": "display_data",
          "data": {
            "text/html": [
              "<pre>Gathering per-item and per-user statistics.</pre>"
            ],
            "text/plain": [
              "Gathering per-item and per-user statistics."
            ]
          },
          "metadata": {}
        },
        {
          "output_type": "display_data",
          "data": {
            "text/html": [
              "<pre>+--------------------------------+------------+</pre>"
            ],
            "text/plain": [
              "+--------------------------------+------------+"
            ]
          },
          "metadata": {}
        },
        {
          "output_type": "display_data",
          "data": {
            "text/html": [
              "<pre>| Elapsed Time (Item Statistics) | % Complete |</pre>"
            ],
            "text/plain": [
              "| Elapsed Time (Item Statistics) | % Complete |"
            ]
          },
          "metadata": {}
        },
        {
          "output_type": "display_data",
          "data": {
            "text/html": [
              "<pre>+--------------------------------+------------+</pre>"
            ],
            "text/plain": [
              "+--------------------------------+------------+"
            ]
          },
          "metadata": {}
        },
        {
          "output_type": "display_data",
          "data": {
            "text/html": [
              "<pre>| 1.256ms                        | 4.25       |</pre>"
            ],
            "text/plain": [
              "| 1.256ms                        | 4.25       |"
            ]
          },
          "metadata": {}
        },
        {
          "output_type": "display_data",
          "data": {
            "text/html": [
              "<pre>| 28.106ms                       | 100        |</pre>"
            ],
            "text/plain": [
              "| 28.106ms                       | 100        |"
            ]
          },
          "metadata": {}
        },
        {
          "output_type": "display_data",
          "data": {
            "text/html": [
              "<pre>+--------------------------------+------------+</pre>"
            ],
            "text/plain": [
              "+--------------------------------+------------+"
            ]
          },
          "metadata": {}
        },
        {
          "output_type": "display_data",
          "data": {
            "text/html": [
              "<pre>Setting up lookup tables.</pre>"
            ],
            "text/plain": [
              "Setting up lookup tables."
            ]
          },
          "metadata": {}
        },
        {
          "output_type": "display_data",
          "data": {
            "text/html": [
              "<pre>Processing data in one pass using dense lookup tables.</pre>"
            ],
            "text/plain": [
              "Processing data in one pass using dense lookup tables."
            ]
          },
          "metadata": {}
        },
        {
          "output_type": "display_data",
          "data": {
            "text/html": [
              "<pre>+-------------------------------------+------------------+-----------------+</pre>"
            ],
            "text/plain": [
              "+-------------------------------------+------------------+-----------------+"
            ]
          },
          "metadata": {}
        },
        {
          "output_type": "display_data",
          "data": {
            "text/html": [
              "<pre>| Elapsed Time (Constructing Lookups) | Total % Complete | Items Processed |</pre>"
            ],
            "text/plain": [
              "| Elapsed Time (Constructing Lookups) | Total % Complete | Items Processed |"
            ]
          },
          "metadata": {}
        },
        {
          "output_type": "display_data",
          "data": {
            "text/html": [
              "<pre>+-------------------------------------+------------------+-----------------+</pre>"
            ],
            "text/plain": [
              "+-------------------------------------+------------------+-----------------+"
            ]
          },
          "metadata": {}
        },
        {
          "output_type": "display_data",
          "data": {
            "text/html": [
              "<pre>| 30.696ms                            | 0                | 0               |</pre>"
            ],
            "text/plain": [
              "| 30.696ms                            | 0                | 0               |"
            ]
          },
          "metadata": {}
        },
        {
          "output_type": "display_data",
          "data": {
            "text/html": [
              "<pre>| 75.842ms                            | 100              | 300             |</pre>"
            ],
            "text/plain": [
              "| 75.842ms                            | 100              | 300             |"
            ]
          },
          "metadata": {}
        },
        {
          "output_type": "display_data",
          "data": {
            "text/html": [
              "<pre>+-------------------------------------+------------------+-----------------+</pre>"
            ],
            "text/plain": [
              "+-------------------------------------+------------------+-----------------+"
            ]
          },
          "metadata": {}
        },
        {
          "output_type": "display_data",
          "data": {
            "text/html": [
              "<pre>Finalizing lookup tables.</pre>"
            ],
            "text/plain": [
              "Finalizing lookup tables."
            ]
          },
          "metadata": {}
        },
        {
          "output_type": "display_data",
          "data": {
            "text/html": [
              "<pre>Generating candidate set for working with new users.</pre>"
            ],
            "text/plain": [
              "Generating candidate set for working with new users."
            ]
          },
          "metadata": {}
        },
        {
          "output_type": "display_data",
          "data": {
            "text/html": [
              "<pre>Finished training in 0.101716s</pre>"
            ],
            "text/plain": [
              "Finished training in 0.101716s"
            ]
          },
          "metadata": {}
        },
        {
          "output_type": "display_data",
          "data": {
            "text/html": [
              "<pre>recommendations finished on 1000/62483 queries. users per second: 59552.2</pre>"
            ],
            "text/plain": [
              "recommendations finished on 1000/62483 queries. users per second: 59552.2"
            ]
          },
          "metadata": {}
        },
        {
          "output_type": "display_data",
          "data": {
            "text/html": [
              "<pre>recommendations finished on 2000/62483 queries. users per second: 64783.6</pre>"
            ],
            "text/plain": [
              "recommendations finished on 2000/62483 queries. users per second: 64783.6"
            ]
          },
          "metadata": {}
        },
        {
          "output_type": "display_data",
          "data": {
            "text/html": [
              "<pre>recommendations finished on 3000/62483 queries. users per second: 66737.9</pre>"
            ],
            "text/plain": [
              "recommendations finished on 3000/62483 queries. users per second: 66737.9"
            ]
          },
          "metadata": {}
        },
        {
          "output_type": "display_data",
          "data": {
            "text/html": [
              "<pre>recommendations finished on 4000/62483 queries. users per second: 68845.6</pre>"
            ],
            "text/plain": [
              "recommendations finished on 4000/62483 queries. users per second: 68845.6"
            ]
          },
          "metadata": {}
        },
        {
          "output_type": "display_data",
          "data": {
            "text/html": [
              "<pre>recommendations finished on 5000/62483 queries. users per second: 69490.8</pre>"
            ],
            "text/plain": [
              "recommendations finished on 5000/62483 queries. users per second: 69490.8"
            ]
          },
          "metadata": {}
        },
        {
          "output_type": "display_data",
          "data": {
            "text/html": [
              "<pre>recommendations finished on 6000/62483 queries. users per second: 68188.8</pre>"
            ],
            "text/plain": [
              "recommendations finished on 6000/62483 queries. users per second: 68188.8"
            ]
          },
          "metadata": {}
        },
        {
          "output_type": "display_data",
          "data": {
            "text/html": [
              "<pre>recommendations finished on 7000/62483 queries. users per second: 67559.1</pre>"
            ],
            "text/plain": [
              "recommendations finished on 7000/62483 queries. users per second: 67559.1"
            ]
          },
          "metadata": {}
        },
        {
          "output_type": "display_data",
          "data": {
            "text/html": [
              "<pre>recommendations finished on 8000/62483 queries. users per second: 68001.2</pre>"
            ],
            "text/plain": [
              "recommendations finished on 8000/62483 queries. users per second: 68001.2"
            ]
          },
          "metadata": {}
        },
        {
          "output_type": "display_data",
          "data": {
            "text/html": [
              "<pre>recommendations finished on 9000/62483 queries. users per second: 68586.1</pre>"
            ],
            "text/plain": [
              "recommendations finished on 9000/62483 queries. users per second: 68586.1"
            ]
          },
          "metadata": {}
        },
        {
          "output_type": "display_data",
          "data": {
            "text/html": [
              "<pre>recommendations finished on 10000/62483 queries. users per second: 69016.4</pre>"
            ],
            "text/plain": [
              "recommendations finished on 10000/62483 queries. users per second: 69016.4"
            ]
          },
          "metadata": {}
        },
        {
          "output_type": "display_data",
          "data": {
            "text/html": [
              "<pre>recommendations finished on 11000/62483 queries. users per second: 66031.6</pre>"
            ],
            "text/plain": [
              "recommendations finished on 11000/62483 queries. users per second: 66031.6"
            ]
          },
          "metadata": {}
        },
        {
          "output_type": "display_data",
          "data": {
            "text/html": [
              "<pre>recommendations finished on 12000/62483 queries. users per second: 65298.7</pre>"
            ],
            "text/plain": [
              "recommendations finished on 12000/62483 queries. users per second: 65298.7"
            ]
          },
          "metadata": {}
        },
        {
          "output_type": "display_data",
          "data": {
            "text/html": [
              "<pre>recommendations finished on 13000/62483 queries. users per second: 66057.6</pre>"
            ],
            "text/plain": [
              "recommendations finished on 13000/62483 queries. users per second: 66057.6"
            ]
          },
          "metadata": {}
        },
        {
          "output_type": "display_data",
          "data": {
            "text/html": [
              "<pre>recommendations finished on 14000/62483 queries. users per second: 66164.8</pre>"
            ],
            "text/plain": [
              "recommendations finished on 14000/62483 queries. users per second: 66164.8"
            ]
          },
          "metadata": {}
        },
        {
          "output_type": "display_data",
          "data": {
            "text/html": [
              "<pre>recommendations finished on 15000/62483 queries. users per second: 64600</pre>"
            ],
            "text/plain": [
              "recommendations finished on 15000/62483 queries. users per second: 64600"
            ]
          },
          "metadata": {}
        },
        {
          "output_type": "display_data",
          "data": {
            "text/html": [
              "<pre>recommendations finished on 16000/62483 queries. users per second: 64015.1</pre>"
            ],
            "text/plain": [
              "recommendations finished on 16000/62483 queries. users per second: 64015.1"
            ]
          },
          "metadata": {}
        },
        {
          "output_type": "display_data",
          "data": {
            "text/html": [
              "<pre>recommendations finished on 17000/62483 queries. users per second: 64299</pre>"
            ],
            "text/plain": [
              "recommendations finished on 17000/62483 queries. users per second: 64299"
            ]
          },
          "metadata": {}
        },
        {
          "output_type": "display_data",
          "data": {
            "text/html": [
              "<pre>recommendations finished on 18000/62483 queries. users per second: 64438.3</pre>"
            ],
            "text/plain": [
              "recommendations finished on 18000/62483 queries. users per second: 64438.3"
            ]
          },
          "metadata": {}
        },
        {
          "output_type": "display_data",
          "data": {
            "text/html": [
              "<pre>recommendations finished on 19000/62483 queries. users per second: 64792.2</pre>"
            ],
            "text/plain": [
              "recommendations finished on 19000/62483 queries. users per second: 64792.2"
            ]
          },
          "metadata": {}
        },
        {
          "output_type": "display_data",
          "data": {
            "text/html": [
              "<pre>recommendations finished on 20000/62483 queries. users per second: 64922</pre>"
            ],
            "text/plain": [
              "recommendations finished on 20000/62483 queries. users per second: 64922"
            ]
          },
          "metadata": {}
        },
        {
          "output_type": "display_data",
          "data": {
            "text/html": [
              "<pre>recommendations finished on 21000/62483 queries. users per second: 65607.8</pre>"
            ],
            "text/plain": [
              "recommendations finished on 21000/62483 queries. users per second: 65607.8"
            ]
          },
          "metadata": {}
        },
        {
          "output_type": "display_data",
          "data": {
            "text/html": [
              "<pre>recommendations finished on 22000/62483 queries. users per second: 65542.5</pre>"
            ],
            "text/plain": [
              "recommendations finished on 22000/62483 queries. users per second: 65542.5"
            ]
          },
          "metadata": {}
        },
        {
          "output_type": "display_data",
          "data": {
            "text/html": [
              "<pre>recommendations finished on 23000/62483 queries. users per second: 65710.9</pre>"
            ],
            "text/plain": [
              "recommendations finished on 23000/62483 queries. users per second: 65710.9"
            ]
          },
          "metadata": {}
        },
        {
          "output_type": "display_data",
          "data": {
            "text/html": [
              "<pre>recommendations finished on 24000/62483 queries. users per second: 65831.3</pre>"
            ],
            "text/plain": [
              "recommendations finished on 24000/62483 queries. users per second: 65831.3"
            ]
          },
          "metadata": {}
        },
        {
          "output_type": "display_data",
          "data": {
            "text/html": [
              "<pre>recommendations finished on 25000/62483 queries. users per second: 65985.3</pre>"
            ],
            "text/plain": [
              "recommendations finished on 25000/62483 queries. users per second: 65985.3"
            ]
          },
          "metadata": {}
        },
        {
          "output_type": "display_data",
          "data": {
            "text/html": [
              "<pre>recommendations finished on 26000/62483 queries. users per second: 65553.3</pre>"
            ],
            "text/plain": [
              "recommendations finished on 26000/62483 queries. users per second: 65553.3"
            ]
          },
          "metadata": {}
        },
        {
          "output_type": "display_data",
          "data": {
            "text/html": [
              "<pre>recommendations finished on 27000/62483 queries. users per second: 65253.8</pre>"
            ],
            "text/plain": [
              "recommendations finished on 27000/62483 queries. users per second: 65253.8"
            ]
          },
          "metadata": {}
        },
        {
          "output_type": "display_data",
          "data": {
            "text/html": [
              "<pre>recommendations finished on 28000/62483 queries. users per second: 65222.3</pre>"
            ],
            "text/plain": [
              "recommendations finished on 28000/62483 queries. users per second: 65222.3"
            ]
          },
          "metadata": {}
        },
        {
          "output_type": "display_data",
          "data": {
            "text/html": [
              "<pre>recommendations finished on 29000/62483 queries. users per second: 65556.6</pre>"
            ],
            "text/plain": [
              "recommendations finished on 29000/62483 queries. users per second: 65556.6"
            ]
          },
          "metadata": {}
        },
        {
          "output_type": "display_data",
          "data": {
            "text/html": [
              "<pre>recommendations finished on 30000/62483 queries. users per second: 65483.9</pre>"
            ],
            "text/plain": [
              "recommendations finished on 30000/62483 queries. users per second: 65483.9"
            ]
          },
          "metadata": {}
        },
        {
          "output_type": "display_data",
          "data": {
            "text/html": [
              "<pre>recommendations finished on 31000/62483 queries. users per second: 65446.8</pre>"
            ],
            "text/plain": [
              "recommendations finished on 31000/62483 queries. users per second: 65446.8"
            ]
          },
          "metadata": {}
        },
        {
          "output_type": "display_data",
          "data": {
            "text/html": [
              "<pre>recommendations finished on 32000/62483 queries. users per second: 65119.1</pre>"
            ],
            "text/plain": [
              "recommendations finished on 32000/62483 queries. users per second: 65119.1"
            ]
          },
          "metadata": {}
        },
        {
          "output_type": "display_data",
          "data": {
            "text/html": [
              "<pre>recommendations finished on 33000/62483 queries. users per second: 65505.4</pre>"
            ],
            "text/plain": [
              "recommendations finished on 33000/62483 queries. users per second: 65505.4"
            ]
          },
          "metadata": {}
        },
        {
          "output_type": "display_data",
          "data": {
            "text/html": [
              "<pre>recommendations finished on 34000/62483 queries. users per second: 65508.5</pre>"
            ],
            "text/plain": [
              "recommendations finished on 34000/62483 queries. users per second: 65508.5"
            ]
          },
          "metadata": {}
        },
        {
          "output_type": "display_data",
          "data": {
            "text/html": [
              "<pre>recommendations finished on 35000/62483 queries. users per second: 65621.2</pre>"
            ],
            "text/plain": [
              "recommendations finished on 35000/62483 queries. users per second: 65621.2"
            ]
          },
          "metadata": {}
        },
        {
          "output_type": "display_data",
          "data": {
            "text/html": [
              "<pre>recommendations finished on 36000/62483 queries. users per second: 65673.7</pre>"
            ],
            "text/plain": [
              "recommendations finished on 36000/62483 queries. users per second: 65673.7"
            ]
          },
          "metadata": {}
        },
        {
          "output_type": "display_data",
          "data": {
            "text/html": [
              "<pre>recommendations finished on 37000/62483 queries. users per second: 65966.1</pre>"
            ],
            "text/plain": [
              "recommendations finished on 37000/62483 queries. users per second: 65966.1"
            ]
          },
          "metadata": {}
        },
        {
          "output_type": "display_data",
          "data": {
            "text/html": [
              "<pre>recommendations finished on 38000/62483 queries. users per second: 65956</pre>"
            ],
            "text/plain": [
              "recommendations finished on 38000/62483 queries. users per second: 65956"
            ]
          },
          "metadata": {}
        },
        {
          "output_type": "display_data",
          "data": {
            "text/html": [
              "<pre>recommendations finished on 39000/62483 queries. users per second: 65740.2</pre>"
            ],
            "text/plain": [
              "recommendations finished on 39000/62483 queries. users per second: 65740.2"
            ]
          },
          "metadata": {}
        },
        {
          "output_type": "display_data",
          "data": {
            "text/html": [
              "<pre>recommendations finished on 40000/62483 queries. users per second: 65795</pre>"
            ],
            "text/plain": [
              "recommendations finished on 40000/62483 queries. users per second: 65795"
            ]
          },
          "metadata": {}
        },
        {
          "output_type": "display_data",
          "data": {
            "text/html": [
              "<pre>recommendations finished on 41000/62483 queries. users per second: 66081.8</pre>"
            ],
            "text/plain": [
              "recommendations finished on 41000/62483 queries. users per second: 66081.8"
            ]
          },
          "metadata": {}
        },
        {
          "output_type": "display_data",
          "data": {
            "text/html": [
              "<pre>recommendations finished on 42000/62483 queries. users per second: 66059.8</pre>"
            ],
            "text/plain": [
              "recommendations finished on 42000/62483 queries. users per second: 66059.8"
            ]
          },
          "metadata": {}
        },
        {
          "output_type": "display_data",
          "data": {
            "text/html": [
              "<pre>recommendations finished on 43000/62483 queries. users per second: 65834.5</pre>"
            ],
            "text/plain": [
              "recommendations finished on 43000/62483 queries. users per second: 65834.5"
            ]
          },
          "metadata": {}
        },
        {
          "output_type": "display_data",
          "data": {
            "text/html": [
              "<pre>recommendations finished on 44000/62483 queries. users per second: 65993.1</pre>"
            ],
            "text/plain": [
              "recommendations finished on 44000/62483 queries. users per second: 65993.1"
            ]
          },
          "metadata": {}
        },
        {
          "output_type": "display_data",
          "data": {
            "text/html": [
              "<pre>recommendations finished on 45000/62483 queries. users per second: 66023.5</pre>"
            ],
            "text/plain": [
              "recommendations finished on 45000/62483 queries. users per second: 66023.5"
            ]
          },
          "metadata": {}
        },
        {
          "output_type": "display_data",
          "data": {
            "text/html": [
              "<pre>recommendations finished on 46000/62483 queries. users per second: 66201.5</pre>"
            ],
            "text/plain": [
              "recommendations finished on 46000/62483 queries. users per second: 66201.5"
            ]
          },
          "metadata": {}
        },
        {
          "output_type": "display_data",
          "data": {
            "text/html": [
              "<pre>recommendations finished on 47000/62483 queries. users per second: 66087.9</pre>"
            ],
            "text/plain": [
              "recommendations finished on 47000/62483 queries. users per second: 66087.9"
            ]
          },
          "metadata": {}
        },
        {
          "output_type": "display_data",
          "data": {
            "text/html": [
              "<pre>recommendations finished on 48000/62483 queries. users per second: 65921</pre>"
            ],
            "text/plain": [
              "recommendations finished on 48000/62483 queries. users per second: 65921"
            ]
          },
          "metadata": {}
        },
        {
          "output_type": "display_data",
          "data": {
            "text/html": [
              "<pre>recommendations finished on 49000/62483 queries. users per second: 65994.3</pre>"
            ],
            "text/plain": [
              "recommendations finished on 49000/62483 queries. users per second: 65994.3"
            ]
          },
          "metadata": {}
        },
        {
          "output_type": "display_data",
          "data": {
            "text/html": [
              "<pre>recommendations finished on 50000/62483 queries. users per second: 65971.1</pre>"
            ],
            "text/plain": [
              "recommendations finished on 50000/62483 queries. users per second: 65971.1"
            ]
          },
          "metadata": {}
        },
        {
          "output_type": "display_data",
          "data": {
            "text/html": [
              "<pre>recommendations finished on 51000/62483 queries. users per second: 66026.2</pre>"
            ],
            "text/plain": [
              "recommendations finished on 51000/62483 queries. users per second: 66026.2"
            ]
          },
          "metadata": {}
        },
        {
          "output_type": "display_data",
          "data": {
            "text/html": [
              "<pre>recommendations finished on 52000/62483 queries. users per second: 65837.4</pre>"
            ],
            "text/plain": [
              "recommendations finished on 52000/62483 queries. users per second: 65837.4"
            ]
          },
          "metadata": {}
        },
        {
          "output_type": "display_data",
          "data": {
            "text/html": [
              "<pre>recommendations finished on 53000/62483 queries. users per second: 65632.7</pre>"
            ],
            "text/plain": [
              "recommendations finished on 53000/62483 queries. users per second: 65632.7"
            ]
          },
          "metadata": {}
        },
        {
          "output_type": "display_data",
          "data": {
            "text/html": [
              "<pre>recommendations finished on 54000/62483 queries. users per second: 65735</pre>"
            ],
            "text/plain": [
              "recommendations finished on 54000/62483 queries. users per second: 65735"
            ]
          },
          "metadata": {}
        },
        {
          "output_type": "display_data",
          "data": {
            "text/html": [
              "<pre>recommendations finished on 55000/62483 queries. users per second: 65573.2</pre>"
            ],
            "text/plain": [
              "recommendations finished on 55000/62483 queries. users per second: 65573.2"
            ]
          },
          "metadata": {}
        },
        {
          "output_type": "display_data",
          "data": {
            "text/html": [
              "<pre>recommendations finished on 56000/62483 queries. users per second: 65426.7</pre>"
            ],
            "text/plain": [
              "recommendations finished on 56000/62483 queries. users per second: 65426.7"
            ]
          },
          "metadata": {}
        },
        {
          "output_type": "display_data",
          "data": {
            "text/html": [
              "<pre>recommendations finished on 57000/62483 queries. users per second: 65439.8</pre>"
            ],
            "text/plain": [
              "recommendations finished on 57000/62483 queries. users per second: 65439.8"
            ]
          },
          "metadata": {}
        },
        {
          "output_type": "display_data",
          "data": {
            "text/html": [
              "<pre>recommendations finished on 58000/62483 queries. users per second: 65540</pre>"
            ],
            "text/plain": [
              "recommendations finished on 58000/62483 queries. users per second: 65540"
            ]
          },
          "metadata": {}
        },
        {
          "output_type": "display_data",
          "data": {
            "text/html": [
              "<pre>recommendations finished on 59000/62483 queries. users per second: 65335.7</pre>"
            ],
            "text/plain": [
              "recommendations finished on 59000/62483 queries. users per second: 65335.7"
            ]
          },
          "metadata": {}
        },
        {
          "output_type": "display_data",
          "data": {
            "text/html": [
              "<pre>recommendations finished on 60000/62483 queries. users per second: 65013</pre>"
            ],
            "text/plain": [
              "recommendations finished on 60000/62483 queries. users per second: 65013"
            ]
          },
          "metadata": {}
        },
        {
          "output_type": "display_data",
          "data": {
            "text/html": [
              "<pre>recommendations finished on 61000/62483 queries. users per second: 64813.2</pre>"
            ],
            "text/plain": [
              "recommendations finished on 61000/62483 queries. users per second: 64813.2"
            ]
          },
          "metadata": {}
        },
        {
          "output_type": "display_data",
          "data": {
            "text/html": [
              "<pre>recommendations finished on 62000/62483 queries. users per second: 64639.8</pre>"
            ],
            "text/plain": [
              "recommendations finished on 62000/62483 queries. users per second: 64639.8"
            ]
          },
          "metadata": {}
        },
        {
          "output_type": "stream",
          "name": "stdout",
          "text": [
            "+------------+-----------+---------------------+------+\n",
            "| customerId | productId |        score        | rank |\n",
            "+------------+-----------+---------------------+------+\n",
            "|     0      |    226    |  0.779349954406526  |  1   |\n",
            "|     0      |    247    |  0.3278661666469165 |  2   |\n",
            "|     0      |    230    |  0.3249692533731874 |  3   |\n",
            "|     0      |    125    | 0.24846546526793603 |  4   |\n",
            "|     0      |    248    |  0.2470949742343877 |  5   |\n",
            "|     0      |    294    |  0.2432356828800162 |  6   |\n",
            "|     0      |    204    | 0.22412753065863808 |  7   |\n",
            "|     0      |    213    | 0.22256205581192287 |  8   |\n",
            "|     0      |     72    |  0.2190715616167566 |  9   |\n",
            "|     0      |    165    | 0.21805415468386727 |  10  |\n",
            "|     1      |    226    |  0.7790841750029862 |  1   |\n",
            "|     1      |    247    | 0.32770735436932436 |  2   |\n",
            "|     1      |    230    |  0.3248712472897723 |  3   |\n",
            "|     1      |    125    | 0.24849390528031765 |  4   |\n",
            "|     1      |    248    | 0.24431818181818193 |  5   |\n",
            "|     1      |    294    | 0.24326609557689127 |  6   |\n",
            "|     1      |    204    |  0.2240944228575125 |  7   |\n",
            "|     1      |    213    | 0.22228152511848354 |  8   |\n",
            "|     1      |     72    | 0.21856822388961336 |  9   |\n",
            "|     1      |     83    | 0.21789502533964625 |  10  |\n",
            "|     2      |    226    |  0.7793103448275864 |  1   |\n",
            "|     2      |    247    |  0.327823691460055  |  2   |\n",
            "|     2      |    230    | 0.32481203007518794 |  3   |\n",
            "|     2      |    125    |  0.2483770280224937 |  4   |\n",
            "|     2      |    248    | 0.24431818181818193 |  5   |\n",
            "|     2      |    294    | 0.24328358208955225 |  6   |\n",
            "|     2      |    204    |  0.2246887022759015 |  7   |\n",
            "|     2      |    213    | 0.22226597203148746 |  8   |\n",
            "|     2      |     72    |  0.2185999956488055 |  9   |\n",
            "|     2      |     83    | 0.21790694502683788 |  10  |\n",
            "+------------+-----------+---------------------+------+\n",
            "[624830 rows x 4 columns]\n",
            "\n"
          ]
        }
      ]
    },
    {
      "cell_type": "code",
      "metadata": {
        "id": "u7vUrO2ByjOk"
      },
      "source": [
        ""
      ],
      "execution_count": null,
      "outputs": []
    }
  ]
}